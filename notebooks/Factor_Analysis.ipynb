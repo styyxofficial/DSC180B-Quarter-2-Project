{
 "cells": [
  {
   "cell_type": "markdown",
   "metadata": {},
   "source": [
    "Author: Aryan Singh \\\n",
    "This file is ultimately what we are submitting for the checkpoint as it the most working version of the code out of all of us. However, everyone will be submitting their code along side this as well.\n",
    "I think the objective is to obtain a factor loading matrix. It has no rotations applied on it, however, that would be the next [logical step.](https://stats.oarc.ucla.edu/spss/seminars/introduction-to-factor-analysis/a-practical-introduction-to-factor-analysis/)"
   ]
  },
  {
   "cell_type": "markdown",
   "metadata": {},
   "source": [
    "### Steps for Factor Analysis using EM\n",
    "Step 1: Generate data using z, W, $\\mu$, $\\psi$. Dimensionality should be prime numbers so that its easier to debug.\n",
    "\n",
    "First I have to create a set of observations that I will test on. Based on a factor analysis model, this set of observations X will have have latent variables z. I can start with z to create a set of observations X based on a linear transformation W, centering at $\\mu$ and adding noise $\\psi$. Then when I apply factor analysis to X, I can evaluate my models correctness on if $WW^T = W'W'^T$, and $\\psi\\psi^T = \\psi'\\psi'^T$"
   ]
  },
  {
   "cell_type": "code",
   "execution_count": 1,
   "metadata": {},
   "outputs": [],
   "source": [
    "import numpy as np\n",
    "import pandas as pd\n",
    "import matplotlib.pyplot as plt\n",
    "from numpy.linalg import inv, det\n",
    "from sklearn.linear_model import LinearRegression "
   ]
  },
  {
   "cell_type": "code",
   "execution_count": 2,
   "metadata": {},
   "outputs": [],
   "source": [
    "N = 103  # Number of observations\n",
    "M = 3  # Number of latent variables\n",
    "D = 7 # Number of dimensions of X"
   ]
  },
  {
   "cell_type": "markdown",
   "metadata": {},
   "source": [
    "First I create z"
   ]
  },
  {
   "cell_type": "markdown",
   "metadata": {},
   "source": []
  },
  {
   "cell_type": "code",
   "execution_count": 3,
   "metadata": {},
   "outputs": [
    {
     "data": {
      "text/plain": [
       "array([[ 0.13344444,  0.45643535, -0.4803033 ],\n",
       "       [-0.19031946,  2.54497609, -0.91342399],\n",
       "       [ 0.7224282 ,  0.43027718,  0.36101883],\n",
       "       [-0.68248626, -0.13670232,  0.99401432],\n",
       "       [ 1.29068734, -0.26409537, -0.2844255 ]])"
      ]
     },
     "execution_count": 3,
     "metadata": {},
     "output_type": "execute_result"
    }
   ],
   "source": [
    "z = np.random.normal(0, 1, size=(N, M))\n",
    "z[:5]"
   ]
  },
  {
   "cell_type": "code",
   "execution_count": 4,
   "metadata": {},
   "outputs": [
    {
     "data": {
      "text/plain": [
       "<matplotlib.collections.PathCollection at 0x7fbbe2e11be0>"
      ]
     },
     "execution_count": 4,
     "metadata": {},
     "output_type": "execute_result"
    },
    {
     "data": {
      "image/png": "[encoded data removed]",
      "text/plain": [
       "<Figure size 640x480 with 1 Axes>"
      ]
     },
     "metadata": {},
     "output_type": "display_data"
    }
   ],
   "source": [
    "plt.scatter(z[:,0], z[:,1])"
   ]
  },
  {
   "cell_type": "markdown",
   "metadata": {},
   "source": [
    "Now I apply a set of transformations W to get X. I want X to be a (103, 7) matrix, which means W has to be (7, 3). I will also add some mean $\\mu$ and $\\psi$ to add noise"
   ]
  },
  {
   "cell_type": "code",
   "execution_count": 22,
   "metadata": {},
   "outputs": [
    {
     "data": {
      "text/plain": [
       "array([[ 4.98966944,  2.29332578,  7.78471058, 11.30258207,  0.9349546 ,\n",
       "         3.76944934,  3.39208038],\n",
       "       [ 3.91413445,  4.86059851, 17.49610423, 14.92156466,  3.14970819,\n",
       "         5.41547239, 16.87560671],\n",
       "       [13.85578772, 16.35421605, 19.02303293, 16.66789884,  9.49695696,\n",
       "         6.5291111 ,  7.36622402],\n",
       "       [14.21913098,  5.31493809,  1.63191709,  7.82431719,  6.43718403,\n",
       "         2.89683039,  2.53795781],\n",
       "       [ 7.40404739,  8.79771519, 13.32994352, 18.6337765 ,  5.6347562 ,\n",
       "        12.91870653,  3.24037165]])"
      ]
     },
     "execution_count": 22,
     "metadata": {},
     "output_type": "execute_result"
    }
   ],
   "source": [
    "W = np.array([[2, 3, 9], [9, 6, 10], [10, 9, 8], [7, 3, 2], [4, 2, 7], [7, 1, 1], [2, 7, 3]])\n",
    "u = np.array([8, 2, 6, 10, 3, 5, 2])\n",
    "\n",
    "# based on Mikio SNR, use high lambdas\n",
    "# I will use low lambdas\n",
    "psi = np.diag([1, 3, 2, 1, 2, 3, 1]) # Low lambdas (noise) causes weights plot to have a slope of 1\n",
    "# psi = np.diag([10, 30, 20, 10, 20, 30, 10]) # High lambdas (noise) causes weights plot to not have a slope of 1\n",
    "\n",
    "noise_ = np.random.multivariate_normal(u, psi, size=(N,))\n",
    "\n",
    "\n",
    "X = (W @ z.T).T + noise_\n",
    "\n",
    "X[:5]"
   ]
  },
  {
   "cell_type": "markdown",
   "metadata": {},
   "source": [
    "I will use the \"_L\" suffix to denote learned variables. We are going to start with randomly initialized variables."
   ]
  },
  {
   "cell_type": "code",
   "execution_count": 6,
   "metadata": {},
   "outputs": [],
   "source": [
    "mu_x = np.mean(X, axis=0).reshape(-1, 1)\n",
    "W_L = np.random.normal(0, 1, size=(X.shape[1], M))\n",
    "psi_L = np.diag(np.random.uniform(low=0, high=1, size=X.shape[1]))\n",
    "G = inv(np.eye(M) + W_L.T @ inv(psi_L) @ W_L)"
   ]
  },
  {
   "cell_type": "markdown",
   "metadata": {},
   "source": [
    "Expectation Step"
   ]
  },
  {
   "cell_type": "code",
   "execution_count": 7,
   "metadata": {},
   "outputs": [],
   "source": [
    "Ez_L = np.empty(X.shape[0], dtype=object)\n",
    "Ezzt_L = np.empty(X.shape[0], dtype=object)"
   ]
  },
  {
   "cell_type": "code",
   "execution_count": 8,
   "metadata": {},
   "outputs": [],
   "source": [
    "for i in range(0, X.shape[0]):\n",
    "    Ez_L[i] = G @ W_L.T @ inv(psi_L) @ (X[i].reshape(-1, 1) - mu_x)\n",
    "    Ezzt_L[i] = G + Ez_L[i] @ Ez_L[i].T"
   ]
  },
  {
   "cell_type": "markdown",
   "metadata": {},
   "source": [
    "Maximization Step"
   ]
  },
  {
   "cell_type": "code",
   "execution_count": 9,
   "metadata": {},
   "outputs": [],
   "source": [
    "# Compute new W\n",
    "\n",
    "w_sum1 = np.zeros(shape=(X.shape[1], M))\n",
    "\n",
    "for i in range(X.shape[0]):\n",
    "    w_sum1 += (X[i].reshape(-1, 1) - mu_x) @ Ez_L[i].T\n",
    "\n",
    "W_L = w_sum1 @ inv(Ezzt_L.sum(axis=0))\n"
   ]
  },
  {
   "cell_type": "code",
   "execution_count": 10,
   "metadata": {},
   "outputs": [],
   "source": [
    "# Compute new psi. Assuming S is the sample covariance.\n",
    "\n",
    "psi_sum1 = np.zeros(shape=(M, X.shape[1]))\n",
    "\n",
    "for i in range(X.shape[0]):\n",
    "    psi_sum1 += Ez_L[i] @ (X[i].reshape(-1, 1) - mu_x).T\n",
    "    \n",
    "psi_L = np.diag(np.diag(np.cov(X.T) - (1/N) * W_L @ psi_sum1))"
   ]
  },
  {
   "cell_type": "markdown",
   "metadata": {},
   "source": [
    "### Calculate Likelihood\n",
    "Here I will define a method to calculate likelihood so that we can measure it over the epochs"
   ]
  },
  {
   "cell_type": "code",
   "execution_count": 11,
   "metadata": {},
   "outputs": [],
   "source": [
    "def likelihood():\n",
    "    C = W_L @ W_L.T + psi_L\n",
    "    return -(N/2) * (np.log(det(C)) + np.trace(np.cov(X.T) * inv(C)))"
   ]
  },
  {
   "cell_type": "markdown",
   "metadata": {},
   "source": [
    "Now we can put it all together to try and see how close our estimation was to the real W"
   ]
  },
  {
   "cell_type": "code",
   "execution_count": 12,
   "metadata": {},
   "outputs": [],
   "source": [
    "epochs = 250  # Number of iterations to run EM\n",
    "M = 3  # Number of latent variables\n",
    "\n",
    "mu_x = np.mean(X, axis=0).reshape(-1, 1)\n",
    "W_L = np.random.uniform(low=-5, high=5, size=(X.shape[1], M))\n",
    "psi_L = np.diag(np.random.uniform(low=0, high=1, size=X.shape[1]))\n",
    "likelihoods = np.zeros(shape=epochs)\n",
    "\n",
    "for i in range(epochs):\n",
    "    # Expectation Step\n",
    "    Ez_L = np.empty(X.shape[0], dtype=object)\n",
    "    Ezzt_L = np.empty(X.shape[0], dtype=object)\n",
    "    G = inv(np.eye(M) + W_L.T @ inv(psi_L) @ W_L)\n",
    "    \n",
    "    for j in range(0, X.shape[0]):\n",
    "        Ez_L[j] = G @ W_L.T @ inv(psi_L) @ (X[j].reshape(-1, 1) - mu_x)\n",
    "        Ezzt_L[j] = G + Ez_L[j] @ Ez_L[j].T\n",
    "        \n",
    "        \n",
    "    # Compute new W\n",
    "\n",
    "    w_sum1 = np.zeros(shape=(X.shape[1], M))\n",
    "\n",
    "    for j in range(X.shape[0]):\n",
    "        w_sum1 += (X[j].reshape(-1, 1) - mu_x) @ Ez_L[j].T\n",
    "\n",
    "    W_L = w_sum1 @ inv(Ezzt_L.sum(axis=0))\n",
    "    \n",
    "    \n",
    "    # Compute new psi. Assuming S is the sample covariance.\n",
    "\n",
    "    psi_sum1 = np.zeros(shape=(M, X.shape[1]))\n",
    "\n",
    "    for j in range(X.shape[0]):\n",
    "        psi_sum1 += Ez_L[j] @ (X[j].reshape(-1, 1) - mu_x).T\n",
    "        \n",
    "    psi_L = np.diag(np.diag(np.cov(X.T) - (1/N) * W_L @ psi_sum1))\n",
    "    \n",
    "    likelihoods[i] = likelihood()"
   ]
  },
  {
   "cell_type": "code",
   "execution_count": 13,
   "metadata": {},
   "outputs": [
    {
     "data": {
      "text/plain": [
       "(array([[ -5.64245166,   4.29152753,   4.86127079],\n",
       "        [-10.62708762,   1.10240035,   8.82805431],\n",
       "        [ -9.7828345 ,  -1.66278175,  10.90595699],\n",
       "        [ -5.85497819,  -2.61755251,   4.25002568],\n",
       "        [ -6.34312403,   2.46516805,   4.25369876],\n",
       "        [ -5.85249361,  -3.01155949,   2.6076718 ],\n",
       "        [ -1.98245563,  -0.97677863,   6.52763891]]),\n",
       " array([[ 2,  3,  9],\n",
       "        [ 9,  6, 10],\n",
       "        [10,  9,  8],\n",
       "        [ 7,  3,  2],\n",
       "        [ 4,  2,  7],\n",
       "        [ 7,  1,  1],\n",
       "        [ 2,  7,  3]]))"
      ]
     },
     "execution_count": 13,
     "metadata": {},
     "output_type": "execute_result"
    }
   ],
   "source": [
    "W_L, W"
   ]
  },
  {
   "cell_type": "markdown",
   "metadata": {},
   "source": [
    "### Check if W and $\\psi$ are correct\n",
    "First get $WW^T$ and $W'W'^T$ and flatten them. Then plot them. Their slope should equal 1 if our EM model is correct"
   ]
  },
  {
   "cell_type": "code",
   "execution_count": 14,
   "metadata": {},
   "outputs": [
    {
     "name": "stdout",
     "output_type": "stream",
     "text": [
      "Slope:  0.8508752144273237\n",
      "Intercept:  6.088960480712785\n"
     ]
    },
    {
     "data": {
      "text/plain": [
       "<matplotlib.collections.PathCollection at 0x23217cfb3a0>"
      ]
     },
     "execution_count": 14,
     "metadata": {},
     "output_type": "execute_result"
    },
    {
     "data": {
      "image/png": "[encoded data removed]",
      "text/plain": [
       "<Figure size 432x288 with 1 Axes>"
      ]
     },
     "metadata": {
      "needs_background": "light"
     },
     "output_type": "display_data"
    }
   ],
   "source": [
    "mdl = LinearRegression().fit(np.ndarray.flatten(W @ W.T).reshape(-1, 1), np.ndarray.flatten(W_L @ W_L.T))\n",
    "print(\"Slope: \", mdl.coef_[0])\n",
    "print(\"Intercept: \", mdl.intercept_)\n",
    "\n",
    "plt.scatter(x=np.ndarray.flatten(W @ W.T), y=np.ndarray.flatten(W_L @ W_L.T))"
   ]
  },
  {
   "cell_type": "markdown",
   "metadata": {},
   "source": [
    "Since our slope is 1, we are confident that the Weights portion of our EM is correct"
   ]
  },
  {
   "cell_type": "code",
   "execution_count": 15,
   "metadata": {},
   "outputs": [
    {
     "name": "stdout",
     "output_type": "stream",
     "text": [
      "Slope:  0.9681030585570354\n",
      "Intercept:  -0.15994503807696958\n"
     ]
    },
    {
     "data": {
      "text/plain": [
       "<matplotlib.collections.PathCollection at 0x23217d7e2b0>"
      ]
     },
     "execution_count": 15,
     "metadata": {},
     "output_type": "execute_result"
    },
    {
     "data": {
      "image/png": "[encoded data removed]",
      "text/plain": [
       "<Figure size 432x288 with 1 Axes>"
      ]
     },
     "metadata": {
      "needs_background": "light"
     },
     "output_type": "display_data"
    }
   ],
   "source": [
    "mdl = LinearRegression().fit(np.ndarray.flatten(np.cov(X.T)).reshape(-1, 1), np.ndarray.flatten(W_L @ W_L.T + psi_L))\n",
    "print(\"Slope: \", mdl.coef_[0])\n",
    "print(\"Intercept: \", mdl.intercept_)\n",
    "\n",
    "plt.scatter(x=np.ndarray.flatten(np.cov(X.T)), y=np.ndarray.flatten(W_L @ W_L.T + psi_L))"
   ]
  },
  {
   "cell_type": "markdown",
   "metadata": {},
   "source": [
    "The model we fit is $\\Sigma = W'W'^T + \\psi$ \\\n",
    "The evaluation criteria we are using here is $W'W'^T + \\psi = S$. \\\n",
    "We can measure the slope or residual between these 2 variables to see how well our model is performing.\n",
    "This evaluation criteria is from page 6 of Statistics of Factor Analysis"
   ]
  },
  {
   "cell_type": "markdown",
   "metadata": {},
   "source": [
    "### Evaluate Likelihood over epochs\n",
    "Graph of negative log likelihood (neglecting terms constant with respect to $\\psi$)"
   ]
  },
  {
   "cell_type": "code",
   "execution_count": 16,
   "metadata": {},
   "outputs": [
    {
     "data": {
      "text/plain": [
       "<matplotlib.collections.PathCollection at 0x23217d469d0>"
      ]
     },
     "execution_count": 16,
     "metadata": {},
     "output_type": "execute_result"
    },
    {
     "data": {
      "image/png": "[encoded data removed]",
      "text/plain": [
       "<Figure size 432x288 with 1 Axes>"
      ]
     },
     "metadata": {
      "needs_background": "light"
     },
     "output_type": "display_data"
    }
   ],
   "source": [
    "plt.scatter(x= range(epochs), y= likelihoods)"
   ]
  },
  {
   "cell_type": "code",
   "execution_count": 17,
   "metadata": {},
   "outputs": [
    {
     "data": {
      "text/plain": [
       "array([-7231.78062109, -7231.79661204, -7231.81240742, -7231.8280097 ,\n",
       "       -7231.84342128])"
      ]
     },
     "execution_count": 17,
     "metadata": {},
     "output_type": "execute_result"
    }
   ],
   "source": [
    "likelihoods[-5:]"
   ]
  },
  {
   "cell_type": "markdown",
   "metadata": {},
   "source": [
    "### How did I make sure the coding was done correctly?\n",
    "For any problems I was having, I would look up the numpy documentation to see if the behavior I was getting was right.\n",
    "\n",
    "### How I made sure the math I was doing was correct?\n",
    "\n",
    "The biggest thing was to always make sure that my matrix dimensions were correct. After this, I just trusted the formulas in the book. I would also keep printing the output of steps along the way to make sure everything was correct.\n",
    "\n",
    "### How did I plan my coding to be right?\n",
    "My plan was to reverse engineer a set of latent weights. This way I had a concrete dataset that I could compare my output to, so that I could see if the model was working correctly. Other steps included using for loops instead of matrix operations. I understand matrix operations, however I do not understand the math enough to apply them to this scenario, so I stuck with loops to minimize any errors. I sacrifice run time, but it should have less problems."
   ]
  }
 ],
 "metadata": {
  "kernelspec": {
   "display_name": "Python 3.9.2 64-bit",
   "language": "python",
   "name": "python3"
  },
  "language_info": {
   "codemirror_mode": {
    "name": "ipython",
    "version": 3
   },
   "file_extension": ".py",
   "mimetype": "text/x-python",
   "name": "python",
   "nbconvert_exporter": "python",
   "pygments_lexer": "ipython3",
   "version": "3.9.2"
  },
  "orig_nbformat": 4,
  "vscode": {
   "interpreter": {
    "hash": "751fe810df084dd2570fdea6638cb644d6356c48800e3ea19fc62e6f6cdbc3c7"
   }
  }
 },
 "nbformat": 4,
 "nbformat_minor": 2
}
