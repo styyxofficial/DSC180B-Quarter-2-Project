{
 "cells": [
  {
   "cell_type": "code",
   "execution_count": null,
   "metadata": {},
   "outputs": [
    {
     "ename": "",
     "evalue": "",
     "output_type": "error",
     "traceback": [
      "\u001b[1;31mRunning cells with 'production' requires the ipykernel package.\n",
      "\u001b[1;31mRun the following command to install 'ipykernel' into the Python environment. \n",
      "\u001b[1;31mCommand: 'conda install -n production ipykernel --update-deps --force-reinstall'"
     ]
    }
   ],
   "source": [
    "from one.api import ONE\n",
    "from brainbox.io.one import SpikeSortingLoader\n",
    "from ibllib.atlas import AllenAtlas\n",
    "from brainbox.core import TimeSeries\n",
    "from brainbox.processing import bin_spikes\n",
    "\n",
    "# import jax.random\n",
    "from vlgpax.model import Session\n",
    "from vlgpax.kernel import RBF, RFF\n",
    "from vlgpax import vi\n",
    "from einops import rearrange\n",
    "from sklearn.preprocessing import StandardScaler\n",
    "\n",
    "import numpy as np\n",
    "import pandas as pd\n",
    "import matplotlib.pyplot as plt\n",
    "import plotly.express as px\n",
    "import random\n",
    "# import math"
   ]
  },
  {
   "attachments": {},
   "cell_type": "markdown",
   "metadata": {},
   "source": [
    "## EDA"
   ]
  },
  {
   "cell_type": "code",
   "execution_count": null,
   "metadata": {},
   "outputs": [
    {
     "ename": "",
     "evalue": "",
     "output_type": "error",
     "traceback": [
      "\u001b[1;31mRunning cells with 'production' requires the ipykernel package.\n",
      "\u001b[1;31mRun the following command to install 'ipykernel' into the Python environment. \n",
      "\u001b[1;31mCommand: 'conda install -n production ipykernel --update-deps --force-reinstall'"
     ]
    }
   ],
   "source": [
    "pw = 'international'\n",
    "one = ONE(base_url='https://openalyx.internationalbrainlab.org', password=pw, silent=True, cache_dir=r'C:\\Aryan\\4th Year\\Winter\\DSC 180B\\DSC180B-Quarter-2-Project\\data\\raw\\ONE', mode='local')\n",
    "# ba = AllenAtlas()\n",
    "pid = '73ff4936-8cd3-4a75-a772-f563e67d249d'\n",
    "eid = 'ebe2efe3-e8a1-451a-8947-76ef42427cc9' # one.pid2eid(pid)[0]"
   ]
  },
  {
   "cell_type": "code",
   "execution_count": null,
   "metadata": {},
   "outputs": [
    {
     "ename": "",
     "evalue": "",
     "output_type": "error",
     "traceback": [
      "\u001b[1;31mRunning cells with 'production' requires the ipykernel package.\n",
      "\u001b[1;31mRun the following command to install 'ipykernel' into the Python environment. \n",
      "\u001b[1;31mCommand: 'conda install -n production ipykernel --update-deps --force-reinstall'"
     ]
    }
   ],
   "source": [
    "eid"
   ]
  },
  {
   "cell_type": "code",
   "execution_count": null,
   "metadata": {},
   "outputs": [
    {
     "ename": "",
     "evalue": "",
     "output_type": "error",
     "traceback": [
      "\u001b[1;31mRunning cells with 'production' requires the ipykernel package.\n",
      "\u001b[1;31mRun the following command to install 'ipykernel' into the Python environment. \n",
      "\u001b[1;31mCommand: 'conda install -n production ipykernel --update-deps --force-reinstall'"
     ]
    }
   ],
   "source": [
    "import os"
   ]
  },
  {
   "cell_type": "code",
   "execution_count": null,
   "metadata": {},
   "outputs": [
    {
     "ename": "",
     "evalue": "",
     "output_type": "error",
     "traceback": [
      "\u001b[1;31mRunning cells with 'production' requires the ipykernel package.\n",
      "\u001b[1;31mRun the following command to install 'ipykernel' into the Python environment. \n",
      "\u001b[1;31mCommand: 'conda install -n production ipykernel --update-deps --force-reinstall'"
     ]
    }
   ],
   "source": [
    "os.getcwd() # C:\\Aryan\\4th Year\\Winter\\DSC 180B\\DSC180B-Quarter-2-Project\\data\\raw"
   ]
  },
  {
   "cell_type": "code",
   "execution_count": null,
   "metadata": {},
   "outputs": [
    {
     "ename": "",
     "evalue": "",
     "output_type": "error",
     "traceback": [
      "\u001b[1;31mRunning cells with 'production' requires the ipykernel package.\n",
      "\u001b[1;31mRun the following command to install 'ipykernel' into the Python environment. \n",
      "\u001b[1;31mCommand: 'conda install -n production ipykernel --update-deps --force-reinstall'"
     ]
    }
   ],
   "source": []
  },
  {
   "cell_type": "code",
   "execution_count": null,
   "metadata": {},
   "outputs": [
    {
     "ename": "",
     "evalue": "",
     "output_type": "error",
     "traceback": [
      "\u001b[1;31mRunning cells with 'production' requires the ipykernel package.\n",
      "\u001b[1;31mRun the following command to install 'ipykernel' into the Python environment. \n",
      "\u001b[1;31mCommand: 'conda install -n production ipykernel --update-deps --force-reinstall'"
     ]
    }
   ],
   "source": [
    "# sl = SpikeSortingLoader(pid=pid, one=one, atlas=ba)\n",
    "# sl = SpikeSortingLoader(eid=eid, one=one)\n",
    "sl = SpikeSortingLoader(one=one, eid=eid, pname='probe00')\n",
    "# sl = SpikeSortingLoader(session_path=\"C:/Aryan4th Year/Winter/DSC 180B/DSC180B-Quarter-2-Project/data/raw/ONE/angelakilab/\", one=one)\n",
    "spikes, clusters, channels = sl.load_spike_sorting()\n",
    "clusters = sl.merge_clusters(spikes, clusters, channels)\n",
    "trials = one.load_object(eid, 'trials', collection='alf')"
   ]
  },
  {
   "cell_type": "code",
   "execution_count": null,
   "metadata": {},
   "outputs": [
    {
     "ename": "",
     "evalue": "",
     "output_type": "error",
     "traceback": [
      "\u001b[1;31mRunning cells with 'production' requires the ipykernel package.\n",
      "\u001b[1;31mRun the following command to install 'ipykernel' into the Python environment. \n",
      "\u001b[1;31mCommand: 'conda install -n production ipykernel --update-deps --force-reinstall'"
     ]
    }
   ],
   "source": [
    "sl.download_spike_sorting(path=\"C:\\\\Users\\\\asing\\\\Downloads\\\\\")"
   ]
  },
  {
   "cell_type": "code",
   "execution_count": null,
   "metadata": {},
   "outputs": [
    {
     "ename": "",
     "evalue": "",
     "output_type": "error",
     "traceback": [
      "\u001b[1;31mRunning cells with 'production' requires the ipykernel package.\n",
      "\u001b[1;31mRun the following command to install 'ipykernel' into the Python environment. \n",
      "\u001b[1;31mCommand: 'conda install -n production ipykernel --update-deps --force-reinstall'"
     ]
    }
   ],
   "source": [
    "sl.raster(spikes, channels)"
   ]
  },
  {
   "attachments": {},
   "cell_type": "markdown",
   "metadata": {},
   "source": [
    "### Data Cleaning\n",
    "1) Filter data for only good clusters (should indicate single neurons), and for brain regions MOp and MOs\n",
    "2) Group spikes by neurons\n",
    "3) Split data across trials\n",
    "4) Bin spike times for each neuron, for each trial"
   ]
  },
  {
   "cell_type": "code",
   "execution_count": null,
   "metadata": {},
   "outputs": [
    {
     "ename": "",
     "evalue": "",
     "output_type": "error",
     "traceback": [
      "\u001b[1;31mRunning cells with 'production' requires the ipykernel package.\n",
      "\u001b[1;31mRun the following command to install 'ipykernel' into the Python environment. \n",
      "\u001b[1;31mCommand: 'conda install -n production ipykernel --update-deps --force-reinstall'"
     ]
    }
   ],
   "source": [
    "# good_clusterIDs = clusters['cluster_id'][((clusters['label'] == 1) & ([True if \"MO\" in s else False for s in clusters['acronym']]))] # Find good clusters that are in MOp and MOs\n",
    "# good_clusterIDs = clusters['cluster_id'][clusters['label'] == 1] # Find good clusters that are in MOp and MOs\n",
    "good_clusterIDs = clusters['cluster_id'][((clusters['label'] > 0.5) & ([True if \"MO\" in s else False for s in clusters['acronym']]))] # Find good clusters that are in MOp and MOs\n",
    "good_cluster_loc = np.isin(spikes['clusters'], good_clusterIDs) "
   ]
  },
  {
   "cell_type": "code",
   "execution_count": null,
   "metadata": {},
   "outputs": [
    {
     "ename": "",
     "evalue": "",
     "output_type": "error",
     "traceback": [
      "\u001b[1;31mRunning cells with 'production' requires the ipykernel package.\n",
      "\u001b[1;31mRun the following command to install 'ipykernel' into the Python environment. \n",
      "\u001b[1;31mCommand: 'conda install -n production ipykernel --update-deps --force-reinstall'"
     ]
    }
   ],
   "source": [
    "good_spikes = {}\n",
    "for i in spikes:\n",
    "    good_spikes[i] = spikes[i][good_cluster_loc]"
   ]
  },
  {
   "cell_type": "code",
   "execution_count": null,
   "metadata": {},
   "outputs": [
    {
     "ename": "",
     "evalue": "",
     "output_type": "error",
     "traceback": [
      "\u001b[1;31mRunning cells with 'production' requires the ipykernel package.\n",
      "\u001b[1;31mRun the following command to install 'ipykernel' into the Python environment. \n",
      "\u001b[1;31mCommand: 'conda install -n production ipykernel --update-deps --force-reinstall'"
     ]
    }
   ],
   "source": [
    "sl.raster(good_spikes, channels)"
   ]
  },
  {
   "cell_type": "code",
   "execution_count": null,
   "metadata": {},
   "outputs": [
    {
     "ename": "",
     "evalue": "",
     "output_type": "error",
     "traceback": [
      "\u001b[1;31mRunning cells with 'production' requires the ipykernel package.\n",
      "\u001b[1;31mRun the following command to install 'ipykernel' into the Python environment. \n",
      "\u001b[1;31mCommand: 'conda install -n production ipykernel --update-deps --force-reinstall'"
     ]
    }
   ],
   "source": [
    "np.unique(trials['choice'])"
   ]
  },
  {
   "cell_type": "code",
   "execution_count": null,
   "metadata": {},
   "outputs": [
    {
     "ename": "",
     "evalue": "",
     "output_type": "error",
     "traceback": [
      "\u001b[1;31mRunning cells with 'production' requires the ipykernel package.\n",
      "\u001b[1;31mRun the following command to install 'ipykernel' into the Python environment. \n",
      "\u001b[1;31mCommand: 'conda install -n production ipykernel --update-deps --force-reinstall'"
     ]
    }
   ],
   "source": [
    "np.unique(trials['feedbackType'])"
   ]
  },
  {
   "cell_type": "code",
   "execution_count": null,
   "metadata": {},
   "outputs": [
    {
     "ename": "",
     "evalue": "",
     "output_type": "error",
     "traceback": [
      "\u001b[1;31mRunning cells with 'production' requires the ipykernel package.\n",
      "\u001b[1;31mRun the following command to install 'ipykernel' into the Python environment. \n",
      "\u001b[1;31mCommand: 'conda install -n production ipykernel --update-deps --force-reinstall'"
     ]
    }
   ],
   "source": [
    "bin_size = 50e-3 # in milliseconds\n",
    "# min_bins = max(int((60e-3 / bin_size)), 20)\n",
    "max_trial_type = 40 # Maximum number of trials of each trial type"
   ]
  },
  {
   "cell_type": "code",
   "execution_count": null,
   "metadata": {},
   "outputs": [
    {
     "ename": "",
     "evalue": "",
     "output_type": "error",
     "traceback": [
      "\u001b[1;31mRunning cells with 'production' requires the ipykernel package.\n",
      "\u001b[1;31mRun the following command to install 'ipykernel' into the Python environment. \n",
      "\u001b[1;31mCommand: 'conda install -n production ipykernel --update-deps --force-reinstall'"
     ]
    }
   ],
   "source": [
    "# good_spikes\n",
    "# All trials must have the same number of neurons\n",
    "df = pd.DataFrame(data = {'clusters':good_spikes['clusters'], 'times':good_spikes['times']})\n",
    "df = df.groupby('clusters')['times'].apply(np.array)"
   ]
  },
  {
   "attachments": {},
   "cell_type": "markdown",
   "metadata": {},
   "source": [
    "Implementation with bins as a fixed size:"
   ]
  },
  {
   "cell_type": "code",
   "execution_count": null,
   "metadata": {},
   "outputs": [
    {
     "ename": "",
     "evalue": "",
     "output_type": "error",
     "traceback": [
      "\u001b[1;31mRunning cells with 'production' requires the ipykernel package.\n",
      "\u001b[1;31mRun the following command to install 'ipykernel' into the Python environment. \n",
      "\u001b[1;31mCommand: 'conda install -n production ipykernel --update-deps --force-reinstall'"
     ]
    }
   ],
   "source": [
    "# trials_spikes = [] # The Spike times and results of each trial\n",
    "\n",
    "# for i in range(len(trials['goCueTrigger_times'])):\n",
    "#     spike_range = {}\n",
    "    \n",
    "#     spike_range['goCue_times'] = trials['goCue_times'][i]\n",
    "#     spike_range['firstMovement_times'] = trials['firstMovement_times'][i]\n",
    "#     spike_range['choice'] = trials['choice'][i]\n",
    "#     spike_range['feedbackType'] = trials['feedbackType'][i]\n",
    "    \n",
    "#     x = []\n",
    "#     try:\n",
    "#         hist_bins = np.arange(trials['goCueTrigger_times'][i], trials['firstMovement_times'][i], bin_size)\n",
    "#     except:\n",
    "#         continue\n",
    "#         # the hist bins throw an error if the go cute or first movement time is NaN\n",
    "#         # print(trials['goCueTrigger_times'][i], trials['firstMovement_times'][i])\n",
    "    \n",
    "#     if len(hist_bins) <= min_bins: # Mouse must have a minimum reaction time of 60 ms to be considered a good trial\n",
    "#         continue\n",
    "    \n",
    "#     for j in df: # Iterate through spike times of each cluster\n",
    "#         inds = ((j>trials['goCueTrigger_times'][i]) & (j<=trials['firstMovement_times'][i])) # From go queue to first movement\n",
    "#         # print(np.histogram(j[inds], hist_bins)[0])\n",
    "#         x.append(np.histogram(j[inds], hist_bins)[0])\n",
    "    \n",
    "#     spikes_df = pd.DataFrame(x, index=df.index)\n",
    "#     spike_range['spikes_df'] = spikes_df\n",
    "    \n",
    "#     trials_spikes.append(spike_range)"
   ]
  },
  {
   "attachments": {},
   "cell_type": "markdown",
   "metadata": {},
   "source": [
    "Implementation with a set number of bins instead of bin size:"
   ]
  },
  {
   "cell_type": "code",
   "execution_count": null,
   "metadata": {},
   "outputs": [
    {
     "ename": "",
     "evalue": "",
     "output_type": "error",
     "traceback": [
      "\u001b[1;31mRunning cells with 'production' requires the ipykernel package.\n",
      "\u001b[1;31mRun the following command to install 'ipykernel' into the Python environment. \n",
      "\u001b[1;31mCommand: 'conda install -n production ipykernel --update-deps --force-reinstall'"
     ]
    }
   ],
   "source": [
    "# trials_spikes = [] # The Spike times and results of each trial\n",
    "\n",
    "# for i in range(len(trials['goCueTrigger_times'])):\n",
    "#     spike_range = {}\n",
    "    \n",
    "#     spike_range['goCue_times'] = trials['goCue_times'][i]\n",
    "#     spike_range['firstMovement_times'] = trials['firstMovement_times'][i]\n",
    "#     spike_range['choice'] = trials['choice'][i]\n",
    "#     spike_range['feedbackType'] = trials['feedbackType'][i]\n",
    "    \n",
    "#     x = []\n",
    "    \n",
    "#     time_range = (trials['firstMovement_times'][i] - trials['goCue_times'][i])\n",
    "#     if ((time_range < 0.10) | (time_range > 0.300)): # Mouse must have a minimum reaction time of 60 ms to be considered a good trial. We also exlude trials longer than 300 ms because they will have too many spikes per bin\n",
    "#         continue\n",
    "    \n",
    "#     for j in df: # Iterate through spike times of each cluster\n",
    "#         inds = ((j>trials['goCueTrigger_times'][i]) & (j<=trials['firstMovement_times'][i])) # From go queue to first movement\n",
    "#         # print(np.histogram(j[inds], hist_bins)[0])\n",
    "#         x.append(np.histogram(j[inds], 200)[0]) # 200 bins\n",
    "    \n",
    "#     spikes_df = pd.DataFrame(x, index=df.index)\n",
    "#     spike_range['spikes_df'] = spikes_df\n",
    "    \n",
    "#     trials_spikes.append(spike_range)"
   ]
  },
  {
   "attachments": {},
   "cell_type": "markdown",
   "metadata": {},
   "source": [
    "Implementation with bins starting 100ms before first movement to 300 ms after first movement"
   ]
  },
  {
   "cell_type": "code",
   "execution_count": null,
   "metadata": {},
   "outputs": [
    {
     "ename": "",
     "evalue": "",
     "output_type": "error",
     "traceback": [
      "\u001b[1;31mRunning cells with 'production' requires the ipykernel package.\n",
      "\u001b[1;31mRun the following command to install 'ipykernel' into the Python environment. \n",
      "\u001b[1;31mCommand: 'conda install -n production ipykernel --update-deps --force-reinstall'"
     ]
    }
   ],
   "source": [
    "trials_spikes = [] # The Spike times and results of each trial\n",
    "\n",
    "for i in range(len(trials['goCueTrigger_times'])):\n",
    "    if (trials['firstMovement_times'][i] < trials['goCue_times'][i]+0.05):\n",
    "        continue\n",
    "    \n",
    "    spike_range = {}\n",
    "    \n",
    "    spike_range['goCue_times'] = trials['goCue_times'][i]\n",
    "    spike_range['firstMovement_times'] = trials['firstMovement_times'][i]\n",
    "    spike_range['choice'] = trials['choice'][i]\n",
    "    spike_range['feedbackType'] = trials['feedbackType'][i]\n",
    "    \n",
    "    x = []\n",
    "    try:\n",
    "        hist_bins = np.arange(trials['firstMovement_times'][i]-0.1, trials['firstMovement_times'][i]+1.00001, bin_size)\n",
    "        # print(len(hist_bins))\n",
    "    except:\n",
    "        continue\n",
    "        # the hist bins throw an error if the go cue or first movement time is NaN\n",
    "        # print(trials['goCueTrigger_times'][i], trials['firstMovement_times'][i])\n",
    "    \n",
    "    \n",
    "    for j in df: # Iterate through spike times of each cluster\n",
    "        inds = ((j>(trials['firstMovement_times'][i]-0.1)) & (j<=(trials['firstMovement_times'][i]+1.00001))) # From go queue to first movement\n",
    "        # print(np.histogram(j[inds], hist_bins)[0])\n",
    "        x.append(np.histogram(j[inds], hist_bins)[0])\n",
    "    \n",
    "    spikes_df = pd.DataFrame(x, index=df.index)\n",
    "    spike_range['spikes_df'] = spikes_df\n",
    "    \n",
    "    trials_spikes.append(spike_range)"
   ]
  },
  {
   "cell_type": "code",
   "execution_count": null,
   "metadata": {},
   "outputs": [
    {
     "ename": "",
     "evalue": "",
     "output_type": "error",
     "traceback": [
      "\u001b[1;31mRunning cells with 'production' requires the ipykernel package.\n",
      "\u001b[1;31mRun the following command to install 'ipykernel' into the Python environment. \n",
      "\u001b[1;31mCommand: 'conda install -n production ipykernel --update-deps --force-reinstall'"
     ]
    }
   ],
   "source": [
    "random.shuffle(trials_spikes) # Randomize list before splitting into training and testing data"
   ]
  },
  {
   "cell_type": "code",
   "execution_count": null,
   "metadata": {},
   "outputs": [
    {
     "ename": "",
     "evalue": "",
     "output_type": "error",
     "traceback": [
      "\u001b[1;31mRunning cells with 'production' requires the ipykernel package.\n",
      "\u001b[1;31mRun the following command to install 'ipykernel' into the Python environment. \n",
      "\u001b[1;31mCommand: 'conda install -n production ipykernel --update-deps --force-reinstall'"
     ]
    }
   ],
   "source": [
    "len(trials_spikes)"
   ]
  },
  {
   "cell_type": "code",
   "execution_count": null,
   "metadata": {},
   "outputs": [
    {
     "ename": "",
     "evalue": "",
     "output_type": "error",
     "traceback": [
      "\u001b[1;31mRunning cells with 'production' requires the ipykernel package.\n",
      "\u001b[1;31mRun the following command to install 'ipykernel' into the Python environment. \n",
      "\u001b[1;31mCommand: 'conda install -n production ipykernel --update-deps --force-reinstall'"
     ]
    }
   ],
   "source": [
    "training_trials = []\n",
    "testing_trials = []\n",
    "\n",
    "\n",
    "trial_counts = {\"correct_left\" : [0, 0],  # [training count, testing count]\n",
    "                \"correct_right\" : [0, 0],\n",
    "                \"incorrect_left\" : [0, 0], # incorrect left means that the mouse chose left, and it was incorrect\n",
    "                \"incorrect_right\": [0, 0]}\n",
    "\n",
    "for i in trials_spikes:\n",
    "    if ((i[\"choice\"]==-1) & (i[\"feedbackType\"]==1)):\n",
    "        if trial_counts['correct_left'][0] < max_trial_type:\n",
    "            training_trials.append(i)\n",
    "            trial_counts['correct_left'][0] += 1\n",
    "        elif trial_counts['correct_left'][1] < max_trial_type:\n",
    "            testing_trials.append(i)\n",
    "            trial_counts['correct_left'][1] += 1\n",
    "        else:\n",
    "            continue\n",
    "    elif ((i[\"choice\"]==1) & (i[\"feedbackType\"]==1)):\n",
    "        if trial_counts['correct_right'][0] < max_trial_type:\n",
    "            training_trials.append(i)\n",
    "            trial_counts['correct_right'][0] += 1\n",
    "        elif trial_counts['correct_right'][1] < max_trial_type:\n",
    "            testing_trials.append(i)\n",
    "            trial_counts['correct_right'][1] += 1\n",
    "        else:\n",
    "            continue\n",
    "    elif ((i[\"choice\"]==-1) & (i[\"feedbackType\"]==-1)):\n",
    "        if trial_counts['incorrect_left'][0] < max_trial_type:\n",
    "            training_trials.append(i)\n",
    "            trial_counts['incorrect_left'][0] += 1\n",
    "        elif trial_counts['incorrect_left'][1] < max_trial_type:\n",
    "            testing_trials.append(i)\n",
    "            trial_counts['incorrect_left'][1] += 1\n",
    "        else:\n",
    "            continue\n",
    "    elif ((i[\"choice\"]==1) & (i[\"feedbackType\"]==-1)):\n",
    "        if trial_counts['incorrect_right'][0] < max_trial_type:\n",
    "            training_trials.append(i)\n",
    "            trial_counts['incorrect_right'][0] += 1\n",
    "        elif trial_counts['incorrect_right'][1] < max_trial_type:\n",
    "            testing_trials.append(i)\n",
    "            trial_counts['incorrect_right'][1] += 1\n",
    "        else:\n",
    "            continue"
   ]
  },
  {
   "cell_type": "code",
   "execution_count": null,
   "metadata": {},
   "outputs": [
    {
     "ename": "",
     "evalue": "",
     "output_type": "error",
     "traceback": [
      "\u001b[1;31mRunning cells with 'production' requires the ipykernel package.\n",
      "\u001b[1;31mRun the following command to install 'ipykernel' into the Python environment. \n",
      "\u001b[1;31mCommand: 'conda install -n production ipykernel --update-deps --force-reinstall'"
     ]
    }
   ],
   "source": [
    "training_trials = trials_spikes[:250]\n",
    "testing_trials = trials_spikes[250:]"
   ]
  },
  {
   "cell_type": "code",
   "execution_count": null,
   "metadata": {},
   "outputs": [
    {
     "ename": "",
     "evalue": "",
     "output_type": "error",
     "traceback": [
      "\u001b[1;31mRunning cells with 'production' requires the ipykernel package.\n",
      "\u001b[1;31mRun the following command to install 'ipykernel' into the Python environment. \n",
      "\u001b[1;31mCommand: 'conda install -n production ipykernel --update-deps --force-reinstall'"
     ]
    }
   ],
   "source": [
    "len(training_trials)"
   ]
  },
  {
   "cell_type": "code",
   "execution_count": null,
   "metadata": {},
   "outputs": [
    {
     "ename": "",
     "evalue": "",
     "output_type": "error",
     "traceback": [
      "\u001b[1;31mRunning cells with 'production' requires the ipykernel package.\n",
      "\u001b[1;31mRun the following command to install 'ipykernel' into the Python environment. \n",
      "\u001b[1;31mCommand: 'conda install -n production ipykernel --update-deps --force-reinstall'"
     ]
    }
   ],
   "source": [
    "training_trials[40]['spikes_df'].T"
   ]
  },
  {
   "cell_type": "code",
   "execution_count": null,
   "metadata": {},
   "outputs": [
    {
     "ename": "",
     "evalue": "",
     "output_type": "error",
     "traceback": [
      "\u001b[1;31mRunning cells with 'production' requires the ipykernel package.\n",
      "\u001b[1;31mRun the following command to install 'ipykernel' into the Python environment. \n",
      "\u001b[1;31mCommand: 'conda install -n production ipykernel --update-deps --force-reinstall'"
     ]
    }
   ],
   "source": [
    "session = Session(bin_size)\n",
    "for i, trial in enumerate(training_trials):\n",
    "    session.add_trial(i, y=trial['spikes_df'].T)"
   ]
  },
  {
   "cell_type": "code",
   "execution_count": null,
   "metadata": {},
   "outputs": [
    {
     "ename": "",
     "evalue": "",
     "output_type": "error",
     "traceback": [
      "\u001b[1;31mRunning cells with 'production' requires the ipykernel package.\n",
      "\u001b[1;31mRun the following command to install 'ipykernel' into the Python environment. \n",
      "\u001b[1;31mCommand: 'conda install -n production ipykernel --update-deps --force-reinstall'"
     ]
    }
   ],
   "source": [
    "length_scale = 0.200 # in seconds\n",
    "kernel = RBF(scale=1, lengthscale=length_scale)"
   ]
  },
  {
   "cell_type": "code",
   "execution_count": null,
   "metadata": {},
   "outputs": [
    {
     "ename": "",
     "evalue": "",
     "output_type": "error",
     "traceback": [
      "\u001b[1;31mRunning cells with 'production' requires the ipykernel package.\n",
      "\u001b[1;31mRun the following command to install 'ipykernel' into the Python environment. \n",
      "\u001b[1;31mCommand: 'conda install -n production ipykernel --update-deps --force-reinstall'"
     ]
    }
   ],
   "source": [
    "session, params = vi.fit(session, n_factors=2, kernel=kernel, seed=10, max_iter=15, trial_length=20, GPFA=True)"
   ]
  },
  {
   "cell_type": "code",
   "execution_count": null,
   "metadata": {},
   "outputs": [
    {
     "ename": "",
     "evalue": "",
     "output_type": "error",
     "traceback": [
      "\u001b[1;31mRunning cells with 'production' requires the ipykernel package.\n",
      "\u001b[1;31mRun the following command to install 'ipykernel' into the Python environment. \n",
      "\u001b[1;31mCommand: 'conda install -n production ipykernel --update-deps --force-reinstall'"
     ]
    }
   ],
   "source": [
    "# trials_spikes[2]['spikes_df'].T.to_csv(\"neural_data.csv\")"
   ]
  },
  {
   "cell_type": "code",
   "execution_count": null,
   "metadata": {},
   "outputs": [
    {
     "ename": "",
     "evalue": "",
     "output_type": "error",
     "traceback": [
      "\u001b[1;31mRunning cells with 'production' requires the ipykernel package.\n",
      "\u001b[1;31mRun the following command to install 'ipykernel' into the Python environment. \n",
      "\u001b[1;31mCommand: 'conda install -n production ipykernel --update-deps --force-reinstall'"
     ]
    }
   ],
   "source": [
    "# Find testing trajectories\n",
    "sessionTest = Session(bin_size)\n",
    "for i, trial in enumerate(testing_trials):\n",
    "    sessionTest.add_trial(i, y=trial['spikes_df'].T)\n",
    "\n",
    "sessionTest = vi.infer(sessionTest, params=params, )\n",
    "z_test = rearrange(sessionTest.z, '(trials time) lat -> trials time lat', time=testing_trials[0]['spikes_df'].shape[1])"
   ]
  },
  {
   "cell_type": "code",
   "execution_count": null,
   "metadata": {},
   "outputs": [
    {
     "ename": "",
     "evalue": "",
     "output_type": "error",
     "traceback": [
      "\u001b[1;31mRunning cells with 'production' requires the ipykernel package.\n",
      "\u001b[1;31mRun the following command to install 'ipykernel' into the Python environment. \n",
      "\u001b[1;31mCommand: 'conda install -n production ipykernel --update-deps --force-reinstall'"
     ]
    }
   ],
   "source": []
  },
  {
   "attachments": {},
   "cell_type": "markdown",
   "metadata": {},
   "source": [
    "### Plot training trajectories and add them to test set. Plot test trajectories after\n"
   ]
  },
  {
   "cell_type": "code",
   "execution_count": null,
   "metadata": {},
   "outputs": [
    {
     "ename": "",
     "evalue": "",
     "output_type": "error",
     "traceback": [
      "\u001b[1;31mRunning cells with 'production' requires the ipykernel package.\n",
      "\u001b[1;31mRun the following command to install 'ipykernel' into the Python environment. \n",
      "\u001b[1;31mCommand: 'conda install -n production ipykernel --update-deps --force-reinstall'"
     ]
    }
   ],
   "source": [
    "len(np.arange(-0.1, 1, 0.05))"
   ]
  },
  {
   "cell_type": "code",
   "execution_count": null,
   "metadata": {},
   "outputs": [
    {
     "ename": "",
     "evalue": "",
     "output_type": "error",
     "traceback": [
      "\u001b[1;31mRunning cells with 'production' requires the ipykernel package.\n",
      "\u001b[1;31mRun the following command to install 'ipykernel' into the Python environment. \n",
      "\u001b[1;31mCommand: 'conda install -n production ipykernel --update-deps --force-reinstall'"
     ]
    }
   ],
   "source": [
    "import plotly.graph_objects as go"
   ]
  },
  {
   "cell_type": "code",
   "execution_count": 100,
   "metadata": {},
   "outputs": [
    {
     "data": {
      "application/vnd.plotly.v1+json": {
       "config": {
        "plotlyServerURL": "https://plot.ly"
       },
       "data": [
        {
         "legendgroup": "left",
         "line": {
          "color": "red",
          "width": 1
         },
         "mode": "lines",
         "name": "Wheel Turned Left",
         "showlegend": true,
         "type": "scatter3d",
         "x": [
          -100,
          -50,
          0,
          50,
          100,
          150,
          200,
          250,
          300,
          350,
          400,
          450,
          500,
          550,
          600,
          650,
          700,
          750,
          800,
          850,
          900,
          950
         ],
         "y": [
          0.8744829458601606,
          1.1743377889535174,
          1.3834333788440112,
          1.4715478597404323,
          1.444791740057687,
          1.3431796593082637,
          1.224597029031812,
          1.1406173746616215,
          1.1167431944261608,
          1.1465013885860227,
          1.2032389498139526,
          1.2610231817093736,
          1.3120423348946444,
          1.3682983005793818,
          1.448165155742384,
          1.5549627376045587,
          1.6653093027356254,
          1.7344844548722558,
          1.7175780521273147,
          1.5923991536014492,
          1.3713423050120361,
          1.0959953324584906
         ],
         "z": [
          -0.5475926523968546,
          -0.3620249134056782,
          -0.10483318504133902,
          0.18734038137538414,
          0.47070129941833266,
          0.7057677107288534,
          0.8658225864637124,
          0.9394842006131244,
          0.9285555840325554,
          0.8451961345819583,
          0.7116095175755905,
          0.5600356080825645,
          0.42963048991166225,
          0.35701559298621344,
          0.362369596850359,
          0.43962639815498195,
          0.5583978101971344,
          0.6763968013081738,
          0.7588391440033647,
          0.7913598050805984,
          0.7800423153295534,
          0.7429016944291006
         ]
        },
        {
         "legendgroup": "right",
         "line": {
          "color": "blue",
          "width": 1
         },
         "mode": "lines",
         "name": "Wheel Turned Right",
         "showlegend": true,
         "type": "scatter3d",
         "x": [
          -100,
          -50,
          0,
          50,
          100,
          150,
          200,
          250,
          300,
          350,
          400,
          450,
          500,
          550,
          600,
          650,
          700,
          750,
          800,
          850,
          900,
          950
         ],
         "y": [
          1.4257549784763397,
          1.6161489257947268,
          1.7248584800302764,
          1.773652539718835,
          1.796408820103729,
          1.8179392718459955,
          1.837423766468671,
          1.8268768769164738,
          1.7454113185130313,
          1.5626498811641683,
          1.273465171790713,
          0.9032066207121657,
          0.49823068362068695,
          0.11377398983557296,
          -0.19764441199247407,
          -0.39521421251046784,
          -0.4559941534657515,
          -0.3808570664592712,
          -0.19786253647182764,
          0.0422576933228214,
          0.278116228150663,
          0.456026451106334
         ],
         "z": [
          1.1165895491409386,
          1.0692922628854926,
          0.8957222353598313,
          0.6216477210236521,
          0.30896425712717895,
          0.04292598664399693,
          -0.09423853265016281,
          -0.053008576399530154,
          0.16359390751951405,
          0.49825577881144345,
          0.861475091185952,
          1.1643359294740678,
          1.3496414500381861,
          1.4070513129055422,
          1.3690810445015684,
          1.289201557034551,
          1.216510463691717,
          1.1763262925021862,
          1.16452420537871,
          1.156005731739186,
          1.1200103512137445,
          1.0358631622301193
         ]
        },
        {
         "legendgroup": "left",
         "line": {
          "color": "red",
          "width": 1
         },
         "mode": "lines",
         "showlegend": false,
         "type": "scatter3d",
         "x": [
          -100,
          -50,
          0,
          50,
          100,
          150,
          200,
          250,
          300,
          350,
          400,
          450,
          500,
          550,
          600,
          650,
          700,
          750,
          800,
          850,
          900,
          950
         ],
         "y": [
          0.3574987238752742,
          0.8390578842544077,
          1.224688665984794,
          1.4370476507646368,
          1.45610002750238,
          1.3251740502256595,
          1.1278910076296025,
          0.9457160590191757,
          0.8207417477227876,
          0.7442843930914765,
          0.6737830128632186,
          0.5698069824578851,
          0.42794893528761235,
          0.28815315795746427,
          0.2177673928129553,
          0.2788938867773121,
          0.4978204435213689,
          0.8499727833346956,
          1.2666025487335324,
          1.6573286271608745,
          1.9386976856942844,
          2.056755557888262
         ],
         "z": [
          -0.16392652174414407,
          -0.1409755257417408,
          -0.08527655651412863,
          0.017724859129638944,
          0.17416552092250834,
          0.3745448009437047,
          0.5926096505987019,
          0.793277356977516,
          0.9451574952807051,
          1.0335687266628173,
          1.0646092575761432,
          1.059938822923893,
          1.0435160043588378,
          1.0290620190904483,
          1.0154601227997722,
          0.9910029744759941,
          0.9441654974595327,
          0.8717593799106921,
          0.7811160647301172,
          0.685132476459541,
          0.5945864710918758,
          0.5129863893141144
         ]
        },
        {
         "legendgroup": "left",
         "line": {
          "color": "red",
          "width": 1
         },
         "mode": "lines",
         "showlegend": false,
         "type": "scatter3d",
         "x": [
          -100,
          -50,
          0,
          50,
          100,
          150,
          200,
          250,
          300,
          350,
          400,
          450,
          500,
          550,
          600,
          650,
          700,
          750,
          800,
          850,
          900,
          950
         ],
         "y": [
          0.2730735757649644,
          0.6390777815477967,
          0.9702925607121983,
          1.2097358810322594,
          1.332636129232333,
          1.3541989681588156,
          1.3195784129756432,
          1.2792964838966807,
          1.2627012877539978,
          1.2654817445097275,
          1.2579483381253778,
          1.209601807552587,
          1.1161821732765993,
          1.0113030977259057,
          0.9537159474191765,
          0.9936625084845085,
          1.1392295055766706,
          1.3408323728089564,
          1.5073921035337123,
          1.5454494157747518,
          1.4017434958268855,
          1.0865240884230718
         ],
         "z": [
          -0.3958389892584048,
          -0.4644991351672454,
          -0.5028600974715773,
          -0.4955374106149441,
          -0.43228230170643994,
          -0.31345734898712235,
          -0.1532962080041368,
          0.01978394854680732,
          0.16908995542731908,
          0.25827752397752807,
          0.26203288422121684,
          0.17428726888976953,
          0.01236042639305432,
          -0.18401535375690325,
          -0.3612890747583338,
          -0.46562145322835335,
          -0.4591278691526892,
          -0.3338778346795595,
          -0.11612319652133013,
          0.1408842130645356,
          0.37507839793772946,
          0.5355540028830136
         ]
        },
        {
         "legendgroup": "left",
         "line": {
          "color": "red",
          "width": 1
         },
         "mode": "lines",
         "showlegend": false,
         "type": "scatter3d",
         "x": [
          -100,
          -50,
          0,
          50,
          100,
          150,
          200,
          250,
          300,
          350,
          400,
          450,
          500,
          550,
          600,
          650,
          700,
          750,
          800,
          850,
          900,
          950
         ],
         "y": [
          0.6356947657659632,
          0.9431819211707371,
          1.1840176468867405,
          1.3019067834789129,
          1.2637438903037446,
          1.0736419121031462,
          0.7756557136561554,
          0.4414231438675604,
          0.1455649093215207,
          -0.060166940507000506,
          -0.16260788780882554,
          -0.18401919116292098,
          -0.1635966506380003,
          -0.13362986671730895,
          -0.10410062421114025,
          -0.06331950310851271,
          0.008619294193586782,
          0.12339262138052588,
          0.27460659265543363,
          0.4393597516018463,
          0.5871951163965716,
          0.6915761213807176
         ],
         "z": [
          -1.1968134087572058,
          -1.1340054361309062,
          -0.9055850838963401,
          -0.5572748359862377,
          -0.17196385916572002,
          0.16027836633759907,
          0.37575353426130503,
          0.4584172640652255,
          0.4390620252055017,
          0.3745387711173389,
          0.3194457158733398,
          0.30411779955948465,
          0.32908793906746925,
          0.37498467337502894,
          0.42028832624544166,
          0.4555638052664176,
          0.4881608119532401,
          0.5352426536166146,
          0.6114021587648547,
          0.7178042590278692,
          0.8382475713935872,
          0.9444289624638197
         ]
        },
        {
         "legendgroup": "left",
         "line": {
          "color": "red",
          "width": 1
         },
         "mode": "lines",
         "showlegend": false,
         "type": "scatter3d",
         "x": [
          -100,
          -50,
          0,
          50,
          100,
          150,
          200,
          250,
          300,
          350,
          400,
          450,
          500,
          550,
          600,
          650,
          700,
          750,
          800,
          850,
          900,
          950
         ],
         "y": [
          0.8865204407932394,
          0.9527889307889017,
          1.002165051059623,
          1.0362570505762934,
          1.0444965614454031,
          1.0052532591391594,
          0.8990047336223486,
          0.7255944413927286,
          0.5163933938855363,
          0.3312794887608474,
          0.23812250525433795,
          0.2833455923967936,
          0.4675305690309005,
          0.7389241447602112,
          1.0093237788291969,
          1.1856951117638732,
          1.2038622988839145,
          1.0495512374996951,
          0.7597262314097147,
          0.40480092164688536,
          0.06267662118281103,
          -0.2055070387882787
         ],
         "z": [
          -0.027250856912499552,
          -0.014655929935351777,
          0.04531472864438963,
          0.15662811262230222,
          0.3026803894315524,
          0.44707870985477466,
          0.5457529615778438,
          0.5636354451128925,
          0.48955068335147045,
          0.33968956482558554,
          0.14889625206525905,
          -0.0453270179169757,
          -0.2169988468072047,
          -0.35710503700328594,
          -0.468322671079544,
          -0.5551027770548191,
          -0.615698512643847,
          -0.6416984658925249,
          -0.6232326882940735,
          -0.5568590598798195,
          -0.44993622485752255,
          -0.3198444285910934
         ]
        },
        {
         "legendgroup": "left",
         "line": {
          "color": "red",
          "width": 1
         },
         "mode": "lines",
         "showlegend": false,
         "type": "scatter3d",
         "x": [
          -100,
          -50,
          0,
          50,
          100,
          150,
          200,
          250,
          300,
          350,
          400,
          450,
          500,
          550,
          600,
          650,
          700,
          750,
          800,
          850,
          900,
          950
         ],
         "y": [
          0.9498410337091976,
          1.0723506533383005,
          1.160694416327674,
          1.1934358579031852,
          1.1576343763333707,
          1.0578203059078555,
          0.9200237113932074,
          0.7860227643023441,
          0.6996264649986215,
          0.6900519245901029,
          0.7607855205206994,
          0.8882796710342415,
          1.0312250681456485,
          1.1463142042126016,
          1.204046874337438,
          1.1970252177558374,
          1.13978864321067,
          1.0607048270838446,
          0.9880236200833987,
          0.9382830035350322,
          0.9108461797911009,
          0.8914873369089621
         ],
         "z": [
          0.10702104421484278,
          0.04820683704727078,
          0.027510302470471787,
          0.05541357088982127,
          0.12190746051802405,
          0.1965119462134007,
          0.2385563536117561,
          0.21342655158919624,
          0.10937012497807015,
          -0.05346142456123749,
          -0.22673951483804516,
          -0.35288311024844915,
          -0.39100068010176475,
          -0.33879704233166696,
          -0.23734135753241664,
          -0.1528242138047408,
          -0.1460279068611879,
          -0.24058421426712473,
          -0.4118195781029599,
          -0.5991762555541899,
          -0.7351889342019923,
          -0.7746317206924698
         ]
        },
        {
         "legendgroup": "right",
         "line": {
          "color": "blue",
          "width": 1
         },
         "mode": "lines",
         "showlegend": false,
         "type": "scatter3d",
         "x": [
          -100,
          -50,
          0,
          50,
          100,
          150,
          200,
          250,
          300,
          350,
          400,
          450,
          500,
          550,
          600,
          650,
          700,
          750,
          800,
          850,
          900,
          950
         ],
         "y": [
          0.5797061368907249,
          1.1051431342249203,
          1.5691995092231796,
          1.906929863021843,
          2.0901035599778415,
          2.127131530314307,
          2.0464903500620855,
          1.8783539594547898,
          1.6446934452145459,
          1.3622260131304051,
          1.0514120306819834,
          0.7425372654788199,
          0.4724889688785116,
          0.27511362232130904,
          0.17089221049049108,
          0.16281094316467798,
          0.2375526193951146,
          0.3710755099438171,
          0.5333423426967121,
          0.6927281064354355,
          0.8192387643661209,
          0.8898331156511298
         ],
         "z": [
          -0.4680692180028525,
          -0.5310803104552708,
          -0.5809991353024531,
          -0.6044795304057963,
          -0.5922904934903476,
          -0.5479743363233701,
          -0.49102406211680766,
          -0.452885103818623,
          -0.4635248218942997,
          -0.5357141373860141,
          -0.6550748857857394,
          -0.782730659906181,
          -0.8692612962808094,
          -0.8740781825184963,
          -0.7792334139747826,
          -0.5933676565805659,
          -0.3451648039810697,
          -0.0715435332499988,
          0.19213428617059503,
          0.41771638368755315,
          0.5857484319980795,
          0.6855746628634323
         ]
        },
        {
         "legendgroup": "left",
         "line": {
          "color": "red",
          "width": 1
         },
         "mode": "lines",
         "showlegend": false,
         "type": "scatter3d",
         "x": [
          -100,
          -50,
          0,
          50,
          100,
          150,
          200,
          250,
          300,
          350,
          400,
          450,
          500,
          550,
          600,
          650,
          700,
          750,
          800,
          850,
          900,
          950
         ],
         "y": [
          0.3103614525546063,
          0.7114678970120497,
          1.041726674834802,
          1.2342500473726605,
          1.2609246716759652,
          1.1406117228074302,
          0.9297348651455105,
          0.7015172554605531,
          0.5220808193086612,
          0.43503883607254806,
          0.45572179753715825,
          0.5729326283853866,
          0.7552698250049841,
          0.9583806978723834,
          1.134065343400958,
          1.2411676439018695,
          1.2549491518452707,
          1.1738381155687225,
          1.0175125819751998,
          0.8192630312027761,
          0.6139451772018477,
          0.4290510506999404
         ],
         "z": [
          -0.2725639133479868,
          -0.2207041662983435,
          -0.16324198015776728,
          -0.10996649563817953,
          -0.06822138429133287,
          -0.04244730347624342,
          -0.03405760570430038,
          -0.04024117274423791,
          -0.0531531591094662,
          -0.05929226902157471,
          -0.042209948592708234,
          0.011640663033443712,
          0.10703645263462183,
          0.23650818167649068,
          0.3826016239762982,
          0.524551914377277,
          0.6457496092163539,
          0.7379010861234243,
          0.8004515830069696,
          0.8360591538836437,
          0.8459412852641329,
          0.8285341410720735
         ]
        },
        {
         "legendgroup": "right",
         "line": {
          "color": "blue",
          "width": 1
         },
         "mode": "lines",
         "showlegend": false,
         "type": "scatter3d",
         "x": [
          -100,
          -50,
          0,
          50,
          100,
          150,
          200,
          250,
          300,
          350,
          400,
          450,
          500,
          550,
          600,
          650,
          700,
          750,
          800,
          850,
          900,
          950
         ],
         "y": [
          0.5276053980217561,
          0.8598156651390247,
          1.1862460206767258,
          1.4772629979101621,
          1.7019852361235412,
          1.8294202596635432,
          1.8352964894000443,
          1.7211566523437571,
          1.5289720365234465,
          1.3396770695407738,
          1.242927759092711,
          1.2906144187599586,
          1.4626894218739082,
          1.6680437952444596,
          1.7872145843370035,
          1.7344795510833937,
          1.5040215822931968,
          1.174570578676547,
          0.8676594777185686,
          0.6883661801247795,
          0.6784060050783679,
          0.8053397951005162
         ],
         "z": [
          -0.4917451719360441,
          -0.5546633014230005,
          -0.5978404751200987,
          -0.6107328763577463,
          -0.5883052464151354,
          -0.5357538118559972,
          -0.46982482768822753,
          -0.41416797239668907,
          -0.3914456024955775,
          -0.41319594340483873,
          -0.47504004327306215,
          -0.5582658499182077,
          -0.6377654933965304,
          -0.691840905276324,
          -0.7110069806739059,
          -0.7008526441003586,
          -0.6791108721094701,
          -0.6669532201319012,
          -0.6792452550223811,
          -0.7170217483954373,
          -0.7669235691177722,
          -0.8062772928079458
         ]
        },
        {
         "legendgroup": "right",
         "line": {
          "color": "blue",
          "width": 1
         },
         "mode": "lines",
         "showlegend": false,
         "type": "scatter3d",
         "x": [
          -100,
          -50,
          0,
          50,
          100,
          150,
          200,
          250,
          300,
          350,
          400,
          450,
          500,
          550,
          600,
          650,
          700,
          750,
          800,
          850,
          900,
          950
         ],
         "y": [
          -0.11200920567578469,
          0.5326493084381255,
          1.1564905201138365,
          1.6194962576233514,
          1.8267364688829757,
          1.7680355610733058,
          1.5206701134251812,
          1.215462237644028,
          0.9780398695329038,
          0.8776714432715635,
          0.9063815147383809,
          0.9961172084526001,
          1.0615540946765272,
          1.0426015042300671,
          0.9268058663667668,
          0.7451180167366519,
          0.5486532254533216,
          0.3827311645572108,
          0.2693751600151355,
          0.20532708195923355,
          0.17081456390486882,
          0.14356489876449488
         ],
         "z": [
          -0.47540941174443113,
          -0.5058840914709195,
          -0.5430596692423942,
          -0.584491595035061,
          -0.6201342248243459,
          -0.6378917408288552,
          -0.6323538834311021,
          -0.6123868638454896,
          -0.6008017561604337,
          -0.62480157617441,
          -0.6997106188133496,
          -0.8169336596173161,
          -0.9425818590207128,
          -1.0305289144029257,
          -1.0437315715053432,
          -0.971711691502592,
          -0.8354588804803824,
          -0.6777557591007647,
          -0.5440254573827569,
          -0.46433239379606056,
          -0.4440890700700859,
          -0.4661372333407497
         ]
        },
        {
         "legendgroup": "left",
         "line": {
          "color": "red",
          "width": 1
         },
         "mode": "lines",
         "showlegend": false,
         "type": "scatter3d",
         "x": [
          -100,
          -50,
          0,
          50,
          100,
          150,
          200,
          250,
          300,
          350,
          400,
          450,
          500,
          550,
          600,
          650,
          700,
          750,
          800,
          850,
          900,
          950
         ],
         "y": [
          0.6698069774117785,
          0.8952136208911492,
          1.0402010569008062,
          1.08772515998703,
          1.055133459460974,
          0.9885758325973788,
          0.9419333207442084,
          0.9515312790455139,
          1.0174971384687939,
          1.1036783072122578,
          1.158884117549487,
          1.148543639642946,
          1.079945622151326,
          1.00379619704044,
          0.9892083301614195,
          1.0831361962905441,
          1.27921429746992,
          1.5120099459367804,
          1.6836391094423313,
          1.7081273047703907,
          1.547493877152109,
          1.226652134003536
         ],
         "z": [
          -0.7700792706353999,
          -0.5374862365294364,
          -0.25952564025481617,
          -0.0038911348675401067,
          0.16408205425460157,
          0.20557590325285272,
          0.12286966465184258,
          -0.041504395608423346,
          -0.2229989656602871,
          -0.36395000376780806,
          -0.4395522262122239,
          -0.46872648842767023,
          -0.5025767294636047,
          -0.5959956436567153,
          -0.7754442260297139,
          -1.019869090388086,
          -1.2650264959907984,
          -1.4306710683804884,
          -1.4555025102805188,
          -1.323568840631909,
          -1.067964444598284,
          -0.7546076369399934
         ]
        },
        {
         "legendgroup": "right",
         "line": {
          "color": "blue",
          "width": 1
         },
         "mode": "lines",
         "showlegend": false,
         "type": "scatter3d",
         "x": [
          -100,
          -50,
          0,
          50,
          100,
          150,
          200,
          250,
          300,
          350,
          400,
          450,
          500,
          550,
          600,
          650,
          700,
          750,
          800,
          850,
          900,
          950
         ],
         "y": [
          -0.55916940803157,
          0.04397899954566996,
          0.7029101934623149,
          1.295930440694454,
          1.719899927049999,
          1.922354260717307,
          1.9128474631584726,
          1.7512937531443482,
          1.5203813520028142,
          1.298254798776533,
          1.1385717568083342,
          1.0622627786581322,
          1.0578571454587045,
          1.0867513593622964,
          1.0954593468257963,
          1.0307908919267574,
          0.8591803771175056,
          0.5789987405797327,
          0.22393220816166406,
          -0.14782935003979242,
          -0.47282205103880137,
          -0.7022356875437034
         ],
         "z": [
          -0.650597886552889,
          -0.6703146934500404,
          -0.6510332751085374,
          -0.6100302970688036,
          -0.5737765614833612,
          -0.567036816481053,
          -0.6011388122663545,
          -0.6657000893767117,
          -0.730238916484478,
          -0.7546357452676095,
          -0.7065025124433703,
          -0.576835820945478,
          -0.3865042486735229,
          -0.18164849124406734,
          -0.018231514601032044,
          0.05683090176227123,
          0.021643728417294204,
          -0.11417498459226749,
          -0.31351506724650074,
          -0.524697150934678,
          -0.6976563294045929,
          -0.7977398243535407
         ]
        },
        {
         "legendgroup": "left",
         "line": {
          "color": "red",
          "width": 1
         },
         "mode": "lines",
         "showlegend": false,
         "type": "scatter3d",
         "x": [
          -100,
          -50,
          0,
          50,
          100,
          150,
          200,
          250,
          300,
          350,
          400,
          450,
          500,
          550,
          600,
          650,
          700,
          750,
          800,
          850,
          900,
          950
         ],
         "y": [
          -0.019695766720316976,
          0.5172411705418197,
          1.0044222965375669,
          1.350274759098345,
          1.5103723186532338,
          1.4976438438011541,
          1.3685531824272539,
          1.1914928137108074,
          1.0214655372979113,
          0.8899470820118499,
          0.8107842295756179,
          0.7893157465049236,
          0.8256496589875609,
          0.9090358292112758,
          1.0133289215621046,
          1.1007884433237245,
          1.138286481340071,
          1.1135924937821895,
          1.0422445482575933,
          0.9582541802760379,
          0.8945760960316737,
          0.8656602589704218
         ],
         "z": [
          -0.3593808024957258,
          -0.3159622323976082,
          -0.2713674687701684,
          -0.23021694477446325,
          -0.18831213499041363,
          -0.13615516470638922,
          -0.06680483631334316,
          0.016179322375608242,
          0.09614341525000232,
          0.14762712183545892,
          0.14621626092230705,
          0.07882624134786233,
          -0.04973794780294541,
          -0.21698786122812502,
          -0.3888441437030376,
          -0.5303874638013548,
          -0.6161548870012261,
          -0.6377933224050807,
          -0.6052215114673906,
          -0.540650996471795,
          -0.46906439926193566,
          -0.40843127872633134
         ]
        },
        {
         "legendgroup": "left",
         "line": {
          "color": "red",
          "width": 1
         },
         "mode": "lines",
         "showlegend": false,
         "type": "scatter3d",
         "x": [
          -100,
          -50,
          0,
          50,
          100,
          150,
          200,
          250,
          300,
          350,
          400,
          450,
          500,
          550,
          600,
          650,
          700,
          750,
          800,
          850,
          900,
          950
         ],
         "y": [
          0.4339727859815377,
          0.7799512438762218,
          1.0754838973180945,
          1.2598085950623135,
          1.2926964349541983,
          1.165071208013059,
          0.9030382103957333,
          0.5657761526199998,
          0.23706010803972308,
          0.009329440008333805,
          -0.041270142008764464,
          0.11814899850196241,
          0.4568336404098603,
          0.880976954111029,
          1.2604175402347582,
          1.4724547034392457,
          1.447119052352504,
          1.190163519305167,
          0.7755231120137104,
          0.313439192021959,
          -0.09120810899953874,
          -0.3703858214954751
         ],
         "z": [
          -0.6025884868180392,
          -0.5340969319137145,
          -0.4212956480998171,
          -0.27515736191135626,
          -0.1117752994963044,
          0.04820873146951569,
          0.18047066433876022,
          0.25826556762667163,
          0.2545661818112582,
          0.14841448464128526,
          -0.06734065348602342,
          -0.376637981935978,
          -0.736875949520948,
          -1.0844958778532976,
          -1.3515656450559592,
          -1.4872337703089455,
          -1.4753586727660433,
          -1.3392202358011145,
          -1.1300199383991074,
          -0.906604994597389,
          -0.7143004978757387,
          -0.5735571626456015
         ]
        },
        {
         "legendgroup": "left",
         "line": {
          "color": "red",
          "width": 1
         },
         "mode": "lines",
         "showlegend": false,
         "type": "scatter3d",
         "x": [
          -100,
          -50,
          0,
          50,
          100,
          150,
          200,
          250,
          300,
          350,
          400,
          450,
          500,
          550,
          600,
          650,
          700,
          750,
          800,
          850,
          900,
          950
         ],
         "y": [
          0.6871721217530395,
          0.9908335882805216,
          1.171938743871595,
          1.2084975928958397,
          1.129285513845444,
          0.9966290532330834,
          0.8711833252348647,
          0.7806917790597819,
          0.7110620583941234,
          0.6277542207510999,
          0.5134959484242354,
          0.3939359915772981,
          0.3334791687890001,
          0.3987323428332726,
          0.6117442025316099,
          0.9226386831604849,
          1.2208092953215013,
          1.3806957296900921,
          1.3182416068693497,
          1.0265712454219065,
          0.5766236117581445,
          0.0836169724986688
         ],
         "z": [
          -0.5731002231187232,
          -0.31925429848429704,
          -0.059436763732156145,
          0.15463145165067646,
          0.28519927672435824,
          0.315199337334444,
          0.2460166022673071,
          0.08972659308231183,
          -0.13764031991238768,
          -0.41835689931389364,
          -0.7297084481714469,
          -1.0404282624918533,
          -1.311108522690959,
          -1.5012587836044182,
          -1.5797396491430098,
          -1.537355581939184,
          -1.3926852159627348,
          -1.1887683478268212,
          -0.9794089060679648,
          -0.8113989608970642,
          -0.7087282218116965,
          -0.667528264744364
         ]
        },
        {
         "legendgroup": "left",
         "line": {
          "color": "red",
          "width": 1
         },
         "mode": "lines",
         "showlegend": false,
         "type": "scatter3d",
         "x": [
          -100,
          -50,
          0,
          50,
          100,
          150,
          200,
          250,
          300,
          350,
          400,
          450,
          500,
          550,
          600,
          650,
          700,
          750,
          800,
          850,
          900,
          950
         ],
         "y": [
          0.15556583284527636,
          0.5578319821438184,
          0.9114559608118858,
          1.1455375825114942,
          1.2168327575038669,
          1.1202993613262073,
          0.8890989386027308,
          0.5840282296333343,
          0.2796144155681301,
          0.04805075390508547,
          -0.05599014277085699,
          -0.008695677658989539,
          0.17476261031498333,
          0.4406502415318402,
          0.7097815071245194,
          0.9008591662940677,
          0.9571257875162601,
          0.8651033790370475,
          0.6576530172377945,
          0.3990893218259433,
          0.15916380220258436,
          -0.011322605576543868
         ],
         "z": [
          -1.205538027249005,
          -0.974387864998416,
          -0.6596628514467544,
          -0.3183203086286837,
          -0.009176282585198432,
          0.22145441846691136,
          0.347926561272106,
          0.36440839290037497,
          0.2790399185558578,
          0.10622415569499767,
          -0.136917891718606,
          -0.43098106290679944,
          -0.7515941696119282,
          -1.067944452253868,
          -1.3434853019647712,
          -1.5425948608894553,
          -1.6375408748912146,
          -1.6177766666120252,
          -1.49299505052296,
          -1.2911286580919494,
          -1.049716588761164,
          -0.8059305154058602
         ]
        },
        {
         "legendgroup": "left",
         "line": {
          "color": "red",
          "width": 1
         },
         "mode": "lines",
         "showlegend": false,
         "type": "scatter3d",
         "x": [
          -100,
          -50,
          0,
          50,
          100,
          150,
          200,
          250,
          300,
          350,
          400,
          450,
          500,
          550,
          600,
          650,
          700,
          750,
          800,
          850,
          900,
          950
         ],
         "y": [
          0.7112616431133832,
          1.024564042315947,
          1.2688531598244193,
          1.3894399699579634,
          1.3580598891475484,
          1.1868235941936283,
          0.9269536797820543,
          0.6547030771682141,
          0.44428855668217393,
          0.3423421779034453,
          0.35482177151878264,
          0.454363585774369,
          0.6025500424848466,
          0.7735231344977823,
          0.963723370701065,
          1.1800037966191081,
          1.4172736442002654,
          1.6414748244925994,
          1.7921292092821317,
          1.8064791768608093,
          1.6512465520667294,
          1.341633405261276
         ],
         "z": [
          -0.8047154321154544,
          -0.6880228038131828,
          -0.4915570524568052,
          -0.2595251411273407,
          -0.05264672518095179,
          0.0762522654815901,
          0.10687798659833356,
          0.06658256835197737,
          0.022662087734796617,
          0.05222217304791084,
          0.2009444936977317,
          0.4516460785564525,
          0.7206003975051319,
          0.8884394247100025,
          0.8537901448692197,
          0.583880341456201,
          0.13783535910860942,
          -0.352093379594683,
          -0.7327092442494019,
          -0.8897271262469064,
          -0.790480081625899,
          -0.4881365294147916
         ]
        },
        {
         "legendgroup": "left",
         "line": {
          "color": "red",
          "width": 1
         },
         "mode": "lines",
         "showlegend": false,
         "type": "scatter3d",
         "x": [
          -100,
          -50,
          0,
          50,
          100,
          150,
          200,
          250,
          300,
          350,
          400,
          450,
          500,
          550,
          600,
          650,
          700,
          750,
          800,
          850,
          900,
          950
         ],
         "y": [
          1.283608770791809,
          1.2667648229969721,
          1.1606345414774422,
          1.0069733550352733,
          0.8671940018386535,
          0.7992252082430917,
          0.8302125271582459,
          0.9418654070875457,
          1.075797252593152,
          1.1570916836726728,
          1.1267266967053722,
          0.9644309230917177,
          0.6937953806561132,
          0.3676369729734022,
          0.04447079848155541,
          -0.231357170156332,
          -0.4384496079681791,
          -0.5749176759145251,
          -0.6492209457453575,
          -0.6720308581060119,
          -0.652058186164135,
          -0.5972684293516891
         ],
         "z": [
          -0.02086395934052731,
          0.33480063038838564,
          0.5880921906262676,
          0.6624036372399031,
          0.5331480158228425,
          0.2408575492619742,
          -0.12336692688435011,
          -0.4515907278015655,
          -0.6576831198106349,
          -0.7039467764839706,
          -0.6050072924609409,
          -0.4114753034221032,
          -0.18421740086259977,
          0.027221550087207842,
          0.19473928137950838,
          0.3093352638949399,
          0.3731733224317341,
          0.39188499558875367,
          0.3714685989230496,
          0.3187167344348701,
          0.2433076492839329,
          0.15792171604293356
         ]
        },
        {
         "legendgroup": "left",
         "line": {
          "color": "red",
          "width": 1
         },
         "mode": "lines",
         "showlegend": false,
         "type": "scatter3d",
         "x": [
          -100,
          -50,
          0,
          50,
          100,
          150,
          200,
          250,
          300,
          350,
          400,
          450,
          500,
          550,
          600,
          650,
          700,
          750,
          800,
          850,
          900,
          950
         ],
         "y": [
          0.3142174648839592,
          0.7087743927102684,
          1.0383673616684115,
          1.2432077473702687,
          1.295735894946946,
          1.204366632784016,
          1.0040210606501072,
          0.7439324479256854,
          0.47753095304369886,
          0.258409475453077,
          0.13579441739414946,
          0.14568026385526087,
          0.2959628437754027,
          0.5546489163037862,
          0.850874543519219,
          1.0931292111580937,
          1.199485191213117,
          1.1277298933193503,
          0.887923622192741,
          0.5368398416756607,
          0.15477485018300688,
          -0.1821151190071955
         ],
         "z": [
          -0.3928705196505938,
          -0.2283712530399666,
          -0.09490787222814943,
          -0.021707632126704908,
          -0.012879377240796975,
          -0.049078786434598044,
          -0.10167914596179928,
          -0.15117344859136597,
          -0.1973509116425202,
          -0.2565314536142241,
          -0.3474932713757505,
          -0.4749358402570665,
          -0.6218153201587777,
          -0.7543972007852969,
          -0.8371364011695024,
          -0.849322255068212,
          -0.7938428567123155,
          -0.6951121705585991,
          -0.5874400203559615,
          -0.5003406195330766,
          -0.4478862368131249,
          -0.4266486983111208
         ]
        },
        {
         "legendgroup": "left",
         "line": {
          "color": "red",
          "width": 1
         },
         "mode": "lines",
         "showlegend": false,
         "type": "scatter3d",
         "x": [
          -100,
          -50,
          0,
          50,
          100,
          150,
          200,
          250,
          300,
          350,
          400,
          450,
          500,
          550,
          600,
          650,
          700,
          750,
          800,
          850,
          900,
          950
         ],
         "y": [
          1.0684344949136242,
          1.3286820252650988,
          1.4057506749858582,
          1.305438129254058,
          1.0931557386861774,
          0.8623101331401829,
          0.6908234349484306,
          0.6085606865096771,
          0.5916979447714141,
          0.5847510399003184,
          0.5367187714085766,
          0.4298196316216768,
          0.2891241561111116,
          0.1699883878651851,
          0.13243053939761587,
          0.21335583455904505,
          0.40918563553538884,
          0.6744804508158903,
          0.9366361331285904,
          1.1211240961783355,
          1.1762788095430743,
          1.0902974812686588
         ],
         "z": [
          -0.40643095303179055,
          -0.23941481376015872,
          -0.1501991840417121,
          -0.14766476522903507,
          -0.20043336532335568,
          -0.25438844191442783,
          -0.2620512667987971,
          -0.20684282361126866,
          -0.10859900763871654,
          -0.008587189398933716,
          0.05561524954978675,
          0.06873948382625888,
          0.040117916168178204,
          -0.009297547014599424,
          -0.06422284335923766,
          -0.12429789754701155,
          -0.2004831204722853,
          -0.3025516346258568,
          -0.4271545163288767,
          -0.5546118932351887,
          -0.6562209611141941,
          -0.7066510205643379
         ]
        },
        {
         "legendgroup": "left",
         "line": {
          "color": "red",
          "width": 1
         },
         "mode": "lines",
         "showlegend": false,
         "type": "scatter3d",
         "x": [
          -100,
          -50,
          0,
          50,
          100,
          150,
          200,
          250,
          300,
          350,
          400,
          450,
          500,
          550,
          600,
          650,
          700,
          750,
          800,
          850,
          900,
          950
         ],
         "y": [
          0.47758343454832164,
          0.8194718446192345,
          1.0542473054830659,
          1.1346039841268434,
          1.0599092744782135,
          0.8763090103584334,
          0.6604080628993133,
          0.49329657258945725,
          0.43681827864615724,
          0.5181414380676251,
          0.7263223088544678,
          1.0185349784574877,
          1.3307281325726872,
          1.592553513798505,
          1.7430517006840835,
          1.743194714820484,
          1.585860541960403,
          1.29656214149499,
          0.9250579202990555,
          0.5312368472797002,
          0.16978696877481453,
          -0.11997236995694072
         ],
         "z": [
          -0.46668142372605664,
          -0.24419300108997194,
          -0.05090317786841901,
          0.07688693705866653,
          0.12956258840556045,
          0.12334978049718905,
          0.0857602335508598,
          0.03592691776970571,
          -0.028863476604189947,
          -0.1313898010459849,
          -0.29790024957231137,
          -0.5347552119431817,
          -0.8128786576359347,
          -1.0707065293479385,
          -1.2347008628019338,
          -1.2504764251094376,
          -1.1071538646365062,
          -0.844084966178369,
          -0.5340346352577305,
          -0.2553121566181027,
          -0.06351975977072835,
          0.02348547542648935
         ]
        },
        {
         "legendgroup": "left",
         "line": {
          "color": "red",
          "width": 1
         },
         "mode": "lines",
         "showlegend": false,
         "type": "scatter3d",
         "x": [
          -100,
          -50,
          0,
          50,
          100,
          150,
          200,
          250,
          300,
          350,
          400,
          450,
          500,
          550,
          600,
          650,
          700,
          750,
          800,
          850,
          900,
          950
         ],
         "y": [
          0.03220112670897898,
          0.2858461914316747,
          0.5329073833260812,
          0.7412964905014041,
          0.887575999651844,
          0.9591978951773772,
          0.9567210808633451,
          0.8921225106024115,
          0.7868418397907951,
          0.6676351437947394,
          0.5609714983005574,
          0.48714723447706193,
          0.45541757294088325,
          0.4605688084643282,
          0.4832301836902792,
          0.49512882763449134,
          0.4687258490804737,
          0.38834650761006895,
          0.2575657065188199,
          0.09925869270269033,
          -0.053119001371129355,
          -0.16840099833027003
         ],
         "z": [
          0.22928784743398128,
          0.24845348378559617,
          0.2276681090220669,
          0.17964382134317264,
          0.12416725399639691,
          0.07591854451485223,
          0.03694554567055844,
          -0.003955143777795406,
          -0.06233672414063787,
          -0.14711616009132153,
          -0.25401725574346,
          -0.36833010692735574,
          -0.4735314797415662,
          -0.5609334897476874,
          -0.6328715377478468,
          -0.6975046125436238,
          -0.759013847412465,
          -0.8101103072690545,
          -0.8325158049760045,
          -0.8055055873035047,
          -0.7178551542892324,
          -0.575551294355247
         ]
        },
        {
         "legendgroup": "left",
         "line": {
          "color": "red",
          "width": 1
         },
         "mode": "lines",
         "showlegend": false,
         "type": "scatter3d",
         "x": [
          -100,
          -50,
          0,
          50,
          100,
          150,
          200,
          250,
          300,
          350,
          400,
          450,
          500,
          550,
          600,
          650,
          700,
          750,
          800,
          850,
          900,
          950
         ],
         "y": [
          0.5452848286159621,
          0.9368152528976196,
          1.156185099610103,
          1.1612215443889584,
          0.986278238595616,
          0.7280108825049547,
          0.5025077738100622,
          0.39377064634603237,
          0.42092469964715973,
          0.5397230944729197,
          0.6755951416282321,
          0.7670420106167412,
          0.7932136866575439,
          0.7729918056373231,
          0.7392653712304945,
          0.7104478225066958,
          0.6764008861944234,
          0.6076025310267072,
          0.4780649344943834,
          0.28651667587611995,
          0.06087091095907099,
          -0.1532807835908882
         ],
         "z": [
          -0.9129961181214638,
          -0.6635484147769223,
          -0.3711845132804955,
          -0.09935760346469091,
          0.09884723199102984,
          0.19967812357372744,
          0.21388131114337508,
          0.17638566617877816,
          0.1238227898529743,
          0.072849850668302,
          0.011580199982696729,
          -0.09075566109881743,
          -0.2618043526372253,
          -0.5031641330620855,
          -0.7829477354050918,
          -1.0465397890730315,
          -1.2414183203391838,
          -1.340648447871408,
          -1.3527142100844698,
          -1.312498293172922,
          -1.2593442865244526,
          -1.2168442199069989
         ]
        },
        {
         "legendgroup": "right",
         "line": {
          "color": "blue",
          "width": 1
         },
         "mode": "lines",
         "showlegend": false,
         "type": "scatter3d",
         "x": [
          -100,
          -50,
          0,
          50,
          100,
          150,
          200,
          250,
          300,
          350,
          400,
          450,
          500,
          550,
          600,
          650,
          700,
          750,
          800,
          850,
          900,
          950
         ],
         "y": [
          1.3073871520475673,
          1.405702375625459,
          1.3493771481174381,
          1.166632105340606,
          0.9396397590824298,
          0.7736332938906055,
          0.7507237870517348,
          0.8912407112463439,
          1.1456009425698144,
          1.420890182741609,
          1.6283116398957564,
          1.7233628807861154,
          1.7190209553307767,
          1.6673937423607292,
          1.6237726182685772,
          1.61605704872779,
          1.6306366190565473,
          1.6237460011390208,
          1.54422333744582,
          1.3596703318395698,
          1.071341719931539,
          0.713873811069311
         ],
         "z": [
          -0.4311075107602676,
          -0.5009318261378307,
          -0.5995364529653037,
          -0.7111754878065,
          -0.80891676722332,
          -0.8656217517442363,
          -0.8652344086001956,
          -0.8085346344656323,
          -0.7116534427253963,
          -0.5985977235069581,
          -0.49303746082449346,
          -0.4117831906152386,
          -0.3615403920941961,
          -0.3368443839548833,
          -0.32106915196568475,
          -0.2897002725510279,
          -0.2207988424737455,
          -0.10586737259839209,
          0.04147489579840973,
          0.1887075528278841,
          0.29714352976349323,
          0.33824827357909637
         ]
        },
        {
         "legendgroup": "left",
         "line": {
          "color": "red",
          "width": 1
         },
         "mode": "lines",
         "showlegend": false,
         "type": "scatter3d",
         "x": [
          -100,
          -50,
          0,
          50,
          100,
          150,
          200,
          250,
          300,
          350,
          400,
          450,
          500,
          550,
          600,
          650,
          700,
          750,
          800,
          850,
          900,
          950
         ],
         "y": [
          1.1440646099252463,
          1.2367648734229442,
          1.2220784590097105,
          1.1196244251719747,
          0.9793453912617492,
          0.8640904858431181,
          0.8277227335079002,
          0.8965780211596368,
          1.062757211296442,
          1.2878478378155864,
          1.5166245224945505,
          1.6927098819942812,
          1.7758348096446406,
          1.7536480085242547,
          1.6465094272389929,
          1.5014636912443993,
          1.373772451450757,
          1.3046348167586899,
          1.3040281242587544,
          1.3467626506320975,
          1.3849077155629728,
          1.370188275905353
         ],
         "z": [
          -0.6712882195949157,
          -0.4826427071369462,
          -0.274422737036955,
          -0.06943979829132961,
          0.11901713528438775,
          0.2809526483503616,
          0.39893118965909885,
          0.4430198830014002,
          0.38066122697871946,
          0.19907846055176417,
          -0.07291543580770006,
          -0.36077214274620506,
          -0.5657207739457021,
          -0.6067458919849108,
          -0.46072314423800853,
          -0.18155518396242576,
          0.11685303158247858,
          0.30335158926122935,
          0.2819340053237001,
          0.02783361719815188,
          -0.4049549741058341,
          -0.9070799215737579
         ]
        },
        {
         "legendgroup": "right",
         "line": {
          "color": "blue",
          "width": 1
         },
         "mode": "lines",
         "showlegend": false,
         "type": "scatter3d",
         "x": [
          -100,
          -50,
          0,
          50,
          100,
          150,
          200,
          250,
          300,
          350,
          400,
          450,
          500,
          550,
          600,
          650,
          700,
          750,
          800,
          850,
          900,
          950
         ],
         "y": [
          0.4395481773089962,
          0.6953818413155047,
          0.8374650306596481,
          0.8653498549854043,
          0.8274679305419234,
          0.7948179537362527,
          0.8200290160220947,
          0.9048353175047539,
          0.995041782739184,
          1.0069508590545067,
          0.8705569427024986,
          0.5686656868662477,
          0.14867596286136486,
          -0.2947486284690929,
          -0.6549986179745063,
          -0.8497602367240822,
          -0.8426690996285416,
          -0.6461409751671225,
          -0.31050458533226366,
          0.0936399603185616,
          0.4920922398697164,
          0.8211376238971939
         ],
         "z": [
          -0.5022033501148165,
          -0.2812911254466329,
          -0.04616858378384219,
          0.13707762407066093,
          0.20155645846939213,
          0.1011011746646123,
          -0.17033312524141833,
          -0.5696209652891094,
          -1.0116605473003797,
          -1.3938959008158083,
          -1.62903685979246,
          -1.6748623534516958,
          -1.5468865594996557,
          -1.3097258268227876,
          -1.0516530500366905,
          -0.8524890115275592,
          -0.7589760285226702,
          -0.7746337707001395,
          -0.8665637301428933,
          -0.9825106442251272,
          -1.0709686789593618,
          -1.097013582622819
         ]
        },
        {
         "legendgroup": "right",
         "line": {
          "color": "blue",
          "width": 1
         },
         "mode": "lines",
         "showlegend": false,
         "type": "scatter3d",
         "x": [
          -100,
          -50,
          0,
          50,
          100,
          150,
          200,
          250,
          300,
          350,
          400,
          450,
          500,
          550,
          600,
          650,
          700,
          750,
          800,
          850,
          900,
          950
         ],
         "y": [
          0.15205018406143508,
          0.7639854717045238,
          1.3130459986091103,
          1.6862943946493336,
          1.820528359546056,
          1.7254558850715347,
          1.478843961649016,
          1.194886591537028,
          0.9802555903978316,
          0.8972076029297374,
          0.949971953706902,
          1.09717842461718,
          1.278686121046635,
          1.442294493387169,
          1.5577935531694678,
          1.614460489777548,
          1.6127190152525301,
          1.5562156160422382,
          1.449450908241838,
          1.3001919315390944,
          1.121508129192285,
          0.9305994446137907
         ],
         "z": [
          -0.7561505246353298,
          -0.7517621018682814,
          -0.7196182708923169,
          -0.6715689319926696,
          -0.622391509649484,
          -0.585359705627465,
          -0.5679288692380334,
          -0.5685196632998479,
          -0.5757266212648466,
          -0.5723384479136382,
          -0.5429034408692104,
          -0.48304843657698865,
          -0.4056427894791151,
          -0.337857229455979,
          -0.31080000825727483,
          -0.3434125329234521,
          -0.4307007116777512,
          -0.5429344457793057,
          -0.6373319577389648,
          -0.6759539195874278,
          -0.6411371596715085,
          -0.5407132089616745
         ]
        },
        {
         "legendgroup": "right",
         "line": {
          "color": "blue",
          "width": 1
         },
         "mode": "lines",
         "showlegend": false,
         "type": "scatter3d",
         "x": [
          -100,
          -50,
          0,
          50,
          100,
          150,
          200,
          250,
          300,
          350,
          400,
          450,
          500,
          550,
          600,
          650,
          700,
          750,
          800,
          850,
          900,
          950
         ],
         "y": [
          0.18476409278067718,
          0.8601616333368768,
          1.4778267030662395,
          1.9272213707327208,
          2.1395597494441048,
          2.1035702034827577,
          1.8637378168805572,
          1.5030843024090406,
          1.118252197984065,
          0.7947195432226904,
          0.5869269594080455,
          0.5078521441322178,
          0.5312418844528665,
          0.604623444722427,
          0.6726389935723168,
          0.6986073490347852,
          0.678323274964363,
          0.637145994804241,
          0.6129899492350706,
          0.634118545272837,
          0.7041399715394505,
          0.7997542311961827
         ],
         "z": [
          -0.5219503282216531,
          -0.5882478482123268,
          -0.6358141268434758,
          -0.661216346459767,
          -0.6698836291081615,
          -0.6768652863870782,
          -0.7028977058276288,
          -0.7625935700632963,
          -0.8532268625643153,
          -0.9484319546223019,
          -1.005067310272462,
          -0.9814788314177201,
          -0.8600626399371699,
          -0.660217067977954,
          -0.4349117073567299,
          -0.24998848009167804,
          -0.1562824515799085,
          -0.16838272557937797,
          -0.260600827226306,
          -0.3810293335299675,
          -0.47470613490974706,
          -0.5052309777603601
         ]
        },
        {
         "legendgroup": "right",
         "line": {
          "color": "blue",
          "width": 1
         },
         "mode": "lines",
         "showlegend": false,
         "type": "scatter3d",
         "x": [
          -100,
          -50,
          0,
          50,
          100,
          150,
          200,
          250,
          300,
          350,
          400,
          450,
          500,
          550,
          600,
          650,
          700,
          750,
          800,
          850,
          900,
          950
         ],
         "y": [
          0.9676470615566748,
          1.5115307411413303,
          1.9130565809613846,
          2.0998329098245616,
          2.0545395398313318,
          1.816219392358483,
          1.4635489564378639,
          1.0875888931006845,
          0.7663102867035977,
          0.5461415002371519,
          0.43658735689582095,
          0.41451724399093814,
          0.437683881884304,
          0.4611738704449043,
          0.45427801169952664,
          0.41070406495863077,
          0.35013494162710823,
          0.30846833958560377,
          0.3217947086877692,
          0.40857655725209113,
          0.5606173283784393,
          0.7435514308395588
         ],
         "z": [
          -0.6253780188725767,
          -0.6133715210707319,
          -0.6095354648709014,
          -0.6177637526428422,
          -0.6290884117364959,
          -0.6279407093778493,
          -0.6022396033865094,
          -0.5547453223969419,
          -0.5046741999127017,
          -0.480468533525505,
          -0.5029146477071473,
          -0.5713211003853815,
          -0.6584849780913811,
          -0.7204635312780201,
          -0.7162864974408318,
          -0.6275501802638621,
          -0.4678059218929246,
          -0.27632686337187584,
          -0.10046695223106362,
          0.02352930168355516,
          0.08303633628115083,
          0.0881623252571156
         ]
        },
        {
         "legendgroup": "right",
         "line": {
          "color": "blue",
          "width": 1
         },
         "mode": "lines",
         "showlegend": false,
         "type": "scatter3d",
         "x": [
          -100,
          -50,
          0,
          50,
          100,
          150,
          200,
          250,
          300,
          350,
          400,
          450,
          500,
          550,
          600,
          650,
          700,
          750,
          800,
          850,
          900,
          950
         ],
         "y": [
          1.0969316016479789,
          1.391412202605643,
          1.6374480784190026,
          1.8052493295139338,
          1.8837052446905664,
          1.8798214941001985,
          1.8117786165909449,
          1.7030990121819467,
          1.5773470465582209,
          1.4598158419283216,
          1.3760796100444461,
          1.348245354570511,
          1.3829963245040653,
          1.4635331393227795,
          1.5516975486619105,
          1.6023471434152001,
          1.5827606893009263,
          1.48597596690464,
          1.33216892641808,
          1.1549424316072263,
          0.9854584966936901,
          0.8404183980926707
         ],
         "z": [
          -0.91700633698899,
          -0.8264989584652703,
          -0.7830352018635254,
          -0.7894405208880955,
          -0.8067232860098065,
          -0.7713574916534535,
          -0.6307602682182658,
          -0.3770989520095236,
          -0.06057720374639829,
          0.22712478498051206,
          0.39171992913528814,
          0.3786289500968258,
          0.1959701043098044,
          -0.08805633585225316,
          -0.37208737354199745,
          -0.5595179834357303,
          -0.5910372509892721,
          -0.4613889341391584,
          -0.2153908560679363,
          0.07348633507500323,
          0.3302485701452119,
          0.5023281232498812
         ]
        },
        {
         "legendgroup": "right",
         "line": {
          "color": "blue",
          "width": 1
         },
         "mode": "lines",
         "showlegend": false,
         "type": "scatter3d",
         "x": [
          -100,
          -50,
          0,
          50,
          100,
          150,
          200,
          250,
          300,
          350,
          400,
          450,
          500,
          550,
          600,
          650,
          700,
          750,
          800,
          850,
          900,
          950
         ],
         "y": [
          0.2764975374343668,
          0.6709766464561528,
          1.1301111816992366,
          1.5469733633735436,
          1.8095475091009583,
          1.8470448263342711,
          1.6631645677621185,
          1.3358575496643301,
          0.9828091106188429,
          0.7090425739203456,
          0.5629911864015109,
          0.5245761483036496,
          0.5273420315320615,
          0.500459301751266,
          0.4053431566265068,
          0.24991428785928396,
          0.07703679722670445,
          -0.06207818554730845,
          -0.13324934270199093,
          -0.13141636728449266,
          -0.07735697728698163,
          -0.0035082489212865564
         ],
         "z": [
          -0.39476127695606256,
          -0.4892582829017597,
          -0.5571478765662847,
          -0.6006841863219685,
          -0.6271439748209875,
          -0.642425354265398,
          -0.6470258098321443,
          -0.6380618558028306,
          -0.6164104035909721,
          -0.5916862210844379,
          -0.5804941075029064,
          -0.5964570671814626,
          -0.6394898108675691,
          -0.6909690916896675,
          -0.721212950869035,
          -0.7043003175874963,
          -0.6314150550776451,
          -0.5158257703205845,
          -0.38539573753415296,
          -0.26945814004292307,
          -0.1865416879633405,
          -0.13970183320730906
         ]
        },
        {
         "legendgroup": "right",
         "line": {
          "color": "blue",
          "width": 1
         },
         "mode": "lines",
         "showlegend": false,
         "type": "scatter3d",
         "x": [
          -100,
          -50,
          0,
          50,
          100,
          150,
          200,
          250,
          300,
          350,
          400,
          450,
          500,
          550,
          600,
          650,
          700,
          750,
          800,
          850,
          900,
          950
         ],
         "y": [
          0.7209803704940106,
          1.0987908825004642,
          1.4412491975597066,
          1.676368385092587,
          1.7532644367479289,
          1.6614580013961313,
          1.4365379100551152,
          1.1490856048859899,
          0.8816040271389832,
          0.7011126839916034,
          0.6366258897951933,
          0.6708229934670934,
          0.7484870653608867,
          0.7996445384657758,
          0.7689095608644119,
          0.6384784208383141,
          0.43447787502252994,
          0.21403529153829423,
          0.03892114400872082,
          -0.05032472297906165,
          -0.048317692189516974,
          0.0184915869567037
         ],
         "z": [
          -0.17225975148441125,
          -0.31943745535571777,
          -0.4419451459421989,
          -0.5340012133287414,
          -0.6027607389609418,
          -0.6632798659550718,
          -0.7302586150115711,
          -0.8104701375419574,
          -0.8996566172991082,
          -0.9841212211486035,
          -1.0465013632740274,
          -1.073276453573784,
          -1.0603666218793315,
          -1.0149596576943467,
          -0.9512401895113469,
          -0.8834520170606097,
          -0.8187794787873939,
          -0.7544177860160413,
          -0.6809302831426141,
          -0.5889817556644948,
          -0.4763290401370933,
          -0.350375592046609
         ]
        },
        {
         "legendgroup": "right",
         "line": {
          "color": "blue",
          "width": 1
         },
         "mode": "lines",
         "showlegend": false,
         "type": "scatter3d",
         "x": [
          -100,
          -50,
          0,
          50,
          100,
          150,
          200,
          250,
          300,
          350,
          400,
          450,
          500,
          550,
          600,
          650,
          700,
          750,
          800,
          850,
          900,
          950
         ],
         "y": [
          0.34181998786638607,
          0.9539955826673451,
          1.4929271821479955,
          1.8700707705228141,
          2.041111467689252,
          2.0108061165894147,
          1.8213836232558738,
          1.533016281346135,
          1.2091499327183406,
          0.91015644716159,
          0.6909527994151131,
          0.5932316044120416,
          0.6306441658344649,
          0.7759444787977952,
          0.9638667130450356,
          1.1146316348868301,
          1.1695138378290433,
          1.1184879136162618,
          1.0026944317831898,
          0.8900717529256781,
          0.8373715479751199,
          0.8621146224199001
         ],
         "z": [
          -0.7811540760621853,
          -0.789506294490615,
          -0.7718323460531892,
          -0.7358527649706563,
          -0.6912860065712905,
          -0.6502241224977285,
          -0.6259083677345367,
          -0.6281740066708724,
          -0.6549285679823014,
          -0.6862723968844857,
          -0.6878714997440898,
          -0.6257744497127316,
          -0.48839776229462556,
          -0.3015043827997843,
          -0.12480430392073627,
          -0.027580866817569247,
          -0.05481846512405819,
          -0.20229955795619928,
          -0.4155479572079593,
          -0.6135138353312993,
          -0.7244452875113877,
          -0.7139358789801676
         ]
        },
        {
         "legendgroup": "right",
         "line": {
          "color": "blue",
          "width": 1
         },
         "mode": "lines",
         "showlegend": false,
         "type": "scatter3d",
         "x": [
          -100,
          -50,
          0,
          50,
          100,
          150,
          200,
          250,
          300,
          350,
          400,
          450,
          500,
          550,
          600,
          650,
          700,
          750,
          800,
          850,
          900,
          950
         ],
         "y": [
          0.4134090530051463,
          0.9937105712580582,
          1.477666828358693,
          1.7869509558617647,
          1.889767347741712,
          1.8018457639145853,
          1.570020937663999,
          1.2523320494231596,
          0.9023502400394889,
          0.5617639551468272,
          0.259937955507231,
          0.015602495548132513,
          -0.16243722803224175,
          -0.2743183223594543,
          -0.3251728237993853,
          -0.3204207701636779,
          -0.2619148002025153,
          -0.14856336942333212,
          0.01763256205933521,
          0.22451962514708207,
          0.44652808967028607,
          0.6485104305182652
         ],
         "z": [
          -0.7452631999479034,
          -0.7732232721429861,
          -0.7729225729124883,
          -0.7491242100791071,
          -0.7081296403477625,
          -0.6553575822163504,
          -0.5936596288969781,
          -0.5244111448264166,
          -0.4493893384403265,
          -0.37351868786434755,
          -0.3056935649498148,
          -0.2570224413744688,
          -0.23727011117303726,
          -0.25078351094298695,
          -0.2939728924863941,
          -0.3554164703789555,
          -0.4184732993107524,
          -0.46550572526822237,
          -0.4826252085566628,
          -0.4632162682471143,
          -0.4094335986698578,
          -0.33096211184229996
         ]
        },
        {
         "legendgroup": "right",
         "line": {
          "color": "blue",
          "width": 1
         },
         "mode": "lines",
         "showlegend": false,
         "type": "scatter3d",
         "x": [
          -100,
          -50,
          0,
          50,
          100,
          150,
          200,
          250,
          300,
          350,
          400,
          450,
          500,
          550,
          600,
          650,
          700,
          750,
          800,
          850,
          900,
          950
         ],
         "y": [
          0.3995838733607887,
          0.9677916274677126,
          1.471518665381922,
          1.831695423752975,
          2.0126854563262704,
          2.026077376281085,
          1.9146270889386472,
          1.7276015559113171,
          1.498163080680539,
          1.237000450354744,
          0.9438630894851149,
          0.6268813217568799,
          0.3169485131348633,
          0.06669825518404467,
          -0.0692314913406618,
          -0.060937224312000715,
          0.07696542976291203,
          0.28467504391992465,
          0.4781517946106104,
          0.581909308089785,
          0.5567990551557993,
          0.4122817585291351
         ],
         "z": [
          -0.6245703126187,
          -0.7431508865734799,
          -0.8078824120845023,
          -0.8083178806870996,
          -0.7501042360515581,
          -0.653268474674295,
          -0.5452592408584203,
          -0.45295147179706274,
          -0.39611592461312833,
          -0.38427508962233403,
          -0.41576655400348306,
          -0.4777472226780255,
          -0.5472226908907776,
          -0.5939847165269594,
          -0.5881785773027042,
          -0.5103637805308072,
          -0.3610137787833173,
          -0.16366093443444923,
          0.040956504124079515,
          0.20866879599000607,
          0.30685789380788775,
          0.32532971399454763
         ]
        },
        {
         "legendgroup": "left",
         "line": {
          "color": "red",
          "width": 1
         },
         "mode": "lines",
         "showlegend": false,
         "type": "scatter3d",
         "x": [
          -100,
          -50,
          0,
          50,
          100,
          150,
          200,
          250,
          300,
          350,
          400,
          450,
          500,
          550,
          600,
          650,
          700,
          750,
          800,
          850,
          900,
          950
         ],
         "y": [
          -0.010390032431691848,
          0.3147743591056136,
          0.5865569604308528,
          0.7898324867111605,
          0.9412430796599489,
          1.0669206946459147,
          1.176011421144899,
          1.2462153479886626,
          1.2346010387768476,
          1.1087624907878564,
          0.8778665437299022,
          0.6020853078166244,
          0.3722499909796759,
          0.267802949131935,
          0.31885564149513657,
          0.49307758477865904,
          0.7133874998108222,
          0.8961781859408414,
          0.9864409247220088,
          0.9745363512052988,
          0.887969948705133,
          0.7689981661497546
         ],
         "z": [
          -0.17174228947701395,
          -0.09880147782339226,
          -0.026682570548776104,
          0.046956167324543024,
          0.12370956358341897,
          0.19478066149999765,
          0.23852017346950444,
          0.2288912454920951,
          0.15213067300153515,
          0.021641689623700062,
          -0.12131487252715219,
          -0.2237767771814963,
          -0.24643219898963364,
          -0.1837766532747437,
          -0.06666583294419538,
          0.05408754183180948,
          0.13333021069382422,
          0.15219500424277527,
          0.12290911040120925,
          0.07763683033355186,
          0.0493467247577206,
          0.055776043453651
         ]
        },
        {
         "legendgroup": "left",
         "line": {
          "color": "red",
          "width": 1
         },
         "mode": "lines",
         "showlegend": false,
         "type": "scatter3d",
         "x": [
          -100,
          -50,
          0,
          50,
          100,
          150,
          200,
          250,
          300,
          350,
          400,
          450,
          500,
          550,
          600,
          650,
          700,
          750,
          800,
          850,
          900,
          950
         ],
         "y": [
          1.209255770985885,
          1.429327703302437,
          1.5292078429194462,
          1.4951212583640037,
          1.3432448626209759,
          1.1136929311147794,
          0.8563049952641265,
          0.6141207703376217,
          0.41210978449181196,
          0.25304593214011184,
          0.12560387631569683,
          0.018808613426710447,
          -0.06261294149429482,
          -0.09550023211774945,
          -0.049017854678728545,
          0.09371867448019389,
          0.3162631202310677,
          0.5653154366196745,
          0.7672870944159346,
          0.8578327779312427,
          0.8082504987338504,
          0.6358613785037563
         ],
         "z": [
          -0.7602898611275887,
          -0.6449217839076042,
          -0.428760016056478,
          -0.14480137201711332,
          0.149319290022043,
          0.3870199402942239,
          0.5129083867352537,
          0.5015953884160981,
          0.36764239095073037,
          0.1613496813499998,
          -0.04633643430847981,
          -0.18657911258262988,
          -0.21305067328445218,
          -0.11555884896987384,
          0.07791300144570588,
          0.31005825497924816,
          0.511470340771265,
          0.6210548567334174,
          0.6039348788592941,
          0.4610981691179463,
          0.22759452210607817,
          -0.04020070979430908
         ]
        },
        {
         "legendgroup": "right",
         "line": {
          "color": "blue",
          "width": 1
         },
         "mode": "lines",
         "showlegend": false,
         "type": "scatter3d",
         "x": [
          -100,
          -50,
          0,
          50,
          100,
          150,
          200,
          250,
          300,
          350,
          400,
          450,
          500,
          550,
          600,
          650,
          700,
          750,
          800,
          850,
          900,
          950
         ],
         "y": [
          0.404716865216141,
          0.952797913598891,
          1.4266011820244715,
          1.7366956070047619,
          1.8437935357609267,
          1.7728026030262425,
          1.5999787783970716,
          1.4190457318660346,
          1.3014710106448704,
          1.272106973535551,
          1.3077954209873186,
          1.35945404499008,
          1.3843748129223927,
          1.3713433536151174,
          1.342838051407032,
          1.3384826053533723,
          1.3884837203398528,
          1.4910375792317125,
          1.6085744076178252,
          1.6831547645780758,
          1.6625950683358661,
          1.5231080025672148
         ],
         "z": [
          -0.642071356370496,
          -0.6424864111883486,
          -0.6232522578283591,
          -0.5693675596996575,
          -0.45815362999117687,
          -0.27079763280815955,
          -0.007194851734797258,
          0.30449420120751447,
          0.6106082810581187,
          0.8485940314380966,
          0.9695261739794195,
          0.9554131032973986,
          0.8234635404309496,
          0.6165723912979607,
          0.3845843662807977,
          0.16824829181939163,
          -0.007798054281770429,
          -0.13499896703696382,
          -0.21438498147085025,
          -0.2513203804716448,
          -0.25244013637866175,
          -0.2257258314728524
         ]
        },
        {
         "legendgroup": "left",
         "line": {
          "color": "red",
          "width": 1
         },
         "mode": "lines",
         "showlegend": false,
         "type": "scatter3d",
         "x": [
          -100,
          -50,
          0,
          50,
          100,
          150,
          200,
          250,
          300,
          350,
          400,
          450,
          500,
          550,
          600,
          650,
          700,
          750,
          800,
          850,
          900,
          950
         ],
         "y": [
          0.5300136876049311,
          0.8435309946926656,
          0.975139221316527,
          0.8868888216767483,
          0.6148316247328232,
          0.2565904806231329,
          -0.06966416327807763,
          -0.27213965834995785,
          -0.31647006634019437,
          -0.22786415603848714,
          -0.06887111060915402,
          0.09204151312720582,
          0.20236530103851144,
          0.23443109170688017,
          0.18362740543744382,
          0.06387605662264872,
          -0.09576938490781291,
          -0.25470682726012217,
          -0.36988224127217056,
          -0.40843822155278914,
          -0.35966289259837275,
          -0.23928444113028102
         ],
         "z": [
          -0.42475127055295675,
          -0.16683573835779547,
          0.07777091851085671,
          0.2747318761257398,
          0.4130695251705393,
          0.502170922379891,
          0.5560451668003499,
          0.5763464040366884,
          0.5461158687200829,
          0.43909567563887186,
          0.24005528730424786,
          -0.0372178081945228,
          -0.3459869211395425,
          -0.6206789833249894,
          -0.800937140877034,
          -0.8542627251384429,
          -0.7851321041227477,
          -0.628593831406069,
          -0.4336971826831122,
          -0.24565760005972104,
          -0.09421439852997512,
          0.008966720227794545
         ]
        },
        {
         "legendgroup": "left",
         "line": {
          "color": "red",
          "width": 1
         },
         "mode": "lines",
         "showlegend": false,
         "type": "scatter3d",
         "x": [
          -100,
          -50,
          0,
          50,
          100,
          150,
          200,
          250,
          300,
          350,
          400,
          450,
          500,
          550,
          600,
          650,
          700,
          750,
          800,
          850,
          900,
          950
         ],
         "y": [
          1.1771433190737732,
          1.2321868234961935,
          1.219025458144175,
          1.1458151146344864,
          1.0259047800440777,
          0.8708570710707385,
          0.6891130416142536,
          0.48761968423406454,
          0.276821208737034,
          0.07300654306983761,
          -0.10333905931785145,
          -0.23413074143521365,
          -0.31222111624321425,
          -0.34786348338818707,
          -0.36807868195447174,
          -0.4079964245079224,
          -0.4969491549556745,
          -0.6445508428633826,
          -0.8347600169662441,
          -1.0298535432312934,
          -1.1841380259148764,
          -1.2598997994885175
         ],
         "z": [
          -1.130669279220829,
          -0.778355632726099,
          -0.39427870942827686,
          -0.045907133837913075,
          0.2146861723929752,
          0.36221007779994474,
          0.40000294018065624,
          0.35329637343095727,
          0.258947605523925,
          0.1549736028232996,
          0.07337358104421127,
          0.03477392093751584,
          0.0455173038931994,
          0.09654908539136149,
          0.166037269665783,
          0.22622383559906087,
          0.25297420012823013,
          0.23428873795065702,
          0.1743680912944932,
          0.09039066327469894,
          0.004988232840898115,
          -0.06258908535055473
         ]
        },
        {
         "legendgroup": "left",
         "line": {
          "color": "red",
          "width": 1
         },
         "mode": "lines",
         "showlegend": false,
         "type": "scatter3d",
         "x": [
          -100,
          -50,
          0,
          50,
          100,
          150,
          200,
          250,
          300,
          350,
          400,
          450,
          500,
          550,
          600,
          650,
          700,
          750,
          800,
          850,
          900,
          950
         ],
         "y": [
          0.5652272180910265,
          0.7763838842617092,
          0.8326857909176153,
          0.73885923428707,
          0.5622535756977465,
          0.40550261035432156,
          0.36195309850459656,
          0.4727128033167991,
          0.7079573015974829,
          0.9811283528848914,
          1.1890667248651583,
          1.2552286631337213,
          1.1587257970061238,
          0.9334679055752841,
          0.6461595475708098,
          0.3645064620529769,
          0.1346904512878627,
          -0.02660057857848073,
          -0.1252270367268799,
          -0.17653063873758554,
          -0.19496817210299675,
          -0.19025008222283535
         ],
         "z": [
          -0.4175699157686914,
          -0.1740254082860251,
          0.08889013213778041,
          0.3133395839484805,
          0.4450155415499807,
          0.44704641790794797,
          0.311808799616425,
          0.06549578809619726,
          -0.23660650762658741,
          -0.5242082852824439,
          -0.7320126747186643,
          -0.8194971022820912,
          -0.7821615471738101,
          -0.648661318746429,
          -0.46501792108562695,
          -0.27491495459429843,
          -0.10433063036536397,
          0.04125897485622675,
          0.16905500291896616,
          0.28698916242745964,
          0.3946871939214296,
          0.4823746018465706
         ]
        },
        {
         "legendgroup": "right",
         "line": {
          "color": "blue",
          "width": 1
         },
         "mode": "lines",
         "showlegend": false,
         "type": "scatter3d",
         "x": [
          -100,
          -50,
          0,
          50,
          100,
          150,
          200,
          250,
          300,
          350,
          400,
          450,
          500,
          550,
          600,
          650,
          700,
          750,
          800,
          850,
          900,
          950
         ],
         "y": [
          -0.9881845868782966,
          -0.476641603345528,
          0.16701272526095376,
          0.8176743248085885,
          1.3391393234560183,
          1.633499554615862,
          1.6782162119952213,
          1.531243032877608,
          1.299041921374925,
          1.0845654904082034,
          0.9424156662807074,
          0.8674078694431344,
          0.8188996065045935,
          0.7616860160799214,
          0.6961646957111317,
          0.6563964089780215,
          0.6830267906294424,
          0.788654703998731,
          0.941927105526758,
          1.079459598685919,
          1.1361349396737155,
          1.0768650340789405
         ],
         "z": [
          -0.784646902004386,
          -0.9227013283073188,
          -1.011063739131767,
          -1.0343671201921478,
          -0.9929488263782703,
          -0.9063949381483273,
          -0.809957202434964,
          -0.7456255694596529,
          -0.7483529397280502,
          -0.830971361566642,
          -0.973372660272569,
          -1.1227566002623308,
          -1.2079601851135346,
          -1.1667050524334086,
          -0.9754458128927482,
          -0.666980186034543,
          -0.32619520296465054,
          -0.06042690311296923,
          0.04197037343078611,
          -0.05244872719984078,
          -0.3101117455265956,
          -0.6452789461133065
         ]
        },
        {
         "legendgroup": "left",
         "line": {
          "color": "red",
          "width": 1
         },
         "mode": "lines",
         "showlegend": false,
         "type": "scatter3d",
         "x": [
          -100,
          -50,
          0,
          50,
          100,
          150,
          200,
          250,
          300,
          350,
          400,
          450,
          500,
          550,
          600,
          650,
          700,
          750,
          800,
          850,
          900,
          950
         ],
         "y": [
          0.1762622346365106,
          0.5159094224281444,
          0.7791196863804571,
          0.9129418515333808,
          0.9002033659713312,
          0.761332514646165,
          0.545261797037062,
          0.3107542260356628,
          0.11059586547159689,
          -0.019072362220973013,
          -0.0617283257037287,
          -0.018842233991578528,
          0.09490361834855324,
          0.2566821297144103,
          0.43986565620058066,
          0.6172964917152746,
          0.7620339826006626,
          0.8485977553424422,
          0.8565995198449389,
          0.775129594446503,
          0.6100077861082775,
          0.3855332083894596
         ],
         "z": [
          0.09244580647668876,
          0.1365380787581951,
          0.19168436831124164,
          0.2588378175348877,
          0.33484979391840203,
          0.40877924726347614,
          0.4619265041198338,
          0.4708959535289105,
          0.41613257925198727,
          0.29185043373300973,
          0.11288365997471578,
          -0.08595593840450948,
          -0.2597003550300821,
          -0.36944891853680506,
          -0.3983562354260431,
          -0.3600942889493722,
          -0.294706052737851,
          -0.2523503891385437,
          -0.27163778053502835,
          -0.3637178304288433,
          -0.5073295125511971,
          -0.6591060470614826
         ]
        },
        {
         "legendgroup": "left",
         "line": {
          "color": "red",
          "width": 1
         },
         "mode": "lines",
         "showlegend": false,
         "type": "scatter3d",
         "x": [
          -100,
          -50,
          0,
          50,
          100,
          150,
          200,
          250,
          300,
          350,
          400,
          450,
          500,
          550,
          600,
          650,
          700,
          750,
          800,
          850,
          900,
          950
         ],
         "y": [
          0.4136026462959439,
          0.6773921442523743,
          0.8180711453211554,
          0.80221724732896,
          0.651921032305845,
          0.439619454899144,
          0.2608719412694005,
          0.194760541885654,
          0.27093535098931776,
          0.45841125755870343,
          0.6807703977722978,
          0.8521510600548817,
          0.9158526914094086,
          0.8692328307297182,
          0.7638366212117188,
          0.6803449300499069,
          0.690870480058041,
          0.8247367609110329,
          1.0559015293891267,
          1.3138074537966058,
          1.5142891407205776,
          1.5930096155588498
         ],
         "z": [
          -0.5054035026504189,
          -0.33541030784796727,
          -0.15301883277504227,
          0.020778363793435683,
          0.17133935989055174,
          0.28543439241162494,
          0.34517864190125047,
          0.3277014156767559,
          0.2150672765445985,
          0.010690795772422905,
          -0.24777809145114837,
          -0.49040589652937433,
          -0.6367420035117531,
          -0.6285169848405664,
          -0.45836986269723945,
          -0.17850766774497015,
          0.11690751036260373,
          0.32718697326220597,
          0.38395573792010906,
          0.2739048569709259,
          0.03916373699676257,
          -0.24435751373191883
         ]
        },
        {
         "legendgroup": "left",
         "line": {
          "color": "red",
          "width": 1
         },
         "mode": "lines",
         "showlegend": false,
         "type": "scatter3d",
         "x": [
          -100,
          -50,
          0,
          50,
          100,
          150,
          200,
          250,
          300,
          350,
          400,
          450,
          500,
          550,
          600,
          650,
          700,
          750,
          800,
          850,
          900,
          950
         ],
         "y": [
          0.08911893101223774,
          0.5917524011217188,
          1.0230958544912598,
          1.2922809719522987,
          1.3538451348522866,
          1.2213558742731518,
          0.9562903121230386,
          0.6419180043528468,
          0.35283069454517296,
          0.13585129025950277,
          0.0054248100342858575,
          -0.04901540963240444,
          -0.05208135975381349,
          -0.03265621724735031,
          -0.017216930275738614,
          -0.02436401721925112,
          -0.059940914838946854,
          -0.1145557536372051,
          -0.16629352396266303,
          -0.1899680944819522,
          -0.1686859320483603,
          -0.10136905880932344
         ],
         "z": [
          -0.36363820786780154,
          -0.054395392586983296,
          0.20779962832306736,
          0.3496264821984354,
          0.33324645182147905,
          0.1716332114350769,
          -0.07677420298262523,
          -0.3307409431534965,
          -0.5161068831695413,
          -0.5890339021833781,
          -0.5444752605670461,
          -0.4096268890953845,
          -0.22848580149259184,
          -0.04553682860445653,
          0.10704580163818161,
          0.21592496630510968,
          0.2869532754771131,
          0.3398397858300437,
          0.39857639248250787,
          0.47939318038752865,
          0.5825581158100062,
          0.691420894580977
         ]
        },
        {
         "legendgroup": "left",
         "line": {
          "color": "red",
          "width": 1
         },
         "mode": "lines",
         "showlegend": false,
         "type": "scatter3d",
         "x": [
          -100,
          -50,
          0,
          50,
          100,
          150,
          200,
          250,
          300,
          350,
          400,
          450,
          500,
          550,
          600,
          650,
          700,
          750,
          800,
          850,
          900,
          950
         ],
         "y": [
          0.6673193907529787,
          0.8909517584589562,
          1.0213637689396353,
          1.0375946910267482,
          0.9474941168215688,
          0.7834165764826188,
          0.5899963050332626,
          0.4082268254305345,
          0.2641927807294324,
          0.16433252688259306,
          0.10051346716543089,
          0.06074946803998994,
          0.04010859960689062,
          0.04628228921405455,
          0.09548683505496093,
          0.19982107609731745,
          0.3532575954085596,
          0.5240280618131161,
          0.6604330740638678,
          0.7098147235700605,
          0.6405424876983217,
          0.4583619626138944
         ],
         "z": [
          -0.8010491086724455,
          -0.45065419567094317,
          -0.0743281547692843,
          0.23959036109263632,
          0.4178739836146512,
          0.42574493446040823,
          0.27564398376646937,
          0.01737402599944971,
          -0.28274305001109,
          -0.5636491463906734,
          -0.782465080379908,
          -0.9168723822568314,
          -0.9596390058023765,
          -0.9118958753824692,
          -0.7804784797005225,
          -0.5791426047256768,
          -0.3314532401995236,
          -0.07166072190570416,
          0.15984744448001817,
          0.3264113843113566,
          0.4051819841948501,
          0.3950403770034255
         ]
        },
        {
         "legendgroup": "left",
         "line": {
          "color": "red",
          "width": 1
         },
         "mode": "lines",
         "showlegend": false,
         "type": "scatter3d",
         "x": [
          -100,
          -50,
          0,
          50,
          100,
          150,
          200,
          250,
          300,
          350,
          400,
          450,
          500,
          550,
          600,
          650,
          700,
          750,
          800,
          850,
          900,
          950
         ],
         "y": [
          0.1705164718782353,
          0.33344886716664357,
          0.447467691987746,
          0.5188080379797124,
          0.5831238741654953,
          0.6868181414937385,
          0.8590508844219783,
          1.0871405170425208,
          1.3144866437750191,
          1.464351961133721,
          1.4795349746181483,
          1.3553546093378415,
          1.1466219497596668,
          0.9408119072369201,
          0.8133530645559769,
          0.7894331033875028,
          0.8333903608674479,
          0.8698961866609346,
          0.825312645197627,
          0.6626721706710776,
          0.3969774951496073,
          0.08421404625351843
         ],
         "z": [
          -0.24657420482890108,
          -0.1541016676283435,
          -0.059293468429075416,
          0.012157530756861674,
          0.036853716009294234,
          -0.0008117939830603208,
          -0.10426370152020592,
          -0.2647174890871246,
          -0.4627095080577366,
          -0.6717668703929432,
          -0.8611638335386783,
          -0.9994401489029712,
          -1.058523193600384,
          -1.0196809542014411,
          -0.8812431889382237,
          -0.6635458809731875,
          -0.4076807709140895,
          -0.16603947382736287,
          0.013362911646448983,
          0.1019479891051545,
          0.09885168901246551,
          0.028418942807060272
         ]
        },
        {
         "legendgroup": "left",
         "line": {
          "color": "red",
          "width": 1
         },
         "mode": "lines",
         "showlegend": false,
         "type": "scatter3d",
         "x": [
          -100,
          -50,
          0,
          50,
          100,
          150,
          200,
          250,
          300,
          350,
          400,
          450,
          500,
          550,
          600,
          650,
          700,
          750,
          800,
          850,
          900,
          950
         ],
         "y": [
          0.5980756007427425,
          0.7545305087317264,
          0.8161633496019549,
          0.7683808352389481,
          0.6363565925410343,
          0.48017629670350653,
          0.3730732789416666,
          0.36912522884752197,
          0.47923677089302597,
          0.664828054595166,
          0.856448568604466,
          0.9868687676667103,
          1.0220598053106922,
          0.9727494194380905,
          0.882692554451708,
          0.8013831120832332,
          0.7584214515299839,
          0.7526344397138598,
          0.759062700084048,
          0.7469626218218093,
          0.6972326051773007,
          0.6083757407226846
         ],
         "z": [
          -1.0380365639039613,
          -0.8828395957411143,
          -0.5700146389268895,
          -0.16241475825109378,
          0.2350613834789408,
          0.507770213286919,
          0.5727542958490968,
          0.4112151696759335,
          0.07774378044508914,
          -0.3202741050724432,
          -0.6639299648984164,
          -0.8664967770643919,
          -0.9000623769158254,
          -0.7954089233309317,
          -0.6162738737188637,
          -0.4251024958070044,
          -0.2570524628276137,
          -0.1133991999946122,
          0.02514977875189986,
          0.17768347027489206,
          0.3462107995094677,
          0.5115993455155963
         ]
        },
        {
         "legendgroup": "left",
         "line": {
          "color": "red",
          "width": 1
         },
         "mode": "lines",
         "showlegend": false,
         "type": "scatter3d",
         "x": [
          -100,
          -50,
          0,
          50,
          100,
          150,
          200,
          250,
          300,
          350,
          400,
          450,
          500,
          550,
          600,
          650,
          700,
          750,
          800,
          850,
          900,
          950
         ],
         "y": [
          0.45139592059966976,
          0.7272348223168333,
          0.8688974300798229,
          0.837538478611276,
          0.6586523016578321,
          0.41751860748011954,
          0.2237461347998711,
          0.1622601568947446,
          0.25546858706638653,
          0.4566995533630761,
          0.6779835048678553,
          0.8362696779352566,
          0.8943732065138982,
          0.8749225265968493,
          0.8442815264321898,
          0.8756886398815908,
          1.011510745346587,
          1.2418033771585733,
          1.5076546994819942,
          1.7263073239734956,
          1.8248890543565777,
          1.7667402552209313
         ],
         "z": [
          -0.45676789184652694,
          -0.20429528061929572,
          0.10386094213975336,
          0.3929347986669984,
          0.5840645031964569,
          0.6231502791184309,
          0.5026104342927147,
          0.2667764533291976,
          -0.002336544463722067,
          -0.2127278695456947,
          -0.2928784590692602,
          -0.21384816486297734,
          0.0032657805357543396,
          0.2954050736456809,
          0.5755333299090472,
          0.7553139022959814,
          0.7674365288942074,
          0.5821704841765748,
          0.21622899211265836,
          -0.2694332345144907,
          -0.7838923100142615,
          -1.2296298108892574
         ]
        },
        {
         "legendgroup": "right",
         "line": {
          "color": "blue",
          "width": 1
         },
         "mode": "lines",
         "showlegend": false,
         "type": "scatter3d",
         "x": [
          -100,
          -50,
          0,
          50,
          100,
          150,
          200,
          250,
          300,
          350,
          400,
          450,
          500,
          550,
          600,
          650,
          700,
          750,
          800,
          850,
          900,
          950
         ],
         "y": [
          0.31721792141907423,
          0.9118844809617875,
          1.4851269954554183,
          1.9256000184731128,
          2.1517911085493426,
          2.136054780298047,
          1.906312954669109,
          1.5286853260325253,
          1.0820472224893343,
          0.63788972968193,
          0.25336357924952485,
          -0.025168689028232,
          -0.1589984528354043,
          -0.12320951457606227,
          0.08057402266637052,
          0.41182692469761023,
          0.7945893734160139,
          1.1383280684681871,
          1.36845263390895,
          1.4508533084807533,
          1.3983600596913914,
          1.2550225371145947
         ],
         "z": [
          -1.0169964205831181,
          -0.9489312220784183,
          -0.8611164253531369,
          -0.7649431633338525,
          -0.659119122693913,
          -0.5336171620955398,
          -0.3807501511382142,
          -0.20873573301170234,
          -0.04565261158811934,
          0.06822750195667167,
          0.09950014403605849,
          0.04032632763319706,
          -0.0827843826008185,
          -0.21743424037181538,
          -0.30600291750134956,
          -0.3089210995823829,
          -0.2177006784386956,
          -0.05325920039291283,
          0.14687666526596654,
          0.34491789732158257,
          0.5130501967091482,
          0.6351194069674722
         ]
        },
        {
         "legendgroup": "left",
         "line": {
          "color": "red",
          "width": 1
         },
         "mode": "lines",
         "showlegend": false,
         "type": "scatter3d",
         "x": [
          -100,
          -50,
          0,
          50,
          100,
          150,
          200,
          250,
          300,
          350,
          400,
          450,
          500,
          550,
          600,
          650,
          700,
          750,
          800,
          850,
          900,
          950
         ],
         "y": [
          -0.012689809320671682,
          0.3594974402073854,
          0.6467902929722524,
          0.7889945274210686,
          0.7724621757261905,
          0.6304475628147604,
          0.4221088027403478,
          0.20242070512154978,
          0.0016393247006404005,
          -0.17720115321465332,
          -0.3424153602705007,
          -0.4924861458511048,
          -0.6039029395562028,
          -0.6360690213157963,
          -0.5511624866247071,
          -0.3381299954615963,
          -0.027110933326339112,
          0.3145689319160329,
          0.6031161117033876,
          0.7682044477600084,
          0.7766966979587686,
          0.6420038676458037
         ],
         "z": [
          0.04643557632553671,
          0.3474554653936984,
          0.5656050945296361,
          0.6413221788989893,
          0.5595419282574106,
          0.3571801048249561,
          0.10610701081902356,
          -0.11650181795812743,
          -0.2569297411111047,
          -0.2992635365893783,
          -0.26002080711206,
          -0.17024962159253942,
          -0.057507553105160494,
          0.06380539412348182,
          0.18978388949340771,
          0.3180745080410609,
          0.4395018414403954,
          0.536915450823367,
          0.5899413717675919,
          0.5845669108848717,
          0.519607785813123,
          0.4084265378213034
         ]
        },
        {
         "legendgroup": "right",
         "line": {
          "color": "blue",
          "width": 1
         },
         "mode": "lines",
         "showlegend": false,
         "type": "scatter3d",
         "x": [
          -100,
          -50,
          0,
          50,
          100,
          150,
          200,
          250,
          300,
          350,
          400,
          450,
          500,
          550,
          600,
          650,
          700,
          750,
          800,
          850,
          900,
          950
         ],
         "y": [
          1.4870570005675636,
          1.8614412684319759,
          2.0663872959639673,
          2.0835648622069316,
          1.9503243244247443,
          1.7440631567760536,
          1.5511767939504224,
          1.4341563511375646,
          1.4116969242195623,
          1.4583687761138049,
          1.5236694484256672,
          1.5571847013331848,
          1.5333112448551998,
          1.4608841655636733,
          1.3768536426230724,
          1.327488730136106,
          1.3465559674062317,
          1.4393558965515194,
          1.5795431489474279,
          1.7194825042871553,
          1.8066548390905488,
          1.8018484150809682
         ],
         "z": [
          -0.6055693293415284,
          -0.6350393857787215,
          -0.6368515828335006,
          -0.5839039023697218,
          -0.46019933256750584,
          -0.27702027806575,
          -0.0768796732353954,
          0.0818858691741069,
          0.15353741993540573,
          0.1290676620421462,
          0.042619757149398675,
          -0.04778445115544455,
          -0.09072761786352074,
          -0.06891095802770722,
          -0.0049494388571776,
          0.05413647265616361,
          0.06436426608279218,
          0.00790981553508966,
          -0.09950395290567382,
          -0.21902599008977516,
          -0.3089932201589651,
          -0.34267296920307294
         ]
        },
        {
         "legendgroup": "left",
         "line": {
          "color": "red",
          "width": 1
         },
         "mode": "lines",
         "showlegend": false,
         "type": "scatter3d",
         "x": [
          -100,
          -50,
          0,
          50,
          100,
          150,
          200,
          250,
          300,
          350,
          400,
          450,
          500,
          550,
          600,
          650,
          700,
          750,
          800,
          850,
          900,
          950
         ],
         "y": [
          1.1864869828987863,
          1.232175514598561,
          1.1570686408965587,
          0.98546711083148,
          0.773246607769354,
          0.5898856982165985,
          0.4962447359843526,
          0.5261242814174838,
          0.676411671489868,
          0.9099180001118882,
          1.1688932212760461,
          1.3946668615422744,
          1.5477169003418165,
          1.6209052057966233,
          1.6380454347066558,
          1.6388556638627065,
          1.6552565345147596,
          1.6902608396321568,
          1.7155840455646372,
          1.6845862490765107,
          1.5586193327064384,
          1.3284882932011643
         ],
         "z": [
          -0.14888016733045392,
          -0.23668731381202437,
          -0.3061800957171969,
          -0.30585963275481914,
          -0.18969235737400275,
          0.05485917885068366,
          0.3862785495341878,
          0.7098558128919056,
          0.9055912879467009,
          0.8760045716709851,
          0.5933467888573434,
          0.12165541981583745,
          -0.4008069330277569,
          -0.8130288963391513,
          -0.996545537610597,
          -0.9233850589788817,
          -0.6642892296734266,
          -0.35515681704988844,
          -0.13773578500107847,
          -0.10422271664497097,
          -0.2659955382451832,
          -0.5601732070872064
         ]
        },
        {
         "legendgroup": "left",
         "line": {
          "color": "red",
          "width": 1
         },
         "mode": "lines",
         "showlegend": false,
         "type": "scatter3d",
         "x": [
          -100,
          -50,
          0,
          50,
          100,
          150,
          200,
          250,
          300,
          350,
          400,
          450,
          500,
          550,
          600,
          650,
          700,
          750,
          800,
          850,
          900,
          950
         ],
         "y": [
          0.6923977222762498,
          0.9373716060784784,
          1.0445604682835652,
          0.9986803224287222,
          0.8301781384135073,
          0.5980936988917385,
          0.36273573910562024,
          0.1618729015332813,
          0.0024592084475926713,
          -0.12995552830599558,
          -0.25280466880818686,
          -0.3717098505117964,
          -0.4753165431007437,
          -0.5418556227276773,
          -0.550789378418124,
          -0.49315826068001184,
          -0.3770235015394572,
          -0.22538415641739298,
          -0.06989562388041722,
          0.05846549832206742,
          0.13815168997846863,
          0.16285530122657116
         ],
         "z": [
          -0.5518037719936676,
          -0.33640032347257887,
          -0.10895346037264164,
          0.09994102913638495,
          0.26953809163573006,
          0.38865909727731757,
          0.4529325774458769,
          0.46191471842695003,
          0.420223143512969,
          0.34075952410362503,
          0.2463516398501866,
          0.1658570066980361,
          0.1259704514203056,
          0.14135625044697706,
          0.20882728488116442,
          0.30807777869215097,
          0.4089658099506035,
          0.48111012987855173,
          0.5032888864470323,
          0.4683630344325715,
          0.3838496776700337,
          0.268605476143686
         ]
        },
        {
         "legendgroup": "left",
         "line": {
          "color": "red",
          "width": 1
         },
         "mode": "lines",
         "showlegend": false,
         "type": "scatter3d",
         "x": [
          -100,
          -50,
          0,
          50,
          100,
          150,
          200,
          250,
          300,
          350,
          400,
          450,
          500,
          550,
          600,
          650,
          700,
          750,
          800,
          850,
          900,
          950
         ],
         "y": [
          0.958407614709716,
          1.0608835355167443,
          1.1157283318717892,
          1.1079674683840233,
          1.0371126755609557,
          0.923278681973275,
          0.8047789278979085,
          0.7247169827570087,
          0.7128388664913591,
          0.7704403877439592,
          0.8679892286166662,
          0.9562788340869657,
          0.9859841943913386,
          0.9253609834595677,
          0.7697226320546653,
          0.539829257511328,
          0.27311606299797536,
          0.011852244786168614,
          -0.20748278832107384,
          -0.36119086634865083,
          -0.44126980821714146,
          -0.45403547173644904
         ],
         "z": [
          -0.5150489528784686,
          -0.46089411696195165,
          -0.4098725967101713,
          -0.3744505687958299,
          -0.3588909799924111,
          -0.35965784223601693,
          -0.37061283396463796,
          -0.38854136196553707,
          -0.41639249020037633,
          -0.46103858399163694,
          -0.5267572048474475,
          -0.6073589490157636,
          -0.6821758434279528,
          -0.7201044050514945,
          -0.6905221920853125,
          -0.5769873083979208,
          -0.38721872117520045,
          -0.15351601186712893,
          0.07707742510062862,
          0.25902511524143684,
          0.36288203977501043,
          0.38330640695683055
         ]
        },
        {
         "legendgroup": "left",
         "line": {
          "color": "red",
          "width": 1
         },
         "mode": "lines",
         "showlegend": false,
         "type": "scatter3d",
         "x": [
          -100,
          -50,
          0,
          50,
          100,
          150,
          200,
          250,
          300,
          350,
          400,
          450,
          500,
          550,
          600,
          650,
          700,
          750,
          800,
          850,
          900,
          950
         ],
         "y": [
          0.12615145821891724,
          0.5547034874294526,
          0.9406720662724574,
          1.2094707931496989,
          1.3245816211260346,
          1.3010384320239057,
          1.1974649753923572,
          1.0858258727115744,
          1.0181887825565468,
          1.0037006770309214,
          1.0090764951482185,
          0.9806691412354582,
          0.8756993217502637,
          0.6870789736300801,
          0.4486975254543789,
          0.22180834016621953,
          0.0670649189734263,
          0.0190648509463015,
          0.07426179254808185,
          0.19594470183114196,
          0.3325519768922047,
          0.43787832934990256
         ],
         "z": [
          0.10324482478754567,
          0.0336107288270875,
          -0.02307776173615431,
          -0.06927505840029148,
          -0.12071449215685554,
          -0.19760718219231535,
          -0.31104107729880853,
          -0.45093057794656954,
          -0.5843862497613702,
          -0.6673953510371692,
          -0.6646288403929989,
          -0.5676094783596465,
          -0.399891264178996,
          -0.20793030771808643,
          -0.04048200656571766,
          0.07084581293715633,
          0.12093872314569143,
          0.12648110211702113,
          0.11315217424915551,
          0.10157486211179471,
          0.1003662129756995,
          0.10668683613803631
         ]
        },
        {
         "legendgroup": "left",
         "line": {
          "color": "red",
          "width": 1
         },
         "mode": "lines",
         "showlegend": false,
         "type": "scatter3d",
         "x": [
          -100,
          -50,
          0,
          50,
          100,
          150,
          200,
          250,
          300,
          350,
          400,
          450,
          500,
          550,
          600,
          650,
          700,
          750,
          800,
          850,
          900,
          950
         ],
         "y": [
          1.0742232393677442,
          1.0346328008754915,
          0.9289968869038263,
          0.8150528465873579,
          0.7581243668637944,
          0.8003789992083887,
          0.9351981862666421,
          1.1040476610507448,
          1.218887850805911,
          1.2005618654947348,
          1.0167860170899505,
          0.6977779255814037,
          0.3253660097187787,
          0.0017130258215022377,
          -0.18626321607401083,
          -0.1939320230116103,
          -0.02812692184252766,
          0.25988571494503837,
          0.5927702023542158,
          0.8895138532543332,
          1.0862763964110225,
          1.1509830707045963
         ],
         "z": [
          -0.3025178901576782,
          -0.1813196000800117,
          -0.08946515233374795,
          -0.07027457000039326,
          -0.14883941568424253,
          -0.31931572759730514,
          -0.5434750302025343,
          -0.7618649679719139,
          -0.9131280709788754,
          -0.9550895593284109,
          -0.8791392419200933,
          -0.7119842132329517,
          -0.505458496966527,
          -0.3182306826349147,
          -0.1960467097342533,
          -0.15965096097821735,
          -0.20222293691485385,
          -0.2969642324982242,
          -0.40957133257024325,
          -0.5097941075823603,
          -0.5781718532191819,
          -0.6065287398265303
         ]
        },
        {
         "legendgroup": "left",
         "line": {
          "color": "red",
          "width": 1
         },
         "mode": "lines",
         "showlegend": false,
         "type": "scatter3d",
         "x": [
          -100,
          -50,
          0,
          50,
          100,
          150,
          200,
          250,
          300,
          350,
          400,
          450,
          500,
          550,
          600,
          650,
          700,
          750,
          800,
          850,
          900,
          950
         ],
         "y": [
          0.4290347086737935,
          0.8021770144118069,
          1.098590585500361,
          1.273157538125416,
          1.3185053336288155,
          1.262824304766316,
          1.1567791837419774,
          1.0529743529578097,
          0.9910461564460754,
          0.9893474574422695,
          1.0469626429028778,
          1.1469549313019844,
          1.2625878134288142,
          1.364103685283454,
          1.4253535364677414,
          1.4300541257179133,
          1.3765221744779268,
          1.2754777424155597,
          1.1449440468744592,
          1.0023597818921437,
          0.8602493210005678,
          0.7251200096538168
         ],
         "z": [
          -0.3474562716660667,
          -0.32793563551170996,
          -0.3255119949352067,
          -0.32051962423937325,
          -0.2772703867129197,
          -0.16116212339288957,
          0.040693183353190415,
          0.3064386712943563,
          0.5822465868300762,
          0.8014318906871088,
          0.91191102472066,
          0.8966801620087868,
          0.7790823694754841,
          0.609534311604155,
          0.4427123168931616,
          0.3155882122816334,
          0.23831934487193845,
          0.1974908937192208,
          0.1697022287613164,
          0.1352016558872108,
          0.08665905783965952,
          0.029522581977464372
         ]
        },
        {
         "legendgroup": "left",
         "line": {
          "color": "red",
          "width": 1
         },
         "mode": "lines",
         "showlegend": false,
         "type": "scatter3d",
         "x": [
          -100,
          -50,
          0,
          50,
          100,
          150,
          200,
          250,
          300,
          350,
          400,
          450,
          500,
          550,
          600,
          650,
          700,
          750,
          800,
          850,
          900,
          950
         ],
         "y": [
          0.5348298345494061,
          0.8498395540301379,
          1.09050252257133,
          1.2211237606696153,
          1.2369967210706063,
          1.1635324322381624,
          1.0423736285117715,
          0.9151409699669961,
          0.8088480988973139,
          0.7306058561408547,
          0.6703540736588651,
          0.6093096081576098,
          0.5308155096716176,
          0.4294075653530525,
          0.3142778433929397,
          0.20667714096080583,
          0.1298972140650139,
          0.09772631191174326,
          0.10620092895253591,
          0.1343858776381181,
          0.1539410777735885,
          0.1428054204691798
         ],
         "z": [
          -0.41712825321143143,
          -0.29995402777005387,
          -0.1555252823839526,
          -0.022478085097954983,
          0.05508727659777971,
          0.04374533248920497,
          -0.06499425984740077,
          -0.24577385719892392,
          -0.44452711579792376,
          -0.5962732160954681,
          -0.6501366671873144,
          -0.5902311825612865,
          -0.4422548008466765,
          -0.2610988816919227,
          -0.1059356508056173,
          -0.014361986542927058,
          0.010435612924210441,
          -0.004941027812287125,
          -0.02257156520193085,
          -0.013693645365248901,
          0.02912560939350761,
          0.09292906498967307
         ]
        },
        {
         "legendgroup": "right",
         "line": {
          "color": "blue",
          "width": 1
         },
         "mode": "lines",
         "showlegend": false,
         "type": "scatter3d",
         "x": [
          -100,
          -50,
          0,
          50,
          100,
          150,
          200,
          250,
          300,
          350,
          400,
          450,
          500,
          550,
          600,
          650,
          700,
          750,
          800,
          850,
          900,
          950
         ],
         "y": [
          0.7177063262646016,
          1.0987904242957887,
          1.3764746620788608,
          1.526827752517134,
          1.5686418502174058,
          1.5506829868340082,
          1.5258747413085412,
          1.5284302538278784,
          1.5623369842338184,
          1.605765403896153,
          1.6235723169311032,
          1.587111890796332,
          1.4859240175188682,
          1.33498622306314,
          1.1706456214758696,
          1.034865469368309,
          0.9563092687833241,
          0.935682146624182,
          0.9430284816707364,
          0.9307419396087026,
          0.8566349143983858,
          0.7041058102160477
         ],
         "z": [
          -0.6258435255137689,
          -0.5485500080600584,
          -0.43312894468731655,
          -0.2958365180844364,
          -0.16206504088090543,
          -0.06477744781640027,
          -0.0374300159804337,
          -0.10284132687452761,
          -0.26022671359891497,
          -0.47767567278014644,
          -0.6971864060837833,
          -0.8514601296608629,
          -0.8896721276270647,
          -0.798657756526165,
          -0.6108073756185423,
          -0.3917839291876468,
          -0.2145109276518506,
          -0.13083197329033042,
          -0.1543670823297208,
          -0.2607003789011223,
          -0.401166612054191,
          -0.5249100653245088
         ]
        },
        {
         "legendgroup": "right",
         "line": {
          "color": "blue",
          "width": 1
         },
         "mode": "lines",
         "showlegend": false,
         "type": "scatter3d",
         "x": [
          -100,
          -50,
          0,
          50,
          100,
          150,
          200,
          250,
          300,
          350,
          400,
          450,
          500,
          550,
          600,
          650,
          700,
          750,
          800,
          850,
          900,
          950
         ],
         "y": [
          0.7931709778255571,
          1.2462315549413983,
          1.638720594792129,
          1.9161980893241108,
          2.05242943645685,
          2.050379240261838,
          1.935041596990395,
          1.741194163510893,
          1.5005074771671916,
          1.236138011907968,
          0.9647658365462035,
          0.7037061348649936,
          0.477153685142286,
          0.3166955233893469,
          0.25227801279800044,
          0.29903196282228933,
          0.4455684346854932,
          0.6513594545960558,
          0.8569888205195343,
          1.0026514328241052,
          1.0486210957769255,
          0.9858517163234598
         ],
         "z": [
          -0.5767591813906661,
          -0.693730026035118,
          -0.7791507298259879,
          -0.8131677861742493,
          -0.7841757087793485,
          -0.6927164713258533,
          -0.5527297681717601,
          -0.3883031294161214,
          -0.22738087060711432,
          -0.09397385174936669,
          -0.0015575064315623446,
          0.050242609278918014,
          0.07497847156232694,
          0.09441536750463314,
          0.12980272847632537,
          0.19341179976888223,
          0.2828227053080563,
          0.3807757758197967,
          0.46156234981579825,
          0.5008671491989435,
          0.4858709516618534,
          0.419239742906351
         ]
        },
        {
         "legendgroup": "right",
         "line": {
          "color": "blue",
          "width": 1
         },
         "mode": "lines",
         "showlegend": false,
         "type": "scatter3d",
         "x": [
          -100,
          -50,
          0,
          50,
          100,
          150,
          200,
          250,
          300,
          350,
          400,
          450,
          500,
          550,
          600,
          650,
          700,
          750,
          800,
          850,
          900,
          950
         ],
         "y": [
          1.6529637438944493,
          1.8503746984961102,
          1.9292840208138307,
          1.8818397365292565,
          1.724422574357691,
          1.489720185945085,
          1.2153711927303772,
          0.9347510081092437,
          0.6756890826838406,
          0.4646239243209486,
          0.33108948403514565,
          0.3031563512840974,
          0.39459647704244427,
          0.5876563972541035,
          0.8265211517437107,
          1.0289194779528423,
          1.1150172330550567,
          1.04050548514026,
          0.8153690567616317,
          0.4982800939413379,
          0.17162671436665644,
          -0.09166977282146961
         ],
         "z": [
          -0.3977341572127361,
          -0.37232022281854016,
          -0.3778664449604269,
          -0.4225575003533973,
          -0.5009620119475137,
          -0.5981050786990053,
          -0.6966926845940073,
          -0.7818905928161368,
          -0.8411257593350144,
          -0.8590977900540477,
          -0.8154831694423564,
          -0.6896505317309156,
          -0.47293715682835724,
          -0.18161799792490121,
          0.1394720410384662,
          0.42777960900436995,
          0.6251439521230945,
          0.7004325860723593,
          0.6602619528861866,
          0.5427155529107486,
          0.3990044546478791,
          0.2727286066639421
         ]
        },
        {
         "legendgroup": "right",
         "line": {
          "color": "blue",
          "width": 1
         },
         "mode": "lines",
         "showlegend": false,
         "type": "scatter3d",
         "x": [
          -100,
          -50,
          0,
          50,
          100,
          150,
          200,
          250,
          300,
          350,
          400,
          450,
          500,
          550,
          600,
          650,
          700,
          750,
          800,
          850,
          900,
          950
         ],
         "y": [
          1.6401238162111293,
          1.925645986178291,
          2.101552359911033,
          2.135370972082868,
          2.0260848378732526,
          1.8041863636311064,
          1.5190919981558006,
          1.2230475058474188,
          0.9565658267790373,
          0.7450445866018547,
          0.6010385987353192,
          0.5304934721702843,
          0.5358355625975131,
          0.6137156769644002,
          0.7507991145875543,
          0.9204780685920406,
          1.0859518736711327,
          1.2085772167583928,
          1.2581139019130787,
          1.2217688280983499,
          1.1077936227165333,
          0.9399958529972697
         ],
         "z": [
          -0.31394577027865916,
          -0.40334429730929006,
          -0.492553410226576,
          -0.5591949196958128,
          -0.5816460225469762,
          -0.5514337833306774,
          -0.48192646072353496,
          -0.4065226805749317,
          -0.3642556700339908,
          -0.3785172114848678,
          -0.4399933058257859,
          -0.5057593205384219,
          -0.5172516894796955,
          -0.43027344565403997,
          -0.24105160313532814,
          0.005690943844367955,
          0.23142994897953909,
          0.35637502495630513,
          0.33150990708207306,
          0.15798787811130593,
          -0.11478000271717126,
          -0.41123105850535235
         ]
        },
        {
         "legendgroup": "right",
         "line": {
          "color": "blue",
          "width": 1
         },
         "mode": "lines",
         "showlegend": false,
         "type": "scatter3d",
         "x": [
          -100,
          -50,
          0,
          50,
          100,
          150,
          200,
          250,
          300,
          350,
          400,
          450,
          500,
          550,
          600,
          650,
          700,
          750,
          800,
          850,
          900,
          950
         ],
         "y": [
          0.471910150623832,
          1.1173692441205851,
          1.6409650921912906,
          1.940187689415909,
          1.973012621545938,
          1.7693016151713097,
          1.4163246351448904,
          1.0301550048056498,
          0.7222913125165127,
          0.5709628184673929,
          0.6015966932271881,
          0.779124665815694,
          1.0166822543933824,
          1.1996493280695975,
          1.2226490046877523,
          1.027786057506216,
          0.6262068338750636,
          0.09457052209470745,
          -0.4530673159896788,
          -0.9052785238973665,
          -1.187593183756369,
          -1.2786899728257186
         ],
         "z": [
          -0.6794323025129976,
          -0.7284588596001241,
          -0.7406568266243705,
          -0.7036526640109992,
          -0.6119859235465719,
          -0.4747768749793345,
          -0.32044218372387423,
          -0.19380807481916107,
          -0.14393826154358758,
          -0.20712728057984853,
          -0.3916852663181715,
          -0.671943577103805,
          -0.9938785813235388,
          -1.29121723608776,
          -1.5031573101661198,
          -1.5918742790163931,
          -1.5480518468926545,
          -1.3906696454434777,
          -1.1586995022934625,
          -0.8983895228045088,
          -0.6513222989633046,
          -0.44591253823995985
         ]
        },
        {
         "legendgroup": "right",
         "line": {
          "color": "blue",
          "width": 1
         },
         "mode": "lines",
         "showlegend": false,
         "type": "scatter3d",
         "x": [
          -100,
          -50,
          0,
          50,
          100,
          150,
          200,
          250,
          300,
          350,
          400,
          450,
          500,
          550,
          600,
          650,
          700,
          750,
          800,
          850,
          900,
          950
         ],
         "y": [
          1.4250265924438403,
          1.6731123538204005,
          1.8341321315563146,
          1.8817518896011798,
          1.804690488444529,
          1.6100298410178704,
          1.3271554808923285,
          1.0066606587228701,
          0.7121084897481059,
          0.5063343405908227,
          0.4316266176370015,
          0.49437748477102006,
          0.6592423591787584,
          0.8603086134107575,
          1.024443728244264,
          1.0985965371600204,
          1.0683856660483535,
          0.9604986753859994,
          0.825753464243705,
          0.7157608018867108,
          0.6598601679523385,
          0.6568828087598731
         ],
         "z": [
          -0.42294548888534184,
          -0.4119316294695,
          -0.41704784850612137,
          -0.45266031807273477,
          -0.5189749410978105,
          -0.5977056189600694,
          -0.6567013088308018,
          -0.6618229786518882,
          -0.5909016665487957,
          -0.44463370174265043,
          -0.24856404402243032,
          -0.04483697133615032,
          0.12191383429820918,
          0.21993496126511874,
          0.2399846529674935,
          0.19630989356872364,
          0.11893874722813016,
          0.04175892778702845,
          -0.009464344696701085,
          -0.02344829776706335,
          -0.003985647862887861,
          0.0351040300630157
         ]
        },
        {
         "legendgroup": "right",
         "line": {
          "color": "blue",
          "width": 1
         },
         "mode": "lines",
         "showlegend": false,
         "type": "scatter3d",
         "x": [
          -100,
          -50,
          0,
          50,
          100,
          150,
          200,
          250,
          300,
          350,
          400,
          450,
          500,
          550,
          600,
          650,
          700,
          750,
          800,
          850,
          900,
          950
         ],
         "y": [
          0.7920511689776237,
          1.281092473865098,
          1.6906522658488092,
          1.9703837092975685,
          2.104449522185147,
          2.106363605756938,
          2.0059086042947594,
          1.8369902227547987,
          1.6317733079755539,
          1.421894037354954,
          1.2373160092290447,
          1.1015960777821698,
          1.023939179341468,
          0.994240673701294,
          0.9860967920330698,
          0.9679235395898521,
          0.9153147754287252,
          0.820151249419911,
          0.6910136812374028,
          0.5464832774838781,
          0.40688510559646995,
          0.28724574151732296
         ],
         "z": [
          -0.7451008318091139,
          -0.7710063050342065,
          -0.7537154065626114,
          -0.7031022184236454,
          -0.6356210139388051,
          -0.5667837231072276,
          -0.5046349482585346,
          -0.4456119572504396,
          -0.3777026478545007,
          -0.2867366878569033,
          -0.16518965815275752,
          -0.018221375526090215,
          0.13653761848212018,
          0.27450631099921136,
          0.37372953106515855,
          0.42339794999386665,
          0.4273908198893541,
          0.40179946592542987,
          0.36731687148491643,
          0.3404636440868408,
          0.32794435736153615,
          0.3262190094643247
         ]
        },
        {
         "legendgroup": "right",
         "line": {
          "color": "blue",
          "width": 1
         },
         "mode": "lines",
         "showlegend": false,
         "type": "scatter3d",
         "x": [
          -100,
          -50,
          0,
          50,
          100,
          150,
          200,
          250,
          300,
          350,
          400,
          450,
          500,
          550,
          600,
          650,
          700,
          750,
          800,
          850,
          900,
          950
         ],
         "y": [
          0.6954159225471408,
          1.280128109473371,
          1.7557587588391208,
          2.0407251692568456,
          2.10400005920037,
          1.969297580420095,
          1.7030717868994367,
          1.3882999053471685,
          1.098192561012421,
          0.8772617659994455,
          0.7355801363334934,
          0.6564289779602069,
          0.6135985963452696,
          0.5883086861151358,
          0.579049680166458,
          0.5981692527769848,
          0.6579798127124189,
          0.7566694492861706,
          0.8716031451203067,
          0.9662443836070095,
          1.0050130847515648,
          0.9685982935078966
         ],
         "z": [
          -0.48449799455819414,
          -0.4023421133744171,
          -0.3447691835174336,
          -0.3381179231359688,
          -0.3892271554533412,
          -0.4807662901006756,
          -0.5755361097731612,
          -0.6305160009098822,
          -0.614270323403954,
          -0.5204048935494686,
          -0.3712440638648444,
          -0.20886320132766584,
          -0.07667949161601352,
          -0.00021969140158803902,
          0.024717503724469018,
          0.02890655955566994,
          0.05359467122085539,
          0.12944113084174688,
          0.2611325166828654,
          0.425147299930032,
          0.5810440485287364,
          0.6891993808994569
         ]
        },
        {
         "legendgroup": "right",
         "line": {
          "color": "blue",
          "width": 1
         },
         "mode": "lines",
         "showlegend": false,
         "type": "scatter3d",
         "x": [
          -100,
          -50,
          0,
          50,
          100,
          150,
          200,
          250,
          300,
          350,
          400,
          450,
          500,
          550,
          600,
          650,
          700,
          750,
          800,
          850,
          900,
          950
         ],
         "y": [
          0.6234647303392915,
          1.1849191385431106,
          1.6631732345648065,
          1.9836562895823604,
          2.1209141362657125,
          2.0969535999380735,
          1.9606738760731186,
          1.758876239650598,
          1.5192487686771112,
          1.2530520404653103,
          0.9739483225540252,
          0.7126206571355114,
          0.5180817665492107,
          0.4391498811977193,
          0.49933575014309306,
          0.6813340340192009,
          0.9304789966139871,
          1.1751613723301888,
          1.354458109356734,
          1.436052715961532,
          1.4192993635993358,
          1.326198071615817
         ],
         "z": [
          -1.3968741981008705,
          -1.144399974886393,
          -0.878133044269576,
          -0.6607669613720392,
          -0.5297160888163208,
          -0.48847514652474516,
          -0.5131139896730529,
          -0.5686549465479521,
          -0.6254925694184447,
          -0.6679063220684561,
          -0.6909861612656967,
          -0.6929451618706018,
          -0.6684899150531494,
          -0.6089538436740678,
          -0.5081242923688387,
          -0.36912701462447844,
          -0.2064110111747162,
          -0.04271758150010199,
          0.09951878077328426,
          0.20482639254831542,
          0.2681937662063668,
          0.2942719120459969
         ]
        },
        {
         "legendgroup": "right",
         "line": {
          "color": "blue",
          "width": 1
         },
         "mode": "lines",
         "showlegend": false,
         "type": "scatter3d",
         "x": [
          -100,
          -50,
          0,
          50,
          100,
          150,
          200,
          250,
          300,
          350,
          400,
          450,
          500,
          550,
          600,
          650,
          700,
          750,
          800,
          850,
          900,
          950
         ],
         "y": [
          1.5143803189742673,
          1.6787831132840068,
          1.7774845152390424,
          1.8157956082926157,
          1.7955821567946717,
          1.7075059550007978,
          1.5360616711148898,
          1.278883078053708,
          0.9663848637048477,
          0.6678946679737735,
          0.47218599183769416,
          0.4476541766354013,
          0.6021927980974353,
          0.8682454652781494,
          1.125752862769537,
          1.2537745491946193,
          1.1863789607172164,
          0.9410881084314211,
          0.6066102331054811,
          0.29813775987970265,
          0.10568992495402302,
          0.06076373395096724
         ],
         "z": [
          -0.5140574779684753,
          -0.5226088643204196,
          -0.5221044719488271,
          -0.5120582522336977,
          -0.4856454317347524,
          -0.43488682530534245,
          -0.3608965519001011,
          -0.28082581407191914,
          -0.22570882781134272,
          -0.22787057044898526,
          -0.30392564539419636,
          -0.443284712312353,
          -0.6094678549919135,
          -0.7535869233574116,
          -0.834167762592833,
          -0.83158609771639,
          -0.7520791393603522,
          -0.621100472813748,
          -0.4706679067879467,
          -0.32805034286773177,
          -0.20962246300971094,
          -0.12069870645768545
         ]
        },
        {
         "legendgroup": "right",
         "line": {
          "color": "blue",
          "width": 1
         },
         "mode": "lines",
         "showlegend": false,
         "type": "scatter3d",
         "x": [
          -100,
          -50,
          0,
          50,
          100,
          150,
          200,
          250,
          300,
          350,
          400,
          450,
          500,
          550,
          600,
          650,
          700,
          750,
          800,
          850,
          900,
          950
         ],
         "y": [
          0.1963225904525064,
          0.906675361636886,
          1.5649841613365465,
          2.03580625296958,
          2.2338747869176867,
          2.152116694847502,
          1.8598935035085136,
          1.471830292863504,
          1.1033585791249794,
          0.8328943643725099,
          0.6854567364309465,
          0.6405593200527849,
          0.6552241902683174,
          0.6888278406285787,
          0.7189421902053363,
          0.7429579367040461,
          0.7686099811251719,
          0.8024040798124873,
          0.840858693666485,
          0.8711724125452376,
          0.8770138703272974,
          0.8467386173550616
         ],
         "z": [
          -0.6011776642816364,
          -0.6356326246851961,
          -0.6505362780095679,
          -0.6452721991596435,
          -0.6161497394849258,
          -0.5594312809918502,
          -0.4768585437145258,
          -0.3807764710772648,
          -0.29378102742543954,
          -0.24086989538070316,
          -0.23899211668287593,
          -0.2889114724316477,
          -0.3753932852651112,
          -0.4746655250696814,
          -0.5643161655474628,
          -0.6299202274385095,
          -0.6656375143407073,
          -0.6699856257966474,
          -0.6419711207435796,
          -0.5800402435445458,
          -0.48477090337448187,
          -0.362929576625289
         ]
        },
        {
         "legendgroup": "right",
         "line": {
          "color": "blue",
          "width": 1
         },
         "mode": "lines",
         "showlegend": false,
         "type": "scatter3d",
         "x": [
          -100,
          -50,
          0,
          50,
          100,
          150,
          200,
          250,
          300,
          350,
          400,
          450,
          500,
          550,
          600,
          650,
          700,
          750,
          800,
          850,
          900,
          950
         ],
         "y": [
          1.2816059419030745,
          1.4723829708548641,
          1.6682762988903725,
          1.8491302663315012,
          1.9790264162281028,
          2.0182982536227927,
          1.9405841926267948,
          1.7503530894727535,
          1.487641555929753,
          1.2163578250326494,
          0.9987680869031097,
          0.8686656711838223,
          0.817295934035847,
          0.8001346241824185,
          0.7606671799283969,
          0.6596815601173993,
          0.49269800264283004,
          0.29034680198979024,
          0.10086780394456715,
          -0.03336285052763599,
          -0.0926822652586156,
          -0.08451897409113776
         ],
         "z": [
          -0.010376785775346668,
          0.013617501077987109,
          -0.018131811516989674,
          -0.12057186222798273,
          -0.28447298278229993,
          -0.4758199512483235,
          -0.6462245352483548,
          -0.7532426115937543,
          -0.7790051013847284,
          -0.7380284748169529,
          -0.6695127938982003,
          -0.6176688841443867,
          -0.610597709293273,
          -0.6484259072007084,
          -0.7056406804015014,
          -0.7448706314261704,
          -0.7343519068302469,
          -0.6606031021615035,
          -0.5316539583516485,
          -0.3716780205702787,
          -0.21058281709968144,
          -0.07395627415643162
         ]
        },
        {
         "legendgroup": "right",
         "line": {
          "color": "blue",
          "width": 1
         },
         "mode": "lines",
         "showlegend": false,
         "type": "scatter3d",
         "x": [
          -100,
          -50,
          0,
          50,
          100,
          150,
          200,
          250,
          300,
          350,
          400,
          450,
          500,
          550,
          600,
          650,
          700,
          750,
          800,
          850,
          900,
          950
         ],
         "y": [
          0.04406797606791409,
          0.602728914128203,
          1.142236860555456,
          1.5623176756617458,
          1.8006447701218231,
          1.8559522741096186,
          1.7839503363851519,
          1.6689745372784688,
          1.582515631487773,
          1.5527042931806743,
          1.5585154380920376,
          1.5527583739800987,
          1.4976784588666407,
          1.392046798041145,
          1.2737237059796327,
          1.1965867239627748,
          1.1966454901490295,
          1.2669666786797087,
          1.357398775188626,
          1.3987555980904964,
          1.3354070177497621,
          1.1512250179300354
         ],
         "z": [
          -0.43520787660934296,
          -0.35807875123706717,
          -0.23146064556183507,
          -0.0765133158535571,
          0.07291422754008092,
          0.17818651440638233,
          0.20671469276072751,
          0.1429550793026159,
          -0.005906461980993642,
          -0.2089222529724975,
          -0.41882459722904974,
          -0.5845463132384182,
          -0.6661335907128865,
          -0.6489975044478816,
          -0.5512250098366913,
          -0.41683061450819275,
          -0.2995385545454764,
          -0.2401411123809528,
          -0.2505717342706658,
          -0.3105866023849199,
          -0.3803682606431552,
          -0.42121149645195183
         ]
        },
        {
         "legendgroup": "right",
         "line": {
          "color": "blue",
          "width": 1
         },
         "mode": "lines",
         "showlegend": false,
         "type": "scatter3d",
         "x": [
          -100,
          -50,
          0,
          50,
          100,
          150,
          200,
          250,
          300,
          350,
          400,
          450,
          500,
          550,
          600,
          650,
          700,
          750,
          800,
          850,
          900,
          950
         ],
         "y": [
          0.0176154176660932,
          0.5320470246480542,
          0.9916167245073552,
          1.306660180137755,
          1.4357457124667439,
          1.4013563301112089,
          1.2792564268726585,
          1.1657125918021602,
          1.1367869305727614,
          1.2176572705094477,
          1.3736970156940767,
          1.5292296208460696,
          1.6004932514748653,
          1.5318421926691153,
          1.3178285219356545,
          1.0043761172947037,
          0.6680960724430358,
          0.38635140662426803,
          0.21051496936040184,
          0.15239913360898308,
          0.1876664716641012,
          0.2716026067743176
         ],
         "z": [
          -0.39088425479977607,
          -0.24590824997608876,
          -0.04373410804753469,
          0.14828651695829195,
          0.24339168436407738,
          0.17100465823670155,
          -0.08463015938180751,
          -0.4637665215600925,
          -0.8445248952220117,
          -1.0896548160689152,
          -1.1065097896654559,
          -0.8907011423208514,
          -0.5302272821715369,
          -0.16561065666165287,
          0.070681768646087,
          0.10756372301791238,
          -0.043308512593982544,
          -0.3038707762853656,
          -0.5699127893822503,
          -0.7541670361539036,
          -0.8132916161942246,
          -0.7518270729784529
         ]
        },
        {
         "legendgroup": "right",
         "line": {
          "color": "blue",
          "width": 1
         },
         "mode": "lines",
         "showlegend": false,
         "type": "scatter3d",
         "x": [
          -100,
          -50,
          0,
          50,
          100,
          150,
          200,
          250,
          300,
          350,
          400,
          450,
          500,
          550,
          600,
          650,
          700,
          750,
          800,
          850,
          900,
          950
         ],
         "y": [
          1.11897566724134,
          1.3638119745667512,
          1.501611868696397,
          1.5058586431783503,
          1.3832663952765871,
          1.1733866378655307,
          0.93837976727988,
          0.7442424018924902,
          0.6413097458718002,
          0.6490416473708708,
          0.7512034151306383,
          0.9031490705337742,
          1.049142274069549,
          1.1425365125309614,
          1.1598851846385256,
          1.1057071696848098,
          1.0039198074206892,
          0.8856513948955202,
          0.7763570359918363,
          0.6895304815874019,
          0.6259032570266078,
          0.5772388674128628
         ],
         "z": [
          0.08216361396222709,
          -0.04650881040734269,
          -0.19118416187466108,
          -0.3239070154316581,
          -0.41770546031821826,
          -0.4569058705404404,
          -0.4440252236208568,
          -0.39963791164007123,
          -0.35479963379622853,
          -0.33818530998303903,
          -0.36301227341395903,
          -0.4202684038185357,
          -0.4813784775360103,
          -0.5104670879093497,
          -0.48108107080843554,
          -0.38977418871328606,
          -0.2589118896708801,
          -0.12783239860522627,
          -0.035711163498808096,
          -0.0050170304221061205,
          -0.034261383811696994,
          -0.10166127889728228
         ]
        },
        {
         "legendgroup": "right",
         "line": {
          "color": "blue",
          "width": 1
         },
         "mode": "lines",
         "showlegend": false,
         "type": "scatter3d",
         "x": [
          -100,
          -50,
          0,
          50,
          100,
          150,
          200,
          250,
          300,
          350,
          400,
          450,
          500,
          550,
          600,
          650,
          700,
          750,
          800,
          850,
          900,
          950
         ],
         "y": [
          0.26911331676753814,
          0.8612180508356664,
          1.374199324218935,
          1.720993286187952,
          1.862084804170059,
          1.8098009383330695,
          1.6120336633080006,
          1.3288813199107108,
          1.0132885136025755,
          0.7076007025973629,
          0.4504035648092708,
          0.28102235701214917,
          0.23281244519943844,
          0.3158390755536975,
          0.5005002806273919,
          0.7156160053897617,
          0.867330779719339,
          0.8732755655155385,
          0.6947225451149721,
          0.35242254494495334,
          -0.0813037342022468,
          -0.510192526761148
         ],
         "z": [
          -0.07100332577918447,
          -0.0875743710023108,
          -0.14971928899353276,
          -0.24522406830671672,
          -0.3489465161827841,
          -0.4347586140855539,
          -0.487672248692669,
          -0.5081355236435217,
          -0.505835051331486,
          -0.48768605671551146,
          -0.44832151308030327,
          -0.3711483959271976,
          -0.23951099202040035,
          -0.051987961955696715,
          0.16861464039085264,
          0.3789171471711366,
          0.5301986790308163,
          0.5879691710828582,
          0.5451874680298463,
          0.4234125743827668,
          0.262772903299921,
          0.10588940206014653
         ]
        },
        {
         "legendgroup": "right",
         "line": {
          "color": "blue",
          "width": 1
         },
         "mode": "lines",
         "showlegend": false,
         "type": "scatter3d",
         "x": [
          -100,
          -50,
          0,
          50,
          100,
          150,
          200,
          250,
          300,
          350,
          400,
          450,
          500,
          550,
          600,
          650,
          700,
          750,
          800,
          850,
          900,
          950
         ],
         "y": [
          0.05939868215451859,
          0.8000197277325446,
          1.4741488555827875,
          1.9544958826463397,
          2.1693419474061386,
          2.122760641863934,
          1.8837548675269116,
          1.5538388467893398,
          1.2268434769959968,
          0.9588678934416309,
          0.7601857602017238,
          0.6064761479601393,
          0.462915910771062,
          0.3063289642072763,
          0.13840475987025835,
          -0.016406728650444565,
          -0.12361687048043293,
          -0.15472936463894169,
          -0.10040822214776185,
          0.02521485396438173,
          0.19005987716381206,
          0.3543496040700389
         ],
         "z": [
          -0.5716657896664817,
          -0.5047860268901669,
          -0.4569126343593526,
          -0.4504374163062353,
          -0.4924048856823045,
          -0.5707416010952117,
          -0.6580866177801659,
          -0.7208885402012247,
          -0.7316950807213637,
          -0.6789779558652571,
          -0.5710712487024504,
          -0.43090327317543736,
          -0.2858526056894904,
          -0.1560741526159516,
          -0.048061726658823065,
          0.04368255325600148,
          0.12878201160024388,
          0.21247249043488353,
          0.29103017878977205,
          0.3534041539822568,
          0.38777782422079826,
          0.38774388491713085
         ]
        },
        {
         "legendgroup": "right",
         "line": {
          "color": "blue",
          "width": 1
         },
         "mode": "lines",
         "showlegend": false,
         "type": "scatter3d",
         "x": [
          -100,
          -50,
          0,
          50,
          100,
          150,
          200,
          250,
          300,
          350,
          400,
          450,
          500,
          550,
          600,
          650,
          700,
          750,
          800,
          850,
          900,
          950
         ],
         "y": [
          1.430192962704469,
          1.6695971365180509,
          1.7962962719307076,
          1.8159265754159475,
          1.7568045201138425,
          1.6504179169088256,
          1.5131315368986114,
          1.3412053574302374,
          1.1224957807260716,
          0.8571707465395967,
          0.5694656963372373,
          0.3039920568376265,
          0.10573436137073454,
          -0.0009749205770220343,
          -0.021776443836654624,
          0.016411348036437835,
          0.0844992238074874,
          0.16843877573518048,
          0.27149137931419387,
          0.4034640641442351,
          0.5645033903612936,
          0.7356607272374058
         ],
         "z": [
          -0.7788281802963954,
          -0.7118062274961061,
          -0.5985018848911638,
          -0.4777706950169197,
          -0.3937886666949225,
          -0.3787836236990163,
          -0.4399728623061082,
          -0.5556701458031779,
          -0.6827656165702463,
          -0.7725322167007933,
          -0.7889936206320812,
          -0.7208824777018068,
          -0.5834503041359024,
          -0.4100382396978429,
          -0.2377303619848492,
          -0.09340965014240961,
          0.01365804846119322,
          0.09136069245201463,
          0.15577176994296288,
          0.22095669863904926,
          0.29094844698298167,
          0.35828990467189625
         ]
        },
        {
         "legendgroup": "right",
         "line": {
          "color": "blue",
          "width": 1
         },
         "mode": "lines",
         "showlegend": false,
         "type": "scatter3d",
         "x": [
          -100,
          -50,
          0,
          50,
          100,
          150,
          200,
          250,
          300,
          350,
          400,
          450,
          500,
          550,
          600,
          650,
          700,
          750,
          800,
          850,
          900,
          950
         ],
         "y": [
          0.5239336535782616,
          1.086026669444301,
          1.5371527033992827,
          1.8046449486364964,
          1.8751838893702408,
          1.7932019847551897,
          1.6317822685042775,
          1.4570552000224894,
          1.3030367789224189,
          1.1703991187900327,
          1.0457024548647664,
          0.9255443942159612,
          0.8279357563628319,
          0.7839610080331678,
          0.8186162050104735,
          0.9329204745800347,
          1.1004414270826182,
          1.2782970397106035,
          1.424826056542853,
          1.5131399634723424,
          1.5336757775923449,
          1.4895054950442612
         ],
         "z": [
          -0.6039467110145699,
          -0.5049484221527282,
          -0.4422297730349347,
          -0.43397271675895677,
          -0.4720048982185306,
          -0.5278075731229299,
          -0.568491859835745,
          -0.5752709720961254,
          -0.5518876986906934,
          -0.5183172554853923,
          -0.49315467962992476,
          -0.4772060433151852,
          -0.4492626663015022,
          -0.3784811060149367,
          -0.24511602243996886,
          -0.05800303428988054,
          0.14388560138172463,
          0.30613549883108393,
          0.3828858544578253,
          0.35622102466117245,
          0.24184252950014534,
          0.08047814242483475
         ]
        },
        {
         "legendgroup": "right",
         "line": {
          "color": "blue",
          "width": 1
         },
         "mode": "lines",
         "showlegend": false,
         "type": "scatter3d",
         "x": [
          -100,
          -50,
          0,
          50,
          100,
          150,
          200,
          250,
          300,
          350,
          400,
          450,
          500,
          550,
          600,
          650,
          700,
          750,
          800,
          850,
          900,
          950
         ],
         "y": [
          0.22790865926975554,
          0.913696149507943,
          1.5160400044220996,
          1.9242481191118923,
          2.0833814462441795,
          2.0078696394640394,
          1.7718217405425494,
          1.4805626452598586,
          1.2343514498547397,
          1.099619163436124,
          1.0929659092738904,
          1.1841859414114049,
          1.313851373641555,
          1.419918940124846,
          1.4642285909777777,
          1.4457592067402782,
          1.3967465708393572,
          1.3612952431580578,
          1.370736312998466,
          1.4254718678968794,
          1.4951363462884057,
          1.534850807005723
         ],
         "z": [
          -0.3974517724851066,
          -0.3978202569633376,
          -0.39820728811968814,
          -0.39797800249447035,
          -0.3832917126248739,
          -0.3283999506822399,
          -0.20462415059775485,
          0.004981242516287973,
          0.2897863400096147,
          0.6049568517813065,
          0.8777077089021014,
          1.0296902491589797,
          1.0067976739574975,
          0.8053100007803814,
          0.4802632249585037,
          0.1284597514736757,
          -0.1475411263602699,
          -0.27908375557159126,
          -0.25587398603661116,
          -0.12328871835490834,
          0.04354922286369826,
          0.17522355013102858
         ]
        }
       ],
       "layout": {
        "height": 800,
        "scene": {
         "xaxis": {
          "title": {
           "text": "Time (ms)"
          }
         },
         "yaxis": {
          "title": {
           "text": "Latent Variable 1"
          }
         },
         "zaxis": {
          "title": {
           "text": "Latent Variable 2"
          }
         }
        },
        "template": {
         "data": {
          "bar": [
           {
            "error_x": {
             "color": "#2a3f5f"
            },
            "error_y": {
             "color": "#2a3f5f"
            },
            "marker": {
             "line": {
              "color": "#E5ECF6",
              "width": 0.5
             },
             "pattern": {
              "fillmode": "overlay",
              "size": 10,
              "solidity": 0.2
             }
            },
            "type": "bar"
           }
          ],
          "barpolar": [
           {
            "marker": {
             "line": {
              "color": "#E5ECF6",
              "width": 0.5
             },
             "pattern": {
              "fillmode": "overlay",
              "size": 10,
              "solidity": 0.2
             }
            },
            "type": "barpolar"
           }
          ],
          "carpet": [
           {
            "aaxis": {
             "endlinecolor": "#2a3f5f",
             "gridcolor": "white",
             "linecolor": "white",
             "minorgridcolor": "white",
             "startlinecolor": "#2a3f5f"
            },
            "baxis": {
             "endlinecolor": "#2a3f5f",
             "gridcolor": "white",
             "linecolor": "white",
             "minorgridcolor": "white",
             "startlinecolor": "#2a3f5f"
            },
            "type": "carpet"
           }
          ],
          "choropleth": [
           {
            "colorbar": {
             "outlinewidth": 0,
             "ticks": ""
            },
            "type": "choropleth"
           }
          ],
          "contour": [
           {
            "colorbar": {
             "outlinewidth": 0,
             "ticks": ""
            },
            "colorscale": [
             [
              0,
              "#0d0887"
             ],
             [
              0.1111111111111111,
              "#46039f"
             ],
             [
              0.2222222222222222,
              "#7201a8"
             ],
             [
              0.3333333333333333,
              "#9c179e"
             ],
             [
              0.4444444444444444,
              "#bd3786"
             ],
             [
              0.5555555555555556,
              "#d8576b"
             ],
             [
              0.6666666666666666,
              "#ed7953"
             ],
             [
              0.7777777777777778,
              "#fb9f3a"
             ],
             [
              0.8888888888888888,
              "#fdca26"
             ],
             [
              1,
              "#f0f921"
             ]
            ],
            "type": "contour"
           }
          ],
          "contourcarpet": [
           {
            "colorbar": {
             "outlinewidth": 0,
             "ticks": ""
            },
            "type": "contourcarpet"
           }
          ],
          "heatmap": [
           {
            "colorbar": {
             "outlinewidth": 0,
             "ticks": ""
            },
            "colorscale": [
             [
              0,
              "#0d0887"
             ],
             [
              0.1111111111111111,
              "#46039f"
             ],
             [
              0.2222222222222222,
              "#7201a8"
             ],
             [
              0.3333333333333333,
              "#9c179e"
             ],
             [
              0.4444444444444444,
              "#bd3786"
             ],
             [
              0.5555555555555556,
              "#d8576b"
             ],
             [
              0.6666666666666666,
              "#ed7953"
             ],
             [
              0.7777777777777778,
              "#fb9f3a"
             ],
             [
              0.8888888888888888,
              "#fdca26"
             ],
             [
              1,
              "#f0f921"
             ]
            ],
            "type": "heatmap"
           }
          ],
          "heatmapgl": [
           {
            "colorbar": {
             "outlinewidth": 0,
             "ticks": ""
            },
            "colorscale": [
             [
              0,
              "#0d0887"
             ],
             [
              0.1111111111111111,
              "#46039f"
             ],
             [
              0.2222222222222222,
              "#7201a8"
             ],
             [
              0.3333333333333333,
              "#9c179e"
             ],
             [
              0.4444444444444444,
              "#bd3786"
             ],
             [
              0.5555555555555556,
              "#d8576b"
             ],
             [
              0.6666666666666666,
              "#ed7953"
             ],
             [
              0.7777777777777778,
              "#fb9f3a"
             ],
             [
              0.8888888888888888,
              "#fdca26"
             ],
             [
              1,
              "#f0f921"
             ]
            ],
            "type": "heatmapgl"
           }
          ],
          "histogram": [
           {
            "marker": {
             "pattern": {
              "fillmode": "overlay",
              "size": 10,
              "solidity": 0.2
             }
            },
            "type": "histogram"
           }
          ],
          "histogram2d": [
           {
            "colorbar": {
             "outlinewidth": 0,
             "ticks": ""
            },
            "colorscale": [
             [
              0,
              "#0d0887"
             ],
             [
              0.1111111111111111,
              "#46039f"
             ],
             [
              0.2222222222222222,
              "#7201a8"
             ],
             [
              0.3333333333333333,
              "#9c179e"
             ],
             [
              0.4444444444444444,
              "#bd3786"
             ],
             [
              0.5555555555555556,
              "#d8576b"
             ],
             [
              0.6666666666666666,
              "#ed7953"
             ],
             [
              0.7777777777777778,
              "#fb9f3a"
             ],
             [
              0.8888888888888888,
              "#fdca26"
             ],
             [
              1,
              "#f0f921"
             ]
            ],
            "type": "histogram2d"
           }
          ],
          "histogram2dcontour": [
           {
            "colorbar": {
             "outlinewidth": 0,
             "ticks": ""
            },
            "colorscale": [
             [
              0,
              "#0d0887"
             ],
             [
              0.1111111111111111,
              "#46039f"
             ],
             [
              0.2222222222222222,
              "#7201a8"
             ],
             [
              0.3333333333333333,
              "#9c179e"
             ],
             [
              0.4444444444444444,
              "#bd3786"
             ],
             [
              0.5555555555555556,
              "#d8576b"
             ],
             [
              0.6666666666666666,
              "#ed7953"
             ],
             [
              0.7777777777777778,
              "#fb9f3a"
             ],
             [
              0.8888888888888888,
              "#fdca26"
             ],
             [
              1,
              "#f0f921"
             ]
            ],
            "type": "histogram2dcontour"
           }
          ],
          "mesh3d": [
           {
            "colorbar": {
             "outlinewidth": 0,
             "ticks": ""
            },
            "type": "mesh3d"
           }
          ],
          "parcoords": [
           {
            "line": {
             "colorbar": {
              "outlinewidth": 0,
              "ticks": ""
             }
            },
            "type": "parcoords"
           }
          ],
          "pie": [
           {
            "automargin": true,
            "type": "pie"
           }
          ],
          "scatter": [
           {
            "fillpattern": {
             "fillmode": "overlay",
             "size": 10,
             "solidity": 0.2
            },
            "type": "scatter"
           }
          ],
          "scatter3d": [
           {
            "line": {
             "colorbar": {
              "outlinewidth": 0,
              "ticks": ""
             }
            },
            "marker": {
             "colorbar": {
              "outlinewidth": 0,
              "ticks": ""
             }
            },
            "type": "scatter3d"
           }
          ],
          "scattercarpet": [
           {
            "marker": {
             "colorbar": {
              "outlinewidth": 0,
              "ticks": ""
             }
            },
            "type": "scattercarpet"
           }
          ],
          "scattergeo": [
           {
            "marker": {
             "colorbar": {
              "outlinewidth": 0,
              "ticks": ""
             }
            },
            "type": "scattergeo"
           }
          ],
          "scattergl": [
           {
            "marker": {
             "colorbar": {
              "outlinewidth": 0,
              "ticks": ""
             }
            },
            "type": "scattergl"
           }
          ],
          "scattermapbox": [
           {
            "marker": {
             "colorbar": {
              "outlinewidth": 0,
              "ticks": ""
             }
            },
            "type": "scattermapbox"
           }
          ],
          "scatterpolar": [
           {
            "marker": {
             "colorbar": {
              "outlinewidth": 0,
              "ticks": ""
             }
            },
            "type": "scatterpolar"
           }
          ],
          "scatterpolargl": [
           {
            "marker": {
             "colorbar": {
              "outlinewidth": 0,
              "ticks": ""
             }
            },
            "type": "scatterpolargl"
           }
          ],
          "scatterternary": [
           {
            "marker": {
             "colorbar": {
              "outlinewidth": 0,
              "ticks": ""
             }
            },
            "type": "scatterternary"
           }
          ],
          "surface": [
           {
            "colorbar": {
             "outlinewidth": 0,
             "ticks": ""
            },
            "colorscale": [
             [
              0,
              "#0d0887"
             ],
             [
              0.1111111111111111,
              "#46039f"
             ],
             [
              0.2222222222222222,
              "#7201a8"
             ],
             [
              0.3333333333333333,
              "#9c179e"
             ],
             [
              0.4444444444444444,
              "#bd3786"
             ],
             [
              0.5555555555555556,
              "#d8576b"
             ],
             [
              0.6666666666666666,
              "#ed7953"
             ],
             [
              0.7777777777777778,
              "#fb9f3a"
             ],
             [
              0.8888888888888888,
              "#fdca26"
             ],
             [
              1,
              "#f0f921"
             ]
            ],
            "type": "surface"
           }
          ],
          "table": [
           {
            "cells": {
             "fill": {
              "color": "#EBF0F8"
             },
             "line": {
              "color": "white"
             }
            },
            "header": {
             "fill": {
              "color": "#C8D4E3"
             },
             "line": {
              "color": "white"
             }
            },
            "type": "table"
           }
          ]
         },
         "layout": {
          "annotationdefaults": {
           "arrowcolor": "#2a3f5f",
           "arrowhead": 0,
           "arrowwidth": 1
          },
          "autotypenumbers": "strict",
          "coloraxis": {
           "colorbar": {
            "outlinewidth": 0,
            "ticks": ""
           }
          },
          "colorscale": {
           "diverging": [
            [
             0,
             "#8e0152"
            ],
            [
             0.1,
             "#c51b7d"
            ],
            [
             0.2,
             "#de77ae"
            ],
            [
             0.3,
             "#f1b6da"
            ],
            [
             0.4,
             "#fde0ef"
            ],
            [
             0.5,
             "#f7f7f7"
            ],
            [
             0.6,
             "#e6f5d0"
            ],
            [
             0.7,
             "#b8e186"
            ],
            [
             0.8,
             "#7fbc41"
            ],
            [
             0.9,
             "#4d9221"
            ],
            [
             1,
             "#276419"
            ]
           ],
           "sequential": [
            [
             0,
             "#0d0887"
            ],
            [
             0.1111111111111111,
             "#46039f"
            ],
            [
             0.2222222222222222,
             "#7201a8"
            ],
            [
             0.3333333333333333,
             "#9c179e"
            ],
            [
             0.4444444444444444,
             "#bd3786"
            ],
            [
             0.5555555555555556,
             "#d8576b"
            ],
            [
             0.6666666666666666,
             "#ed7953"
            ],
            [
             0.7777777777777778,
             "#fb9f3a"
            ],
            [
             0.8888888888888888,
             "#fdca26"
            ],
            [
             1,
             "#f0f921"
            ]
           ],
           "sequentialminus": [
            [
             0,
             "#0d0887"
            ],
            [
             0.1111111111111111,
             "#46039f"
            ],
            [
             0.2222222222222222,
             "#7201a8"
            ],
            [
             0.3333333333333333,
             "#9c179e"
            ],
            [
             0.4444444444444444,
             "#bd3786"
            ],
            [
             0.5555555555555556,
             "#d8576b"
            ],
            [
             0.6666666666666666,
             "#ed7953"
            ],
            [
             0.7777777777777778,
             "#fb9f3a"
            ],
            [
             0.8888888888888888,
             "#fdca26"
            ],
            [
             1,
             "#f0f921"
            ]
           ]
          },
          "colorway": [
           "#636efa",
           "#EF553B",
           "#00cc96",
           "#ab63fa",
           "#FFA15A",
           "#19d3f3",
           "#FF6692",
           "#B6E880",
           "#FF97FF",
           "#FECB52"
          ],
          "font": {
           "color": "#2a3f5f"
          },
          "geo": {
           "bgcolor": "white",
           "lakecolor": "white",
           "landcolor": "#E5ECF6",
           "showlakes": true,
           "showland": true,
           "subunitcolor": "white"
          },
          "hoverlabel": {
           "align": "left"
          },
          "hovermode": "closest",
          "mapbox": {
           "style": "light"
          },
          "paper_bgcolor": "white",
          "plot_bgcolor": "#E5ECF6",
          "polar": {
           "angularaxis": {
            "gridcolor": "white",
            "linecolor": "white",
            "ticks": ""
           },
           "bgcolor": "#E5ECF6",
           "radialaxis": {
            "gridcolor": "white",
            "linecolor": "white",
            "ticks": ""
           }
          },
          "scene": {
           "xaxis": {
            "backgroundcolor": "#E5ECF6",
            "gridcolor": "white",
            "gridwidth": 2,
            "linecolor": "white",
            "showbackground": true,
            "ticks": "",
            "zerolinecolor": "white"
           },
           "yaxis": {
            "backgroundcolor": "#E5ECF6",
            "gridcolor": "white",
            "gridwidth": 2,
            "linecolor": "white",
            "showbackground": true,
            "ticks": "",
            "zerolinecolor": "white"
           },
           "zaxis": {
            "backgroundcolor": "#E5ECF6",
            "gridcolor": "white",
            "gridwidth": 2,
            "linecolor": "white",
            "showbackground": true,
            "ticks": "",
            "zerolinecolor": "white"
           }
          },
          "shapedefaults": {
           "line": {
            "color": "#2a3f5f"
           }
          },
          "ternary": {
           "aaxis": {
            "gridcolor": "white",
            "linecolor": "white",
            "ticks": ""
           },
           "baxis": {
            "gridcolor": "white",
            "linecolor": "white",
            "ticks": ""
           },
           "bgcolor": "#E5ECF6",
           "caxis": {
            "gridcolor": "white",
            "linecolor": "white",
            "ticks": ""
           }
          },
          "title": {
           "x": 0.05
          },
          "xaxis": {
           "automargin": true,
           "gridcolor": "white",
           "linecolor": "white",
           "ticks": "",
           "title": {
            "standoff": 15
           },
           "zerolinecolor": "white",
           "zerolinewidth": 2
          },
          "yaxis": {
           "automargin": true,
           "gridcolor": "white",
           "linecolor": "white",
           "ticks": "",
           "title": {
            "standoff": 15
           },
           "zerolinecolor": "white",
           "zerolinewidth": 2
          }
         }
        },
        "title": {
         "text": "Latent Variables over Time"
        },
        "width": 800
       }
      }
     },
     "metadata": {},
     "output_type": "display_data"
    }
   ],
   "source": [
    "z_train = rearrange(session.z, '(trials time) lat -> trials time lat', time=training_trials[0]['spikes_df'].shape[1])\n",
    "\n",
    "first = True\n",
    "first2= True\n",
    "time_sig = 4\n",
    "X_class_train = []\n",
    "y_class_train = []\n",
    "time_bins = len(z_train[i][:, 0])\n",
    "\n",
    "fig = go.Figure()\n",
    "for i in range(len(z_train)):\n",
    "    if ((training_trials[i]['choice']==1) & (training_trials[i]['feedbackType']==1)):\n",
    "        if first:\n",
    "            fig.add_trace(go.Scatter3d(x=np.arange(-100, 1000, 50), y=z_train[i][:, 0], z=z_train[i][:, 1],\n",
    "                      mode='lines', line={'color':'blue', 'width':1}, legendgroup='right', name='Wheel Turned Right', showlegend=True))\n",
    "            first = False\n",
    "        else:\n",
    "            fig.add_trace(go.Scatter3d(x=np.arange(-100, 1000, 50), y=z_train[i][:, 0], z=z_train[i][:, 1],\n",
    "                        mode='lines', line={'color':'blue', 'width':1}, legendgroup='right', showlegend=False))\n",
    "        # fig.add_scatter3d(x=[time_sig], y=z_train[i][time_sig:time_sig+1, 0], z=z_train[i][time_sig:time_sig+1, 1], mode='markers', marker={'color':'green', 'size':5})  # show point of significance\n",
    "        X_class_train.append(z_train[i][time_sig]); y_class_train.append(0)\n",
    "        \n",
    "    elif ((training_trials[i]['choice']==-1) & (training_trials[i]['feedbackType']==1)):\n",
    "        if first2:\n",
    "            fig.add_trace(go.Scatter3d(x=np.arange(-100, 1000, 50), y=z_train[i][:, 0], z=z_train[i][:, 1],\n",
    "                      mode='lines', line={'color':'red', 'width':1}, legendgroup='left', name='Wheel Turned Left', showlegend=True))\n",
    "            first2 = False\n",
    "        else:\n",
    "            fig.add_trace(go.Scatter3d(x=np.arange(-100, 1000, 50), y=z_train[i][:, 0], z=z_train[i][:, 1],\n",
    "                        mode='lines', line={'color':'red', 'width':1}, legendgroup='left', showlegend=False))\n",
    "        # fig.add_scatter3d(x=[time_sig], y=z_train[i][time_sig:time_sig+1, 0], z=z_train[i][time_sig:time_sig+1, 1], mode='markers', marker={'color':'black', 'size':5})  # show point of significance\n",
    "        X_class_train.append(z_train[i][time_sig]); y_class_train.append(1)\n",
    "        \n",
    "    elif ((training_trials[i]['choice']==1) & (training_trials[i]['feedbackType']==-1)):\n",
    "        # if first:\n",
    "        #     fig = px.line_3d(x=np.arange(-0.1, 1, 0.05), y=z_test[i][:, 0], z=z_test[i][:, 1], color=[\"green\"]*time_bins, width=800, height=800)\n",
    "        #     first = False\n",
    "        # else:\n",
    "        #     fig.add_scatter3d(x=np.arange(-0.1, 1, 0.05), y=z_test[i][:, 0], z=z_test[i][:, 1], mode='lines', line={'color':\"green\"}, opacity=0.5)\n",
    "        X_class_train.append(z_train[i][time_sig]); y_class_train.append(2)\n",
    "        \n",
    "    elif ((training_trials[i]['choice']==-1) & (training_trials[i]['feedbackType']==-1)):\n",
    "        # if first:\n",
    "        #     fig = px.line_3d(x=np.arange(-0.1, 1, 0.05), y=z_test[i][:, 0], z=z_test[i][:, 1], color=[\"black\"]*time_bins, width=800, height=800)\n",
    "        #     first = False\n",
    "        # else:\n",
    "        #     fig.add_scatter3d(x=np.arange(-0.1, 1, 0.05), y=z_test[i][:, 0], z=z_test[i][:, 1], mode='lines', line={'color':\"black\"}, opacity=1)\n",
    "        X_class_train.append(z_train[i][time_sig]); y_class_train.append(3)\n",
    "        \n",
    "\n",
    "X_class_test = []\n",
    "y_class_test = []\n",
    "\n",
    "# Plot testing trajectories\n",
    "for i in range(len(z_test)):\n",
    "    if ((testing_trials[i]['choice']==1) & (testing_trials[i]['feedbackType']==1)):\n",
    "        # if first:\n",
    "        #     fig = px.line_3d(x=np.arange(time_bins), y=z_test[i][:, 0], z=z_test[i][:, 1], color=[\"green\"]*time_bins, width=800, height=800)\n",
    "        #     first = False\n",
    "        # else:\n",
    "        #     fig.add_scatter3d(x=np.arange(time_bins), y=z_test[i][:, 0], z=z_test[i][:, 1], mode='lines', line={'color':\"green\"}, opacity=0.5)\n",
    "        # fig.add_scatter3d(x=[time_sig], y=z_train[i][time_sig:time_sig+1, 0], z=z_train[i][time_sig:time_sig+1, 1], mode='markers', marker={'color':'green', 'size':5})  # show point of significance\n",
    "        X_class_test.append(z_test[i][time_sig]); y_class_test.append(0)\n",
    "        \n",
    "    elif ((testing_trials[i]['choice']==-1) & (testing_trials[i]['feedbackType']==1)):\n",
    "        # if first:\n",
    "        #     fig = px.line_3d(x=np.arange(time_bins), y=z_test[i][:, 0], z=z_test[i][:, 1], color=[\"black\"]*time_bins, width=800, height=800)\n",
    "        #     first = False\n",
    "        # else:\n",
    "        #     fig.add_scatter3d(x=np.arange(time_bins), y=z_test[i][:, 0], z=z_test[i][:, 1], mode='lines', line={'color':\"black\"}, opacity=0.5)\n",
    "        # fig.add_scatter3d(x=[time_sig], y=z_train[i][time_sig:time_sig+1, 0], z=z_train[i][time_sig:time_sig+1, 1], mode='markers', marker={'color':'black', 'size':5})  # show point of significance\n",
    "        X_class_test.append(z_test[i][time_sig]); y_class_test.append(1)\n",
    "        \n",
    "    elif ((testing_trials[i]['choice']==1) & (testing_trials[i]['feedbackType']==-1)):\n",
    "        X_class_test.append(z_test[i][time_sig]); y_class_test.append(2)\n",
    "        \n",
    "    elif ((testing_trials[i]['choice']==-1) & (testing_trials[i]['feedbackType']==-1)):\n",
    "        X_class_test.append(z_test[i][time_sig]); y_class_test.append(3)\n",
    "\n",
    "X_class_train = np.array(X_class_train)\n",
    "y_class_train = np.array(y_class_train)\n",
    "X_class_test = np.array(X_class_test)\n",
    "y_class_test = np.array(y_class_test)\n",
    "\n",
    "fig.update_layout(scene = dict(\n",
    "                    xaxis_title='Time (ms)',\n",
    "                    yaxis_title='Latent Variable 1',\n",
    "                    zaxis_title='Latent Variable 2'),\n",
    "                    width=800, height=800, title='Latent Variables over Time'\n",
    "                    )\n",
    "fig.show()"
   ]
  },
  {
   "cell_type": "code",
   "execution_count": 38,
   "metadata": {},
   "outputs": [
    {
     "ename": "TypeError",
     "evalue": "line_3d() got an unexpected keyword argument 'legendgroup'",
     "output_type": "error",
     "traceback": [
      "\u001b[1;31m---------------------------------------------------------------------------\u001b[0m",
      "\u001b[1;31mTypeError\u001b[0m                                 Traceback (most recent call last)",
      "Cell \u001b[1;32mIn[38], line 12\u001b[0m\n\u001b[0;32m     10\u001b[0m \u001b[39mif\u001b[39;00m ((training_trials[i][\u001b[39m'\u001b[39m\u001b[39mchoice\u001b[39m\u001b[39m'\u001b[39m]\u001b[39m==\u001b[39m\u001b[39m1\u001b[39m) \u001b[39m&\u001b[39m (training_trials[i][\u001b[39m'\u001b[39m\u001b[39mfeedbackType\u001b[39m\u001b[39m'\u001b[39m]\u001b[39m==\u001b[39m\u001b[39m1\u001b[39m)):\n\u001b[0;32m     11\u001b[0m     \u001b[39mif\u001b[39;00m first:\n\u001b[1;32m---> 12\u001b[0m         fig \u001b[39m=\u001b[39m px\u001b[39m.\u001b[39;49mline_3d(x\u001b[39m=\u001b[39;49mnp\u001b[39m.\u001b[39;49marange(\u001b[39m-\u001b[39;49m\u001b[39m100\u001b[39;49m, \u001b[39m1000\u001b[39;49m, \u001b[39m50\u001b[39;49m), y\u001b[39m=\u001b[39;49mz_train[i][:, \u001b[39m0\u001b[39;49m], z\u001b[39m=\u001b[39;49mz_train[i][:, \u001b[39m1\u001b[39;49m],\n\u001b[0;32m     13\u001b[0m                          color\u001b[39m=\u001b[39;49m[\u001b[39m\"\u001b[39;49m\u001b[39mblue\u001b[39;49m\u001b[39m\"\u001b[39;49m]\u001b[39m*\u001b[39;49mtime_bins, width\u001b[39m=\u001b[39;49m\u001b[39m800\u001b[39;49m, height\u001b[39m=\u001b[39;49m\u001b[39m800\u001b[39;49m, title\u001b[39m=\u001b[39;49m\u001b[39m\"\u001b[39;49m\u001b[39mLatent Variables over Time\u001b[39;49m\u001b[39m\"\u001b[39;49m,\n\u001b[0;32m     14\u001b[0m                          labels\u001b[39m=\u001b[39;49m{\u001b[39m'\u001b[39;49m\u001b[39mx\u001b[39;49m\u001b[39m'\u001b[39;49m:\u001b[39m'\u001b[39;49m\u001b[39mTime (ms)\u001b[39;49m\u001b[39m'\u001b[39;49m, \u001b[39m'\u001b[39;49m\u001b[39my\u001b[39;49m\u001b[39m'\u001b[39;49m:\u001b[39m'\u001b[39;49m\u001b[39mLatent Variable 1\u001b[39;49m\u001b[39m'\u001b[39;49m, \u001b[39m'\u001b[39;49m\u001b[39mz\u001b[39;49m\u001b[39m'\u001b[39;49m:\u001b[39m'\u001b[39;49m\u001b[39mLatent Variable 2\u001b[39;49m\u001b[39m'\u001b[39;49m}, legendgroup\u001b[39m=\u001b[39;49m\u001b[39m'\u001b[39;49m\u001b[39mgroup1\u001b[39;49m\u001b[39m'\u001b[39;49m)\n\u001b[0;32m     15\u001b[0m         first \u001b[39m=\u001b[39m \u001b[39mFalse\u001b[39;00m\n\u001b[0;32m     16\u001b[0m     \u001b[39melse\u001b[39;00m:\n",
      "\u001b[1;31mTypeError\u001b[0m: line_3d() got an unexpected keyword argument 'legendgroup'"
     ]
    }
   ],
   "source": [
    "z_train = rearrange(session.z, '(trials time) lat -> trials time lat', time=training_trials[0]['spikes_df'].shape[1])\n",
    "\n",
    "first = True\n",
    "time_sig = 4\n",
    "X_class_train = []\n",
    "y_class_train = []\n",
    "time_bins = len(z_train[i][:, 0])\n",
    "\n",
    "for i in range(len(z_train)):\n",
    "    if ((training_trials[i]['choice']==1) & (training_trials[i]['feedbackType']==1)):\n",
    "        if first:\n",
    "            fig = px.line_3d(x=np.arange(-100, 1000, 50), y=z_train[i][:, 0], z=z_train[i][:, 1],\n",
    "                             color=[\"blue\"]*time_bins, width=800, height=800, title=\"Latent Variables over Time\",\n",
    "                             labels={'x':'Time (ms)', 'y':'Latent Variable 1', 'z':'Latent Variable 2'}, line_group='group1')\n",
    "            first = False\n",
    "        else:\n",
    "            fig.add_scatter3d(x=np.arange(-100, 1000, 50), y=z_train[i][:, 0], z=z_train[i][:, 1], mode='lines', line={'color':\"blue\"}, opacity=0.5, line_group='group1')\n",
    "        # fig.add_scatter3d(x=[time_sig], y=z_train[i][time_sig:time_sig+1, 0], z=z_train[i][time_sig:time_sig+1, 1], mode='markers', marker={'color':'green', 'size':5})  # show point of significance\n",
    "        X_class_train.append(z_train[i][time_sig]); y_class_train.append(0)\n",
    "        \n",
    "    elif ((training_trials[i]['choice']==-1) & (training_trials[i]['feedbackType']==1)):\n",
    "        if first:\n",
    "            fig = px.line_3d(x=np.arange(-100, 1000, 50), y=z_train[i][:, 0], z=z_train[i][:, 1],\n",
    "                             color=[\"red\"]*time_bins, width=800, height=800, title=\"Latent Variables over Time\",\n",
    "                             labels={'x':'Time (ms)', 'y':'Latent Variable 1', 'z':'Latent Variable 2'},line_group='group2')\n",
    "            first = False\n",
    "        else:\n",
    "            fig.add_scatter3d(x=np.arange(-100, 1000, 50), y=z_train[i][:, 0], z=z_train[i][:, 1], mode='lines', line={'color':\"red\"}, opacity=0.5, line_group='group2')\n",
    "        # fig.add_scatter3d(x=[time_sig], y=z_train[i][time_sig:time_sig+1, 0], z=z_train[i][time_sig:time_sig+1, 1], mode='markers', marker={'color':'black', 'size':5})  # show point of significance\n",
    "        X_class_train.append(z_train[i][time_sig]); y_class_train.append(1)\n",
    "        \n",
    "    elif ((training_trials[i]['choice']==1) & (training_trials[i]['feedbackType']==-1)):\n",
    "        # if first:\n",
    "        #     fig = px.line_3d(x=np.arange(-0.1, 1, 0.05), y=z_test[i][:, 0], z=z_test[i][:, 1], color=[\"green\"]*time_bins, width=800, height=800)\n",
    "        #     first = False\n",
    "        # else:\n",
    "        #     fig.add_scatter3d(x=np.arange(-0.1, 1, 0.05), y=z_test[i][:, 0], z=z_test[i][:, 1], mode='lines', line={'color':\"green\"}, opacity=0.5)\n",
    "        X_class_train.append(z_train[i][time_sig]); y_class_train.append(2)\n",
    "        \n",
    "    elif ((training_trials[i]['choice']==-1) & (training_trials[i]['feedbackType']==-1)):\n",
    "        # if first:\n",
    "        #     fig = px.line_3d(x=np.arange(-0.1, 1, 0.05), y=z_test[i][:, 0], z=z_test[i][:, 1], color=[\"black\"]*time_bins, width=800, height=800)\n",
    "        #     first = False\n",
    "        # else:\n",
    "        #     fig.add_scatter3d(x=np.arange(-0.1, 1, 0.05), y=z_test[i][:, 0], z=z_test[i][:, 1], mode='lines', line={'color':\"black\"}, opacity=1)\n",
    "        X_class_train.append(z_train[i][time_sig]); y_class_train.append(3)\n",
    "        \n",
    "\n",
    "X_class_test = []\n",
    "y_class_test = []\n",
    "\n",
    "# Plot testing trajectories\n",
    "for i in range(len(z_test)):\n",
    "    if ((testing_trials[i]['choice']==1) & (testing_trials[i]['feedbackType']==1)):\n",
    "        # if first:\n",
    "        #     fig = px.line_3d(x=np.arange(time_bins), y=z_test[i][:, 0], z=z_test[i][:, 1], color=[\"green\"]*time_bins, width=800, height=800)\n",
    "        #     first = False\n",
    "        # else:\n",
    "        #     fig.add_scatter3d(x=np.arange(time_bins), y=z_test[i][:, 0], z=z_test[i][:, 1], mode='lines', line={'color':\"green\"}, opacity=0.5)\n",
    "        # fig.add_scatter3d(x=[time_sig], y=z_train[i][time_sig:time_sig+1, 0], z=z_train[i][time_sig:time_sig+1, 1], mode='markers', marker={'color':'green', 'size':5})  # show point of significance\n",
    "        X_class_test.append(z_test[i][time_sig]); y_class_test.append(0)\n",
    "        \n",
    "    elif ((testing_trials[i]['choice']==-1) & (testing_trials[i]['feedbackType']==1)):\n",
    "        # if first:\n",
    "        #     fig = px.line_3d(x=np.arange(time_bins), y=z_test[i][:, 0], z=z_test[i][:, 1], color=[\"black\"]*time_bins, width=800, height=800)\n",
    "        #     first = False\n",
    "        # else:\n",
    "        #     fig.add_scatter3d(x=np.arange(time_bins), y=z_test[i][:, 0], z=z_test[i][:, 1], mode='lines', line={'color':\"black\"}, opacity=0.5)\n",
    "        # fig.add_scatter3d(x=[time_sig], y=z_train[i][time_sig:time_sig+1, 0], z=z_train[i][time_sig:time_sig+1, 1], mode='markers', marker={'color':'black', 'size':5})  # show point of significance\n",
    "        X_class_test.append(z_test[i][time_sig]); y_class_test.append(1)\n",
    "        \n",
    "    elif ((testing_trials[i]['choice']==1) & (testing_trials[i]['feedbackType']==-1)):\n",
    "        X_class_test.append(z_test[i][time_sig]); y_class_test.append(2)\n",
    "        \n",
    "    elif ((testing_trials[i]['choice']==-1) & (testing_trials[i]['feedbackType']==-1)):\n",
    "        X_class_test.append(z_test[i][time_sig]); y_class_test.append(3)\n",
    "\n",
    "X_class_train = np.array(X_class_train)\n",
    "y_class_train = np.array(y_class_train)\n",
    "X_class_test = np.array(X_class_test)\n",
    "y_class_test = np.array(y_class_test)\n",
    "\n",
    "fig.show()"
   ]
  },
  {
   "cell_type": "code",
   "execution_count": 20,
   "metadata": {},
   "outputs": [
    {
     "name": "stdout",
     "output_type": "stream",
     "text": [
      "0.776\n"
     ]
    },
    {
     "data": {
      "text/plain": [
       "0.7246376811594203"
      ]
     },
     "execution_count": 20,
     "metadata": {},
     "output_type": "execute_result"
    }
   ],
   "source": [
    "from sklearn.linear_model import LogisticRegression\n",
    "\n",
    "mod = LogisticRegression()\n",
    "mod.fit(X_class_train, y_class_train)\n",
    "print(mod.score(X_class_train, y_class_train))\n",
    "mod.score(X_class_test, y_class_test)"
   ]
  },
  {
   "cell_type": "code",
   "execution_count": 81,
   "metadata": {},
   "outputs": [
    {
     "name": "stdout",
     "output_type": "stream",
     "text": [
      "0.9368932038834952\n",
      "0.970873786407767\n"
     ]
    },
    {
     "data": {
      "text/plain": [
       "<matplotlib.legend.Legend at 0x2c8d25b7f70>"
      ]
     },
     "execution_count": 81,
     "metadata": {},
     "output_type": "execute_result"
    },
    {
     "data": {
      "image/png": "[encoded data removed]",
      "text/plain": [
       "<Figure size 640x480 with 1 Axes>"
      ]
     },
     "metadata": {},
     "output_type": "display_data"
    }
   ],
   "source": [
    "# Predict between Just correct left and correct right\n",
    "X_class_train01 = X_class_train[((y_class_train==0) | (y_class_train==1))]\n",
    "y_class_train01 = y_class_train[((y_class_train==0) | (y_class_train==1))]\n",
    "X_class_test01 = X_class_test[((y_class_test==0) | (y_class_test==1))]\n",
    "y_class_test01 = y_class_test[((y_class_test==0) | (y_class_test==1))]\n",
    "\n",
    "\n",
    "mod = LogisticRegression()\n",
    "mod.fit(X_class_train01, y_class_train01)\n",
    "print(mod.score(X_class_train01, y_class_train01))\n",
    "print(mod.score(X_class_test01, y_class_test01))\n",
    "\n",
    "plt.scatter(X_class_train[y_class_train==0][:, 0], X_class_train[y_class_train==0][:, 1], color='blue', label='Wheel Turned Right')\n",
    "plt.scatter(X_class_train[y_class_train==1][:, 0], X_class_train[y_class_train==1][:, 1], color='red', label='Wheel Turned Left')\n",
    "plt.xlabel('Latent Variable 1')\n",
    "plt.ylabel('Latent Variable 2')\n",
    "plt.title('Latent Variables at Time=100ms')\n",
    "plt.legend()"
   ]
  },
  {
   "cell_type": "code",
   "execution_count": 83,
   "metadata": {},
   "outputs": [
    {
     "name": "stdout",
     "output_type": "stream",
     "text": [
      "0.8907563025210085\n",
      "0.8135593220338984\n"
     ]
    },
    {
     "data": {
      "text/plain": [
       "<matplotlib.legend.Legend at 0x2c8f9d74460>"
      ]
     },
     "execution_count": 83,
     "metadata": {},
     "output_type": "execute_result"
    },
    {
     "data": {
      "image/png": "[encoded data removed]",
      "text/plain": [
       "<Figure size 640x480 with 1 Axes>"
      ]
     },
     "metadata": {},
     "output_type": "display_data"
    }
   ],
   "source": [
    "# Predict between Just correct right and incorrect right. Obtains a low accuracy compared to baseline\n",
    "X_class_train02 = X_class_train[((y_class_train==0) | (y_class_train==2))]\n",
    "y_class_train02 = y_class_train[((y_class_train==0) | (y_class_train==2))]\n",
    "X_class_test02 = X_class_test[((y_class_test==0) | (y_class_test==2))]\n",
    "y_class_test02 = y_class_test[((y_class_test==0) | (y_class_test==2))]\n",
    "\n",
    "\n",
    "mod = LogisticRegression()\n",
    "mod.fit(X_class_train02, y_class_train02)\n",
    "print(mod.score(X_class_train02, y_class_train02))\n",
    "print(mod.score(X_class_test02, y_class_test02)) # is 1 because the test set is unbalanced\n",
    "\n",
    "plt.scatter(X_class_train02[:, 0], X_class_train02[:, 1], color=np.array(['blue', 'red', 'green', 'black'])[y_class_train02])\n",
    "plt.scatter(X_class_train[y_class_train==0][:, 0], X_class_train[y_class_train==0][:, 1], color='blue', label='Wheel Turned Right Correctly')\n",
    "plt.scatter(X_class_train[y_class_train==2][:, 0], X_class_train[y_class_train==2][:, 1], color='red', label='Wheel Turned Right Incorrectly')\n",
    "plt.xlabel('Latent Variable 1')\n",
    "plt.ylabel('Latent Variable 2')\n",
    "plt.title('Latent Variables at Time=100ms')\n",
    "plt.legend()"
   ]
  },
  {
   "cell_type": "code",
   "execution_count": 23,
   "metadata": {},
   "outputs": [
    {
     "name": "stdout",
     "output_type": "stream",
     "text": [
      "0.8978102189781022\n",
      "0.8333333333333334\n"
     ]
    },
    {
     "data": {
      "text/plain": [
       "<matplotlib.collections.PathCollection at 0x2c8d25d0d00>"
      ]
     },
     "execution_count": 23,
     "metadata": {},
     "output_type": "execute_result"
    },
    {
     "data": {
      "image/png": "[encoded data removed]",
      "text/plain": [
       "<Figure size 640x480 with 1 Axes>"
      ]
     },
     "metadata": {},
     "output_type": "display_data"
    }
   ],
   "source": [
    "# Predict between correct left and incorrect right\n",
    "X_class_train03 = X_class_train[((y_class_train==0) | (y_class_train==3))]\n",
    "y_class_train03 = y_class_train[((y_class_train==0) | (y_class_train==3))]\n",
    "X_class_test03 = X_class_test[((y_class_test==0) | (y_class_test==3))]\n",
    "y_class_test03 = y_class_test[((y_class_test==0) | (y_class_test==3))]\n",
    "\n",
    "\n",
    "mod = LogisticRegression()\n",
    "mod.fit(X_class_train03, y_class_train03)\n",
    "print(mod.score(X_class_train03, y_class_train03))\n",
    "print(mod.score(X_class_test03, y_class_test03))\n",
    "\n",
    "plt.scatter(X_class_train03[:, 0], X_class_train03[:, 1], color=np.array(['blue', 'red', 'green', 'black'])[y_class_train03])"
   ]
  },
  {
   "cell_type": "code",
   "execution_count": null,
   "metadata": {},
   "outputs": [],
   "source": []
  }
 ],
 "metadata": {
  "kernelspec": {
   "display_name": "lvmworkshop",
   "language": "python",
   "name": "python3"
  },
  "language_info": {
   "codemirror_mode": {
    "name": "ipython",
    "version": 3
   },
   "file_extension": ".py",
   "mimetype": "text/x-python",
   "name": "python",
   "nbconvert_exporter": "python",
   "pygments_lexer": "ipython3",
   "version": "3.10.9"
  },
  "orig_nbformat": 4,
  "vscode": {
   "interpreter": {
    "hash": "9b8418c4985357328b3b0db96bff5517370737435a8b507e68c7c3d1c4733aba"
   }
  }
 },
 "nbformat": 4,
 "nbformat_minor": 2
}
